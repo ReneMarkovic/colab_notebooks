{
  "nbformat": 4,
  "nbformat_minor": 0,
  "metadata": {
    "colab": {
      "provenance": [],
      "authorship_tag": "ABX9TyPwroZ3JmetuRtxaIg+gB6F",
      "include_colab_link": true
    },
    "kernelspec": {
      "name": "python3",
      "display_name": "Python 3"
    },
    "language_info": {
      "name": "python"
    },
    "widgets": {
      "application/vnd.jupyter.widget-state+json": {
        "f25d556220704aeba191abf64bd383e2": {
          "model_module": "@jupyter-widgets/controls",
          "model_name": "HBoxModel",
          "model_module_version": "1.5.0",
          "state": {
            "_dom_classes": [],
            "_model_module": "@jupyter-widgets/controls",
            "_model_module_version": "1.5.0",
            "_model_name": "HBoxModel",
            "_view_count": null,
            "_view_module": "@jupyter-widgets/controls",
            "_view_module_version": "1.5.0",
            "_view_name": "HBoxView",
            "box_style": "",
            "children": [
              "IPY_MODEL_7141429b09324a0bab875e4223fa5634",
              "IPY_MODEL_3c761981383940398c03703a284782a0",
              "IPY_MODEL_7a083777761d4cfda768101661381a63"
            ],
            "layout": "IPY_MODEL_5058af95ddce4bd08038c28de6248258"
          }
        },
        "7141429b09324a0bab875e4223fa5634": {
          "model_module": "@jupyter-widgets/controls",
          "model_name": "HTMLModel",
          "model_module_version": "1.5.0",
          "state": {
            "_dom_classes": [],
            "_model_module": "@jupyter-widgets/controls",
            "_model_module_version": "1.5.0",
            "_model_name": "HTMLModel",
            "_view_count": null,
            "_view_module": "@jupyter-widgets/controls",
            "_view_module_version": "1.5.0",
            "_view_name": "HTMLView",
            "description": "",
            "description_tooltip": null,
            "layout": "IPY_MODEL_cb942a14c6a445d0ade166f5382f86eb",
            "placeholder": "​",
            "style": "IPY_MODEL_91facaf0a4884839af0ebd65b1e08279",
            "value": "100%"
          }
        },
        "3c761981383940398c03703a284782a0": {
          "model_module": "@jupyter-widgets/controls",
          "model_name": "FloatProgressModel",
          "model_module_version": "1.5.0",
          "state": {
            "_dom_classes": [],
            "_model_module": "@jupyter-widgets/controls",
            "_model_module_version": "1.5.0",
            "_model_name": "FloatProgressModel",
            "_view_count": null,
            "_view_module": "@jupyter-widgets/controls",
            "_view_module_version": "1.5.0",
            "_view_name": "ProgressView",
            "bar_style": "success",
            "description": "",
            "description_tooltip": null,
            "layout": "IPY_MODEL_5417854e05bc4f65a47eaf4789d6e6bb",
            "max": 365,
            "min": 0,
            "orientation": "horizontal",
            "style": "IPY_MODEL_f78fb3e2f34e4730817af1922976f3c8",
            "value": 365
          }
        },
        "7a083777761d4cfda768101661381a63": {
          "model_module": "@jupyter-widgets/controls",
          "model_name": "HTMLModel",
          "model_module_version": "1.5.0",
          "state": {
            "_dom_classes": [],
            "_model_module": "@jupyter-widgets/controls",
            "_model_module_version": "1.5.0",
            "_model_name": "HTMLModel",
            "_view_count": null,
            "_view_module": "@jupyter-widgets/controls",
            "_view_module_version": "1.5.0",
            "_view_name": "HTMLView",
            "description": "",
            "description_tooltip": null,
            "layout": "IPY_MODEL_03971cd375274e30b0b3c9b114e3c0db",
            "placeholder": "​",
            "style": "IPY_MODEL_e3048b1d173f48ef9f0d418b4b2fb3ac",
            "value": " 365/365 [00:49&lt;00:00,  8.81it/s]"
          }
        },
        "5058af95ddce4bd08038c28de6248258": {
          "model_module": "@jupyter-widgets/base",
          "model_name": "LayoutModel",
          "model_module_version": "1.2.0",
          "state": {
            "_model_module": "@jupyter-widgets/base",
            "_model_module_version": "1.2.0",
            "_model_name": "LayoutModel",
            "_view_count": null,
            "_view_module": "@jupyter-widgets/base",
            "_view_module_version": "1.2.0",
            "_view_name": "LayoutView",
            "align_content": null,
            "align_items": null,
            "align_self": null,
            "border": null,
            "bottom": null,
            "display": null,
            "flex": null,
            "flex_flow": null,
            "grid_area": null,
            "grid_auto_columns": null,
            "grid_auto_flow": null,
            "grid_auto_rows": null,
            "grid_column": null,
            "grid_gap": null,
            "grid_row": null,
            "grid_template_areas": null,
            "grid_template_columns": null,
            "grid_template_rows": null,
            "height": null,
            "justify_content": null,
            "justify_items": null,
            "left": null,
            "margin": null,
            "max_height": null,
            "max_width": null,
            "min_height": null,
            "min_width": null,
            "object_fit": null,
            "object_position": null,
            "order": null,
            "overflow": null,
            "overflow_x": null,
            "overflow_y": null,
            "padding": null,
            "right": null,
            "top": null,
            "visibility": null,
            "width": null
          }
        },
        "cb942a14c6a445d0ade166f5382f86eb": {
          "model_module": "@jupyter-widgets/base",
          "model_name": "LayoutModel",
          "model_module_version": "1.2.0",
          "state": {
            "_model_module": "@jupyter-widgets/base",
            "_model_module_version": "1.2.0",
            "_model_name": "LayoutModel",
            "_view_count": null,
            "_view_module": "@jupyter-widgets/base",
            "_view_module_version": "1.2.0",
            "_view_name": "LayoutView",
            "align_content": null,
            "align_items": null,
            "align_self": null,
            "border": null,
            "bottom": null,
            "display": null,
            "flex": null,
            "flex_flow": null,
            "grid_area": null,
            "grid_auto_columns": null,
            "grid_auto_flow": null,
            "grid_auto_rows": null,
            "grid_column": null,
            "grid_gap": null,
            "grid_row": null,
            "grid_template_areas": null,
            "grid_template_columns": null,
            "grid_template_rows": null,
            "height": null,
            "justify_content": null,
            "justify_items": null,
            "left": null,
            "margin": null,
            "max_height": null,
            "max_width": null,
            "min_height": null,
            "min_width": null,
            "object_fit": null,
            "object_position": null,
            "order": null,
            "overflow": null,
            "overflow_x": null,
            "overflow_y": null,
            "padding": null,
            "right": null,
            "top": null,
            "visibility": null,
            "width": null
          }
        },
        "91facaf0a4884839af0ebd65b1e08279": {
          "model_module": "@jupyter-widgets/controls",
          "model_name": "DescriptionStyleModel",
          "model_module_version": "1.5.0",
          "state": {
            "_model_module": "@jupyter-widgets/controls",
            "_model_module_version": "1.5.0",
            "_model_name": "DescriptionStyleModel",
            "_view_count": null,
            "_view_module": "@jupyter-widgets/base",
            "_view_module_version": "1.2.0",
            "_view_name": "StyleView",
            "description_width": ""
          }
        },
        "5417854e05bc4f65a47eaf4789d6e6bb": {
          "model_module": "@jupyter-widgets/base",
          "model_name": "LayoutModel",
          "model_module_version": "1.2.0",
          "state": {
            "_model_module": "@jupyter-widgets/base",
            "_model_module_version": "1.2.0",
            "_model_name": "LayoutModel",
            "_view_count": null,
            "_view_module": "@jupyter-widgets/base",
            "_view_module_version": "1.2.0",
            "_view_name": "LayoutView",
            "align_content": null,
            "align_items": null,
            "align_self": null,
            "border": null,
            "bottom": null,
            "display": null,
            "flex": null,
            "flex_flow": null,
            "grid_area": null,
            "grid_auto_columns": null,
            "grid_auto_flow": null,
            "grid_auto_rows": null,
            "grid_column": null,
            "grid_gap": null,
            "grid_row": null,
            "grid_template_areas": null,
            "grid_template_columns": null,
            "grid_template_rows": null,
            "height": null,
            "justify_content": null,
            "justify_items": null,
            "left": null,
            "margin": null,
            "max_height": null,
            "max_width": null,
            "min_height": null,
            "min_width": null,
            "object_fit": null,
            "object_position": null,
            "order": null,
            "overflow": null,
            "overflow_x": null,
            "overflow_y": null,
            "padding": null,
            "right": null,
            "top": null,
            "visibility": null,
            "width": null
          }
        },
        "f78fb3e2f34e4730817af1922976f3c8": {
          "model_module": "@jupyter-widgets/controls",
          "model_name": "ProgressStyleModel",
          "model_module_version": "1.5.0",
          "state": {
            "_model_module": "@jupyter-widgets/controls",
            "_model_module_version": "1.5.0",
            "_model_name": "ProgressStyleModel",
            "_view_count": null,
            "_view_module": "@jupyter-widgets/base",
            "_view_module_version": "1.2.0",
            "_view_name": "StyleView",
            "bar_color": null,
            "description_width": ""
          }
        },
        "03971cd375274e30b0b3c9b114e3c0db": {
          "model_module": "@jupyter-widgets/base",
          "model_name": "LayoutModel",
          "model_module_version": "1.2.0",
          "state": {
            "_model_module": "@jupyter-widgets/base",
            "_model_module_version": "1.2.0",
            "_model_name": "LayoutModel",
            "_view_count": null,
            "_view_module": "@jupyter-widgets/base",
            "_view_module_version": "1.2.0",
            "_view_name": "LayoutView",
            "align_content": null,
            "align_items": null,
            "align_self": null,
            "border": null,
            "bottom": null,
            "display": null,
            "flex": null,
            "flex_flow": null,
            "grid_area": null,
            "grid_auto_columns": null,
            "grid_auto_flow": null,
            "grid_auto_rows": null,
            "grid_column": null,
            "grid_gap": null,
            "grid_row": null,
            "grid_template_areas": null,
            "grid_template_columns": null,
            "grid_template_rows": null,
            "height": null,
            "justify_content": null,
            "justify_items": null,
            "left": null,
            "margin": null,
            "max_height": null,
            "max_width": null,
            "min_height": null,
            "min_width": null,
            "object_fit": null,
            "object_position": null,
            "order": null,
            "overflow": null,
            "overflow_x": null,
            "overflow_y": null,
            "padding": null,
            "right": null,
            "top": null,
            "visibility": null,
            "width": null
          }
        },
        "e3048b1d173f48ef9f0d418b4b2fb3ac": {
          "model_module": "@jupyter-widgets/controls",
          "model_name": "DescriptionStyleModel",
          "model_module_version": "1.5.0",
          "state": {
            "_model_module": "@jupyter-widgets/controls",
            "_model_module_version": "1.5.0",
            "_model_name": "DescriptionStyleModel",
            "_view_count": null,
            "_view_module": "@jupyter-widgets/base",
            "_view_module_version": "1.2.0",
            "_view_name": "StyleView",
            "description_width": ""
          }
        },
        "c4a1d3460a524e14a41769cca3e3b42b": {
          "model_module": "@jupyter-widgets/controls",
          "model_name": "HBoxModel",
          "model_module_version": "1.5.0",
          "state": {
            "_dom_classes": [],
            "_model_module": "@jupyter-widgets/controls",
            "_model_module_version": "1.5.0",
            "_model_name": "HBoxModel",
            "_view_count": null,
            "_view_module": "@jupyter-widgets/controls",
            "_view_module_version": "1.5.0",
            "_view_name": "HBoxView",
            "box_style": "",
            "children": [
              "IPY_MODEL_44fdc3ba97d742ae8386f42346947a94",
              "IPY_MODEL_cb389096bbbb4796b673d3591589711b",
              "IPY_MODEL_82bb70fe07484c58973fcdfff313e945"
            ],
            "layout": "IPY_MODEL_5e06af03292f43c9862fdece06646a74"
          }
        },
        "44fdc3ba97d742ae8386f42346947a94": {
          "model_module": "@jupyter-widgets/controls",
          "model_name": "HTMLModel",
          "model_module_version": "1.5.0",
          "state": {
            "_dom_classes": [],
            "_model_module": "@jupyter-widgets/controls",
            "_model_module_version": "1.5.0",
            "_model_name": "HTMLModel",
            "_view_count": null,
            "_view_module": "@jupyter-widgets/controls",
            "_view_module_version": "1.5.0",
            "_view_name": "HTMLView",
            "description": "",
            "description_tooltip": null,
            "layout": "IPY_MODEL_59f7cf8cddc0406d8797da0d46e879a1",
            "placeholder": "​",
            "style": "IPY_MODEL_f9f3681d761b49d19d5400e207327f66",
            "value": "100%"
          }
        },
        "cb389096bbbb4796b673d3591589711b": {
          "model_module": "@jupyter-widgets/controls",
          "model_name": "FloatProgressModel",
          "model_module_version": "1.5.0",
          "state": {
            "_dom_classes": [],
            "_model_module": "@jupyter-widgets/controls",
            "_model_module_version": "1.5.0",
            "_model_name": "FloatProgressModel",
            "_view_count": null,
            "_view_module": "@jupyter-widgets/controls",
            "_view_module_version": "1.5.0",
            "_view_name": "ProgressView",
            "bar_style": "success",
            "description": "",
            "description_tooltip": null,
            "layout": "IPY_MODEL_f0e7b22ec9fb43489432107335492d57",
            "max": 365,
            "min": 0,
            "orientation": "horizontal",
            "style": "IPY_MODEL_db627ae9152e4fe09ddd25ddd39f3597",
            "value": 365
          }
        },
        "82bb70fe07484c58973fcdfff313e945": {
          "model_module": "@jupyter-widgets/controls",
          "model_name": "HTMLModel",
          "model_module_version": "1.5.0",
          "state": {
            "_dom_classes": [],
            "_model_module": "@jupyter-widgets/controls",
            "_model_module_version": "1.5.0",
            "_model_name": "HTMLModel",
            "_view_count": null,
            "_view_module": "@jupyter-widgets/controls",
            "_view_module_version": "1.5.0",
            "_view_name": "HTMLView",
            "description": "",
            "description_tooltip": null,
            "layout": "IPY_MODEL_d752a15d6f31421981450436a6c264d3",
            "placeholder": "​",
            "style": "IPY_MODEL_a53672abf84542309f1f0a1f04cfbb07",
            "value": " 365/365 [00:03&lt;00:00, 98.68it/s]"
          }
        },
        "5e06af03292f43c9862fdece06646a74": {
          "model_module": "@jupyter-widgets/base",
          "model_name": "LayoutModel",
          "model_module_version": "1.2.0",
          "state": {
            "_model_module": "@jupyter-widgets/base",
            "_model_module_version": "1.2.0",
            "_model_name": "LayoutModel",
            "_view_count": null,
            "_view_module": "@jupyter-widgets/base",
            "_view_module_version": "1.2.0",
            "_view_name": "LayoutView",
            "align_content": null,
            "align_items": null,
            "align_self": null,
            "border": null,
            "bottom": null,
            "display": null,
            "flex": null,
            "flex_flow": null,
            "grid_area": null,
            "grid_auto_columns": null,
            "grid_auto_flow": null,
            "grid_auto_rows": null,
            "grid_column": null,
            "grid_gap": null,
            "grid_row": null,
            "grid_template_areas": null,
            "grid_template_columns": null,
            "grid_template_rows": null,
            "height": null,
            "justify_content": null,
            "justify_items": null,
            "left": null,
            "margin": null,
            "max_height": null,
            "max_width": null,
            "min_height": null,
            "min_width": null,
            "object_fit": null,
            "object_position": null,
            "order": null,
            "overflow": null,
            "overflow_x": null,
            "overflow_y": null,
            "padding": null,
            "right": null,
            "top": null,
            "visibility": null,
            "width": null
          }
        },
        "59f7cf8cddc0406d8797da0d46e879a1": {
          "model_module": "@jupyter-widgets/base",
          "model_name": "LayoutModel",
          "model_module_version": "1.2.0",
          "state": {
            "_model_module": "@jupyter-widgets/base",
            "_model_module_version": "1.2.0",
            "_model_name": "LayoutModel",
            "_view_count": null,
            "_view_module": "@jupyter-widgets/base",
            "_view_module_version": "1.2.0",
            "_view_name": "LayoutView",
            "align_content": null,
            "align_items": null,
            "align_self": null,
            "border": null,
            "bottom": null,
            "display": null,
            "flex": null,
            "flex_flow": null,
            "grid_area": null,
            "grid_auto_columns": null,
            "grid_auto_flow": null,
            "grid_auto_rows": null,
            "grid_column": null,
            "grid_gap": null,
            "grid_row": null,
            "grid_template_areas": null,
            "grid_template_columns": null,
            "grid_template_rows": null,
            "height": null,
            "justify_content": null,
            "justify_items": null,
            "left": null,
            "margin": null,
            "max_height": null,
            "max_width": null,
            "min_height": null,
            "min_width": null,
            "object_fit": null,
            "object_position": null,
            "order": null,
            "overflow": null,
            "overflow_x": null,
            "overflow_y": null,
            "padding": null,
            "right": null,
            "top": null,
            "visibility": null,
            "width": null
          }
        },
        "f9f3681d761b49d19d5400e207327f66": {
          "model_module": "@jupyter-widgets/controls",
          "model_name": "DescriptionStyleModel",
          "model_module_version": "1.5.0",
          "state": {
            "_model_module": "@jupyter-widgets/controls",
            "_model_module_version": "1.5.0",
            "_model_name": "DescriptionStyleModel",
            "_view_count": null,
            "_view_module": "@jupyter-widgets/base",
            "_view_module_version": "1.2.0",
            "_view_name": "StyleView",
            "description_width": ""
          }
        },
        "f0e7b22ec9fb43489432107335492d57": {
          "model_module": "@jupyter-widgets/base",
          "model_name": "LayoutModel",
          "model_module_version": "1.2.0",
          "state": {
            "_model_module": "@jupyter-widgets/base",
            "_model_module_version": "1.2.0",
            "_model_name": "LayoutModel",
            "_view_count": null,
            "_view_module": "@jupyter-widgets/base",
            "_view_module_version": "1.2.0",
            "_view_name": "LayoutView",
            "align_content": null,
            "align_items": null,
            "align_self": null,
            "border": null,
            "bottom": null,
            "display": null,
            "flex": null,
            "flex_flow": null,
            "grid_area": null,
            "grid_auto_columns": null,
            "grid_auto_flow": null,
            "grid_auto_rows": null,
            "grid_column": null,
            "grid_gap": null,
            "grid_row": null,
            "grid_template_areas": null,
            "grid_template_columns": null,
            "grid_template_rows": null,
            "height": null,
            "justify_content": null,
            "justify_items": null,
            "left": null,
            "margin": null,
            "max_height": null,
            "max_width": null,
            "min_height": null,
            "min_width": null,
            "object_fit": null,
            "object_position": null,
            "order": null,
            "overflow": null,
            "overflow_x": null,
            "overflow_y": null,
            "padding": null,
            "right": null,
            "top": null,
            "visibility": null,
            "width": null
          }
        },
        "db627ae9152e4fe09ddd25ddd39f3597": {
          "model_module": "@jupyter-widgets/controls",
          "model_name": "ProgressStyleModel",
          "model_module_version": "1.5.0",
          "state": {
            "_model_module": "@jupyter-widgets/controls",
            "_model_module_version": "1.5.0",
            "_model_name": "ProgressStyleModel",
            "_view_count": null,
            "_view_module": "@jupyter-widgets/base",
            "_view_module_version": "1.2.0",
            "_view_name": "StyleView",
            "bar_color": null,
            "description_width": ""
          }
        },
        "d752a15d6f31421981450436a6c264d3": {
          "model_module": "@jupyter-widgets/base",
          "model_name": "LayoutModel",
          "model_module_version": "1.2.0",
          "state": {
            "_model_module": "@jupyter-widgets/base",
            "_model_module_version": "1.2.0",
            "_model_name": "LayoutModel",
            "_view_count": null,
            "_view_module": "@jupyter-widgets/base",
            "_view_module_version": "1.2.0",
            "_view_name": "LayoutView",
            "align_content": null,
            "align_items": null,
            "align_self": null,
            "border": null,
            "bottom": null,
            "display": null,
            "flex": null,
            "flex_flow": null,
            "grid_area": null,
            "grid_auto_columns": null,
            "grid_auto_flow": null,
            "grid_auto_rows": null,
            "grid_column": null,
            "grid_gap": null,
            "grid_row": null,
            "grid_template_areas": null,
            "grid_template_columns": null,
            "grid_template_rows": null,
            "height": null,
            "justify_content": null,
            "justify_items": null,
            "left": null,
            "margin": null,
            "max_height": null,
            "max_width": null,
            "min_height": null,
            "min_width": null,
            "object_fit": null,
            "object_position": null,
            "order": null,
            "overflow": null,
            "overflow_x": null,
            "overflow_y": null,
            "padding": null,
            "right": null,
            "top": null,
            "visibility": null,
            "width": null
          }
        },
        "a53672abf84542309f1f0a1f04cfbb07": {
          "model_module": "@jupyter-widgets/controls",
          "model_name": "DescriptionStyleModel",
          "model_module_version": "1.5.0",
          "state": {
            "_model_module": "@jupyter-widgets/controls",
            "_model_module_version": "1.5.0",
            "_model_name": "DescriptionStyleModel",
            "_view_count": null,
            "_view_module": "@jupyter-widgets/base",
            "_view_module_version": "1.2.0",
            "_view_name": "StyleView",
            "description_width": ""
          }
        }
      }
    }
  },
  "cells": [
    {
      "cell_type": "markdown",
      "metadata": {
        "id": "view-in-github",
        "colab_type": "text"
      },
      "source": [
        "<a href=\"https://colab.research.google.com/github/ReneMarkovic/colab_notebooks/blob/main/Didaktika_astronomije.ipynb\" target=\"_parent\"><img src=\"https://colab.research.google.com/assets/colab-badge.svg\" alt=\"Open In Colab\"/></a>"
      ]
    },
    {
      "cell_type": "markdown",
      "source": [
        "# Osnove Jupyter Notebook-a\n",
        "\n",
        "Jupyter Notebook, kot ga uporablja tudi Google Colab, je interaktivno okolje, ki omogoča kombiniranje programske kode, besedilnih razlag, grafov, tabel, in celo multimedijskih vsebin v eni sami datoteki – beležnici (notebook). V osnovi v beležnici uporabljamo dve vrsti celic (cells), namreč kodne celice in besedilne celice. V nadaljevanju se bomo posvetili posamezni vrsti celic in predstavili funkcionalnosti, ki jih te celice imajo."
      ],
      "metadata": {
        "id": "GbZvZCweYVdp"
      }
    },
    {
      "cell_type": "markdown",
      "source": [
        "## Besedilne celice\n",
        "\n",
        "\n",
        "Ustvari besedilno celico, v katero vključiš naslov 2. stopnje \"Moja prva analiza\". V tej celici ustvari kratek odstavek o zvezdah z nekaj krepko označenimi besedami. Izhajaš lahko iz besedila dostopno na strani https://sl.wikipedia.org/wiki/Zvezda.\n",
        "Za odstavkom ustvari urejen seznam s tremi značilnostmi zvezd. Nato prikaži sliko, ki je dostopna na povezavi https://sl.wikipedia.org/wiki/Zvezda#/media/Slika:H-R_diagram_-edited-3.gif ter dodaj povezavo na članek https://www.aanda.org/articles/aa/full_html/2014/04/aa23374-14/aa23374-14.html. Sledi še video, ki podaja razlago o H-R diagramih https://www.youtube.com/watch?v=VlbmPj74rpY&ab_channel=LearntheSky.\n"
      ],
      "metadata": {
        "id": "tpQ-VrmEYcc2"
      }
    },
    {
      "cell_type": "markdown",
      "source": [
        "### Moja prva analiza\n",
        "\n",
        "**Zvezde** so ogromne plinske krogle, ki večino svojega življenja preživijo v ravnovesju med gravitacijo in notranjim pritiskom, ki nastane zaradi **jedrskih reakcij**. Večinoma so sestavljene iz **vodika in helija**, njihovo svetlost pa zaznavamo na različne načine glede na njihovo oddaljenost, temperaturo in maso. Zvezde so ključni objekti v razumevanju **nastanka in razvoja vesolja**.\n",
        "\n",
        "#### Tri značilnosti zvezd:\n",
        "1. Imajo različno **temperaturo**, ki določa njihovo barvo.\n",
        "2. Razlikujejo se po **svetilnosti** in velikosti.\n",
        "3. Nahajajo se v različnih **fazah življenjskega cikla** (npr. glavno zaporedje, rdeča orjakinja, bela pritlikavka).\n",
        "\n",
        "![H-R diagram](https://upload.wikimedia.org/wikipedia/commons/7/78/H-R_diagram_-edited-3.gif)\n",
        "\n",
        "[Znanstveni članek o zvezdnih parametrih (A&A, 2014)](https://www.aanda.org/articles/aa/full_html/2014/04/aa23374-14/aa23374-14.html)\n",
        "\n",
        "[🎞️ Razlagao HR diagramov](https://www.youtube.com/watch?v=VlbmPj74rpY&ab_channel=LearntheSky)"
      ],
      "metadata": {
        "id": "9tEVfDx1Yk06"
      }
    },
    {
      "cell_type": "code",
      "source": [
        "from IPython.display import YouTubeVideo\n",
        "YouTubeVideo('VlbmPj74rpY', width=640, height=360)"
      ],
      "metadata": {
        "colab": {
          "base_uri": "https://localhost:8080/",
          "height": 382
        },
        "id": "JXpmL1vaZeiy",
        "outputId": "8bbfadda-5bfb-49c9-ed48-666a4aeb6a56"
      },
      "execution_count": null,
      "outputs": [
        {
          "output_type": "execute_result",
          "data": {
            "text/plain": [
              "<IPython.lib.display.YouTubeVideo at 0x7b03d2c97010>"
            ],
            "text/html": [
              "\n",
              "        <iframe\n",
              "            width=\"640\"\n",
              "            height=\"360\"\n",
              "            src=\"https://www.youtube.com/embed/VlbmPj74rpY\"\n",
              "            frameborder=\"0\"\n",
              "            allowfullscreen\n",
              "            \n",
              "        ></iframe>\n",
              "        "
            ],
            "image/jpeg": "[encoded data removed]"
          },
          "metadata": {},
          "execution_count": 1
        }
      ]
    },
    {
      "cell_type": "markdown",
      "source": [
        "## Kodne celice\n",
        "\n",
        "Kodne celice predstavljajo osnovni gradnik Python beležnice. V njih zapisujemo izvajalno kodo, ki se izvede ob pritisku na kombinacijo tipk Shift + Enter ali s klikom na gumb za zagon celice. Vsebina je lahko poljubna Python koda: od preprostih izračunov do uvoza knjižnic, definiranja funkcij, uporabe zank, vizualizacije podatkov in še več. Ko se celica izvede, se rezultat prikaže neposredno pod njo.\n",
        "\n",
        "Pomembno je poudariti, da si vse kodne celice delijo isti pomnilniški prostor, kar pomeni, da so enkrat definirane spremenljivke ali funkcije dostopne tudi v drugih celicah, dokler ne ponastavimo okolja ali znova zaženemo beležnice. V kodnih celicah lahko dodajamo komentarje z znakom #, s čimer lahko opremimo kodo z razlagami, kar je ključnega pomena za preglednost in razumevanje lastnih skript.\n",
        "\n",
        "Poleg izvajanja Python kode omogoča Colab tudi neposreden dostop do terminalskih ukazov, kot bi jih izvajali v ukazni vrstici operacijskega sistema Linux. To dosežemo tako, da pred ukaz napišemo klicaj. Na ta način lahko nameščamo knjižnice, prenašamo podatke s spleta, brišemo ali pregledujemo datoteke ter izvajamo druge sistemske operacije. Na primer, ukaz !pip install astropy namesti knjižnico Astropy, !wget omogoča prenos datotek s spleta, !ls pa izpiše vsebino trenutne delovne mape.\n",
        "\n",
        "Ta možnost naredi Colab zelo fleksibilno orodje, saj omogoča združevanje podatkovne analize, programiranja in nadzora nad okoljem v enem samem vmesniku, kar je še posebej uporabno pri simulacijah in vizualizacijah, kot jih bomo izvajali pri astronomskih vajah.\n"
      ],
      "metadata": {
        "id": "O3Giqn28aDvZ"
      }
    },
    {
      "cell_type": "markdown",
      "source": [
        "### 📘 Primer 1: Osnovni izračun in uporaba spremenljivk"
      ],
      "metadata": {
        "id": "KMY4tlxxbevG"
      }
    },
    {
      "cell_type": "code",
      "execution_count": null,
      "metadata": {
        "id": "Zp6pT8QJPqkP",
        "colab": {
          "base_uri": "https://localhost:8080/"
        },
        "outputId": "7b52eee7-66af-4433-e8c5-92c1774746a1"
      },
      "outputs": [
        {
          "output_type": "stream",
          "name": "stdout",
          "text": [
            "Zvezda Sirius ima navidezno magnitudo: -1.46\n"
          ]
        }
      ],
      "source": [
        "# Osnovna operacija z dodelitvijo spremenljivk\n",
        "zvezda = \"Sirius\"\n",
        "svetlost = -1.46  # magnituda\n",
        "\n",
        "print(\"Zvezda\", zvezda, \"ima navidezno magnitudo:\", svetlost)"
      ]
    },
    {
      "cell_type": "markdown",
      "source": [
        "### 📘 Primer 2: Uporaba knjižnic in matematične funkcije"
      ],
      "metadata": {
        "id": "WS72Pw4YbnWa"
      }
    },
    {
      "cell_type": "code",
      "source": [
        "# Izračun površine krogle s pomočjo knjižnice NumPy\n",
        "import numpy as np\n",
        "\n",
        "r = 1.7  # polmer v sončevih radijih\n",
        "A = 4 * np.pi * r**2\n",
        "\n",
        "print(\"Površina zvezde s polmerom\", r, \"je\", round(A, 2), \"v enotah R☉²\")"
      ],
      "metadata": {
        "colab": {
          "base_uri": "https://localhost:8080/"
        },
        "id": "tUbTSzB3bkUf",
        "outputId": "1d160590-f125-404b-9e00-e98380b9cad2"
      },
      "execution_count": null,
      "outputs": [
        {
          "output_type": "stream",
          "name": "stdout",
          "text": [
            "Površina zvezde s polmerom 1.7 je 36.32 v enotah R☉²\n"
          ]
        }
      ]
    },
    {
      "cell_type": "markdown",
      "source": [
        "### 📘 Primer 3: Definicija funkcije za svetilnost zvezde"
      ],
      "metadata": {
        "id": "Z0Entcx5b4bI"
      }
    },
    {
      "cell_type": "code",
      "source": [
        "# Funkcija, ki izračuna svetilnost zvezde glede na maso (v sončevih masah)\n",
        "def svetilnost(masa):\n",
        "    return masa**3.5\n",
        "\n",
        "M = 2.1\n",
        "L = svetilnost(M)\n",
        "print(\"Zvezda z maso\", M, \"ima svetilnost\", round(L, 2), \"v enotah L☉\")"
      ],
      "metadata": {
        "colab": {
          "base_uri": "https://localhost:8080/"
        },
        "id": "_RmuWjsdbrFk",
        "outputId": "a3c33875-c042-40e5-f0ca-336cf27e7eaf"
      },
      "execution_count": null,
      "outputs": [
        {
          "output_type": "stream",
          "name": "stdout",
          "text": [
            "Zvezda z maso 2.1 ima svetilnost 13.42 v enotah L☉\n"
          ]
        }
      ]
    },
    {
      "cell_type": "markdown",
      "source": [
        "### 📘 Primer 4: Zanka in seznam zvezd"
      ],
      "metadata": {
        "id": "4Wh1WZ-ucD4T"
      }
    },
    {
      "cell_type": "code",
      "source": [
        "# Izpis več zvezd z uporabo seznama in zanke\n",
        "zvezde = [\"Sirius\", \"Betelgeuse\", \"Vega\", \"Rigel\"]\n",
        "\n",
        "for ime in zvezde:\n",
        "    print(\"Analiziramo zvezdo:\", ime)"
      ],
      "metadata": {
        "colab": {
          "base_uri": "https://localhost:8080/"
        },
        "id": "_uLxxjcnb_Xd",
        "outputId": "794748dc-6f37-4849-ac66-871e9362b374"
      },
      "execution_count": null,
      "outputs": [
        {
          "output_type": "stream",
          "name": "stdout",
          "text": [
            "Analiziramo zvezdo: Sirius\n",
            "Analiziramo zvezdo: Betelgeuse\n",
            "Analiziramo zvezdo: Vega\n",
            "Analiziramo zvezdo: Rigel\n"
          ]
        }
      ]
    },
    {
      "cell_type": "markdown",
      "source": [
        "### 📘 Primer 5: Seznam mas, funkcija za svetilnost in prikaz grafa"
      ],
      "metadata": {
        "id": "Gbbkm0dFcV-D"
      }
    },
    {
      "cell_type": "code",
      "source": [
        "import numpy as np\n",
        "import matplotlib.pyplot as plt\n",
        "\n",
        "\n",
        "# Seznam mas zvezd (v enotah sončne mase)\n",
        "mase = [0.5, 0.8, 1.0, 1.2, 1.5, 2.0, 3.0, 5.0, 10.0, 20.0]\n",
        "\n",
        "# Izračun svetilnosti za vsako maso\n",
        "svetilnosti = [svetilnost(m) for m in mase]\n",
        "\n",
        "# Prikaz grafa\n",
        "plt.figure(figsize=(8, 5))\n",
        "plt.plot(mase, svetilnosti, marker='o')\n",
        "plt.title(\"Svetilnost zvezd glede na maso\")\n",
        "plt.xlabel(\"Masa (v enotah M☉)\")\n",
        "plt.ylabel(\"Svetilnost (v enotah L☉)\")\n",
        "plt.grid(True)\n",
        "#plt.yscale('log')  # logaritemska lestvica, ker se svetilnost hitro povečuje\n",
        "#plt.xscale('log')\n",
        "plt.show()"
      ],
      "metadata": {
        "colab": {
          "base_uri": "https://localhost:8080/",
          "height": 487
        },
        "id": "HDttohiccHLo",
        "outputId": "3810b64f-1860-4794-c749-ddb86a1b09f4"
      },
      "execution_count": null,
      "outputs": [
        {
          "output_type": "display_data",
          "data": {
            "text/plain": [
              "<Figure size 800x500 with 1 Axes>"
            ],
            "image/png": "[encoded data removed]"
          },
          "metadata": {}
        }
      ]
    },
    {
      "cell_type": "markdown",
      "source": [
        "### 📘 Primer 6: Prenos podatkov iz spleta"
      ],
      "metadata": {
        "id": "dHPGPECacp9L"
      }
    },
    {
      "cell_type": "code",
      "source": [
        "!wget -O HR_diagram.gif https://upload.wikimedia.org/wikipedia/commons/8/84/H-R_diagram_-edited-3.gif"
      ],
      "metadata": {
        "colab": {
          "base_uri": "https://localhost:8080/"
        },
        "id": "sLw2jMxVcbj0",
        "outputId": "04156d8d-6003-4d6d-aa66-782930dfeec6"
      },
      "execution_count": null,
      "outputs": [
        {
          "output_type": "stream",
          "name": "stdout",
          "text": [
            "--2025-04-09 07:28:30--  https://upload.wikimedia.org/wikipedia/commons/8/84/H-R_diagram_-edited-3.gif\n",
            "Resolving upload.wikimedia.org (upload.wikimedia.org)... 208.80.154.240, 2620:0:861:ed1a::2:b\n",
            "Connecting to upload.wikimedia.org (upload.wikimedia.org)|208.80.154.240|:443... connected.\n",
            "HTTP request sent, awaiting response... 404 Not Found\n",
            "2025-04-09 07:28:30 ERROR 404: Not Found.\n",
            "\n"
          ]
        }
      ]
    },
    {
      "cell_type": "markdown",
      "source": [
        "### 📘 Primer 7: Izpis vsebine trenutne mape"
      ],
      "metadata": {
        "id": "PwHDwlijc5ug"
      }
    },
    {
      "cell_type": "code",
      "source": [
        "# Seznam datotek v trenutni mapi\n",
        "!ls -lh"
      ],
      "metadata": {
        "colab": {
          "base_uri": "https://localhost:8080/"
        },
        "id": "DSJhLNr-c6AN",
        "outputId": "c3bd4aaf-e0ef-481d-be46-dcc783defa9c"
      },
      "execution_count": null,
      "outputs": [
        {
          "output_type": "stream",
          "name": "stdout",
          "text": [
            "total 4.0K\n",
            "-rw-r--r-- 1 root root    0 Apr  9 07:28 HR_diagram.gif\n",
            "drwxr-xr-x 1 root root 4.0K Apr  7 13:43 sample_data\n"
          ]
        }
      ]
    },
    {
      "cell_type": "markdown",
      "source": [
        "### 📘 Primer 8: Nameščanje manjkajočih knjižic"
      ],
      "metadata": {
        "id": "eSHsuE2lck5p"
      }
    },
    {
      "cell_type": "code",
      "source": [
        "!pip install astropy"
      ],
      "metadata": {
        "colab": {
          "base_uri": "https://localhost:8080/"
        },
        "id": "ZPO63vpfcpT0",
        "outputId": "30bd3060-c003-4c98-cee1-fb553428b604"
      },
      "execution_count": null,
      "outputs": [
        {
          "output_type": "stream",
          "name": "stdout",
          "text": [
            "Requirement already satisfied: astropy in /usr/local/lib/python3.11/dist-packages (7.0.1)\n",
            "Requirement already satisfied: numpy>=1.23.2 in /usr/local/lib/python3.11/dist-packages (from astropy) (2.0.2)\n",
            "Requirement already satisfied: pyerfa>=2.0.1.1 in /usr/local/lib/python3.11/dist-packages (from astropy) (2.0.1.5)\n",
            "Requirement already satisfied: astropy-iers-data>=0.2025.1.31.12.41.4 in /usr/local/lib/python3.11/dist-packages (from astropy) (0.2025.3.31.0.36.18)\n",
            "Requirement already satisfied: PyYAML>=6.0.0 in /usr/local/lib/python3.11/dist-packages (from astropy) (6.0.2)\n",
            "Requirement already satisfied: packaging>=22.0.0 in /usr/local/lib/python3.11/dist-packages (from astropy) (24.2)\n"
          ]
        }
      ]
    },
    {
      "cell_type": "markdown",
      "source": [
        "# Astropy"
      ],
      "metadata": {
        "id": "NQ_v21MBdTLm"
      }
    },
    {
      "cell_type": "markdown",
      "source": [
        "Knjižnica Astropy je osrednja Python knjižnica za astronomsko analizo podatkov. Omogoča delo s časom, koordinatnimi sistemi, opazovalnimi lokacijami, katalogi objektov, FITS datotekami in še mnogo več. V okviru teh vaj se bomo osredotočili na delo s koordinatami zvezd, časovnimi oznakami ter vizualizacijo položajev nebesnih teles, zlasti Sonce.\n",
        "\n",
        "Kot prvo uvozimo knjižico in nekaj za nas uporabnih funkcij."
      ],
      "metadata": {
        "id": "xxVe49NPdpmA"
      }
    },
    {
      "cell_type": "code",
      "source": [
        "from astropy.coordinates import SkyCoord, EarthLocation, AltAz, get_sun\n",
        "from astropy.time import Time\n",
        "from astropy import units as u"
      ],
      "metadata": {
        "id": "tYGIFLIsdT97"
      },
      "execution_count": 1,
      "outputs": []
    },
    {
      "cell_type": "markdown",
      "source": [
        "### 🕒 Delo s časom – objekt Time"
      ],
      "metadata": {
        "id": "SfS2XdvOnGYH"
      }
    },
    {
      "cell_type": "code",
      "source": [],
      "metadata": {
        "id": "7y7WXeqSvWXi"
      },
      "execution_count": null,
      "outputs": []
    },
    {
      "cell_type": "markdown",
      "source": [
        "**Julijanski datum**: Šteje dneve in dele dneva (v decimalni obliki) od 1. januarja 4713 pr. n. št. (po proleptičnem julijanskem koledarju). Uporablja se v astronomiji za poenostavljene izračune časovnih razlik.\n",
        "\n",
        "2460416.5 pomeni 16. oktober 2025 ob 12:00:00 UTC (.5 označuje polovico dneva). Začetek dneva (00:00:00 UTC) bi bil 2460416.0. Ne upošteva prestopnih sekund. Osnova za modificirane julijanske datume (npr. MJD = JD − 2400000.5).\n",
        "\n",
        "**Unix čas:** Šteje sekunde od 1. januarja 1970, 00:00:00 UTC (ne upošteva prestopnih sekund). Uporablja se v računalništvu.\n",
        "\n",
        "1763164800 ustreza 16. oktobru 2025 ob 00:00:00 UTC. Če želite točno trenutni Unix čas, lahko v brskalniku vtipkate Date.now() / 1000 (JavaScript). Negativen za datume pred letom 1970.\n",
        "\n",
        "***Max. vrednost za 32-bitne sisteme: 2038-01-19 (težava leta 2038).***\n",
        "\n",
        "**ISO čas:** Standardiziran format datuma in časa (YYYY-MM-DDTHH:MM:SSZ), T ločuje datum in čas. Z označuje UTC (alternativa: +02:00 za časovni pas). 2025-10-16T00:00:00Z pomeni 16. oktober 2025 ob 00:00:00 UTC. Lokalni čas (npr. za Ljubljano): 2025-10-16T02:00:00+02:00. Berljiv za ljudi in strojno obdelavo. Podpira tudi trajanja (npr. PT5H30M za 5 ur in 30 minut).\n",
        "\n",
        "\n"
      ],
      "metadata": {
        "id": "DHYoYJqcvKWP"
      }
    },
    {
      "cell_type": "code",
      "source": [
        "cas = Time(\"2025-04-16 12:00:00\")  # UTC čas\n",
        "\n",
        "print(\"Julijanski datum:\", cas.jd)\n",
        "print(\"Unix čas:\", cas.unix)\n",
        "print(\"Cas v formatu ISO:\", cas.iso)\n"
      ],
      "metadata": {
        "id": "OBxMZGGKnBEu",
        "outputId": "bd867e26-4e97-477d-f5f0-a0c07350090f",
        "colab": {
          "base_uri": "https://localhost:8080/"
        }
      },
      "execution_count": 3,
      "outputs": [
        {
          "output_type": "stream",
          "name": "stdout",
          "text": [
            "Julijanski datum: 2460782.0\n",
            "Unix čas: 1744804800.0\n",
            "Cas v formatu ISO: 2025-04-16 12:00:00.000\n"
          ]
        }
      ]
    },
    {
      "cell_type": "markdown",
      "source": [
        "### 📍 Opazovalna lokacija – objekt EarthLocation\n",
        "\n",
        "Astropy uporablja sistem enot iz astropy.units, zato je potrebno vsako vrednost opremiti z enoto, npr. 45 * u.deg."
      ],
      "metadata": {
        "id": "XmclsRcpnYGY"
      }
    },
    {
      "cell_type": "code",
      "source": [
        "latitute = 46.56 * u.deg\n",
        "longitude = 15.65 * u.deg\n",
        "height = 270 * u.m\n",
        "\n",
        "maribor = EarthLocation(lat = latitute,\n",
        "                        lon = longitude,\n",
        "                        height= height)\n",
        "print(maribor)"
      ],
      "metadata": {
        "id": "afUmgfXjnNgc",
        "outputId": "5271ed62-f481-4361-bc73-e6c9871d5d61",
        "colab": {
          "base_uri": "https://localhost:8080/"
        }
      },
      "execution_count": 4,
      "outputs": [
        {
          "output_type": "stream",
          "name": "stdout",
          "text": [
            "(4230639.243902243, 1185196.4071466008, 4608465.0288450355) m\n"
          ]
        }
      ]
    },
    {
      "cell_type": "code",
      "source": [
        "print(\"Geografska širina:\", maribor.lat)\n",
        "print(\"Geografska dolžina:\", maribor.lon)\n",
        "print(\"Nadmorska višina:\", maribor.height)"
      ],
      "metadata": {
        "colab": {
          "base_uri": "https://localhost:8080/"
        },
        "id": "D7niX84o069t",
        "outputId": "367e8a1e-3322-444e-b025-f8d7357fa1d2"
      },
      "execution_count": 6,
      "outputs": [
        {
          "output_type": "stream",
          "name": "stdout",
          "text": [
            "Geografska širina: 46d33m36s\n",
            "Geografska dolžina: 15d39m00s\n",
            "Nadmorska višina: 270.00000000074687 m\n"
          ]
        }
      ]
    },
    {
      "cell_type": "markdown",
      "source": [
        "### 🌞 Položaj Sonca ob danem času in na dani lokaciji\n",
        "\n",
        "To je osnovni primer, kako izračunamo, kje na nebu se Sonce nahaja ob določenem času za določenega opazovalca. [dokumentacija](https://docs.astropy.org/en/stable/api/astropy.coordinates.AltAz.html)"
      ],
      "metadata": {
        "id": "H_S8iJ2hnvCt"
      }
    },
    {
      "cell_type": "code",
      "source": [
        "cas = Time(\"2025-04-09 06:00:00\")  # UTC čas\n",
        "altaz = AltAz(location=maribor, obstime=cas)\n",
        "sonce = get_sun(cas).transform_to(altaz)\n",
        "print(\"Višina Sonca:\", round(sonce.alt.deg, 2), \"°\", \"Azimut:\", round(sonce.az.deg, 2), \"°\")\n",
        "\n",
        "cas = Time(\"2025-04-09 12:00:00\")  # UTC čas\n",
        "altaz = AltAz(location=maribor, obstime=cas)\n",
        "sonce = get_sun(cas).transform_to(altaz)\n",
        "print(\"Višina Sonca:\", round(sonce.alt.deg, 2), \"°\", \"Azimut:\", round(sonce.az.deg, 2), \"°\")\n",
        "\n",
        "cas = Time(\"2025-04-09 20:00:00\")  # UTC čas\n",
        "altaz = AltAz(location=maribor, obstime=cas)\n",
        "sonce = get_sun(cas).transform_to(altaz)\n",
        "print(\"Višina Sonca:\", round(sonce.alt.deg, 2), \"°\", \"Azimut:\", round(sonce.az.deg, 2), \"°\")"
      ],
      "metadata": {
        "id": "_uA7SgFPndAs",
        "outputId": "e16433ea-ef55-4eb4-e797-63c6498a661a",
        "colab": {
          "base_uri": "https://localhost:8080/"
        }
      },
      "execution_count": 5,
      "outputs": [
        {
          "output_type": "stream",
          "name": "stdout",
          "text": [
            "Višina Sonca: 16.04 ° Azimut: 95.82 °\n",
            "Višina Sonca: 49.06 ° Azimut: 203.48 °\n",
            "Višina Sonca: -22.6 ° Azimut: 311.0 °\n"
          ]
        }
      ]
    },
    {
      "cell_type": "markdown",
      "source": [
        "## Tir Sonca"
      ],
      "metadata": {
        "id": "_kypuvc21NNQ"
      }
    },
    {
      "cell_type": "code",
      "source": [
        "import matplotlib.pyplot as plt\n",
        "\n",
        "ure = [f\"2025-04-09T{h:02d}:00:00\" for h in range(24)]\n",
        "print(ure[0])\n",
        "cas = Time(ure)\n",
        "altaz = AltAz(obstime=cas, location=maribor)\n",
        "sonce = get_sun(cas).transform_to(altaz)\n",
        "\n",
        "plt.figure(figsize=(10, 6))\n",
        "plt.plot(sonce.az.deg, sonce.alt.deg, marker='o')\n",
        "for i, h in enumerate(range(24)):\n",
        "    plt.text(sonce.az.deg[i], sonce.alt.deg[i], str(h), fontsize=8, ha='center', va='bottom')\n",
        "\n",
        "plt.title(\"Tir Sonca na nebu – 9. april 2025 (Maribor)\")\n",
        "plt.xlabel(\"Azimut [°]\")\n",
        "plt.ylabel(\"Višina (Alt) [°]\")\n",
        "plt.xlim(0, 360)\n",
        "plt.ylim(0, 90)\n",
        "plt.grid(True)\n",
        "plt.show()"
      ],
      "metadata": {
        "colab": {
          "base_uri": "https://localhost:8080/",
          "height": 720
        },
        "id": "kQ6T_dkV1UIe",
        "outputId": "f3ed7a9f-eac8-4357-9154-3330b160cc20"
      },
      "execution_count": 10,
      "outputs": [
        {
          "output_type": "stream",
          "name": "stdout",
          "text": [
            "2025-04-09T00:00:00\n"
          ]
        },
        {
          "output_type": "display_data",
          "data": {
            "text/plain": [
              "<Figure size 1000x600 with 1 Axes>"
            ],
            "image/png": "[encoded data removed]"
          },
          "metadata": {}
        }
      ]
    },
    {
      "cell_type": "markdown",
      "source": [
        "## Dolžina dneva"
      ],
      "metadata": {
        "id": "5va2QbXB2DoD"
      }
    },
    {
      "cell_type": "code",
      "source": [
        "import numpy as np\n",
        "# Generiramo časovne točke v intervalu 0–24h (npr. vsakih 5 minut)\n",
        "ure = Time('2025-04-09T00:00:00') + np.arange(0, 24*60, 1)*u.min\n",
        "\n",
        "# Koordinatni sistem AltAz za vse čase\n",
        "altaz = AltAz(obstime=ure, location=maribor)\n",
        "\n",
        "# Sončev položaj\n",
        "sonce = get_sun(ure).transform_to(altaz)\n",
        "\n",
        "# Izračunamo, kje je alt > 0 (nad obzorjem)\n",
        "nad_obzorjem = sonce.alt > 0*u.deg\n",
        "\n",
        "# Poiščemo indekse prvega in zadnjega trenutka, ko je Sonce nad obzorjem\n",
        "vzhod_idx = np.argmax(nad_obzorjem)  # prvi True\n",
        "zahod_idx = len(nad_obzorjem) - np.argmax(nad_obzorjem[::-1]) - 1  # zadnji True\n",
        "\n",
        "# Določimo čase vzhoda in zahoda\n",
        "vzhod = ure[vzhod_idx].to_datetime()\n",
        "zahod = ure[zahod_idx].to_datetime()\n",
        "\n",
        "# Izračunamo dolžino dneva\n",
        "dolzina_dneva = zahod - vzhod\n",
        "\n",
        "print(\"Sončni vzhod:\", vzhod.time())\n",
        "print(\"Sončni zahod:\", zahod.time())\n",
        "print(\"Dolžina dneva:\", dolzina_dneva)"
      ],
      "metadata": {
        "colab": {
          "base_uri": "https://localhost:8080/"
        },
        "id": "MYIzmHUF2JSP",
        "outputId": "5a2cc4c6-5e1b-4316-cf2b-f52a7addda38"
      },
      "execution_count": 13,
      "outputs": [
        {
          "output_type": "stream",
          "name": "stdout",
          "text": [
            "Sončni vzhod: 04:27:00\n",
            "Sončni zahod: 17:32:00\n",
            "Dolžina dneva: 13:05:00\n"
          ]
        }
      ]
    },
    {
      "cell_type": "code",
      "source": [
        "from tqdm.auto import tqdm as tqdm\n",
        "\n",
        "\n",
        "\n",
        "datumi = Time('2025-01-01') + np.arange(0, 365)*u.day\n",
        "\n",
        "dolzine_dni = []\n",
        "najvisje_alt = []\n",
        "najvisji_az = []\n",
        "\n",
        "# Iteracija čez vse dni\n",
        "for dan in tqdm(datumi,total = len(datumi)):\n",
        "    # Generiramo ure tega dne (vsako minuto)\n",
        "    ure = dan + np.arange(0, 24*60, 5)*u.min\n",
        "\n",
        "    # AltAz sistem in položaj Sonca\n",
        "    altaz = AltAz(obstime=ure, location=maribor) #Problem\n",
        "    sonce = get_sun(ure).transform_to(altaz)\n",
        "\n",
        "    idx_max = np.argmax(sonce.alt)\n",
        "    # Filtriramo trenutke, ko je Sonce nad obzorjem\n",
        "    nad_obzorjem = sonce.alt > 0*u.deg\n",
        "    najvisje_alt.append(sonce.alt[idx_max].deg)\n",
        "    najvisji_az.append(sonce.az[idx_max].deg)\n",
        "\n",
        "    if np.any(nad_obzorjem):\n",
        "        vzhod_idx = np.argmax(nad_obzorjem)\n",
        "        zahod_idx = len(nad_obzorjem) - np.argmax(nad_obzorjem[::-1]) - 1\n",
        "        cas_vzhoda = ure[vzhod_idx].datetime\n",
        "        cas_zahoda = ure[zahod_idx].datetime\n",
        "        dolzina = (cas_zahoda - cas_vzhoda).total_seconds() / 3600  # ure\n",
        "    else:\n",
        "        dolzina = 0  # polarna noč (te v Mariboru sicer ni)\n",
        "\n",
        "    dolzine_dni.append(dolzina)\n",
        "\n",
        "# Risanje grafa\n",
        "plt.figure(figsize=(12, 6))\n",
        "plt.plot(datumi.datetime, dolzine_dni)\n",
        "plt.title(\"Dolžina dneva skozi leto 2025 (Maribor)\")\n",
        "plt.xlabel(\"Datum\")\n",
        "plt.ylabel(\"Dolžina dneva [ure]\")\n",
        "plt.grid(True)\n",
        "plt.ylim(0, 24)\n",
        "plt.show()"
      ],
      "metadata": {
        "colab": {
          "base_uri": "https://localhost:8080/",
          "height": 596,
          "referenced_widgets": [
            "f25d556220704aeba191abf64bd383e2",
            "7141429b09324a0bab875e4223fa5634",
            "3c761981383940398c03703a284782a0",
            "7a083777761d4cfda768101661381a63",
            "5058af95ddce4bd08038c28de6248258",
            "cb942a14c6a445d0ade166f5382f86eb",
            "91facaf0a4884839af0ebd65b1e08279",
            "5417854e05bc4f65a47eaf4789d6e6bb",
            "f78fb3e2f34e4730817af1922976f3c8",
            "03971cd375274e30b0b3c9b114e3c0db",
            "e3048b1d173f48ef9f0d418b4b2fb3ac"
          ]
        },
        "id": "SgYg5pBS3T8o",
        "outputId": "5ff96b8c-46f5-4491-ee9e-894223534917"
      },
      "execution_count": 29,
      "outputs": [
        {
          "output_type": "display_data",
          "data": {
            "text/plain": [
              "  0%|          | 0/365 [00:00<?, ?it/s]"
            ],
            "application/vnd.jupyter.widget-view+json": {
              "version_major": 2,
              "version_minor": 0,
              "model_id": "f25d556220704aeba191abf64bd383e2"
            }
          },
          "metadata": {}
        },
        {
          "output_type": "display_data",
          "data": {
            "text/plain": [
              "<Figure size 1200x600 with 1 Axes>"
            ],
            "image/png": "[encoded data removed]"
          },
          "metadata": {}
        }
      ]
    },
    {
      "cell_type": "code",
      "source": [
        "plt.figure(figsize=(10, 6))\n",
        "plt.scatter(najvisji_az, najvisje_alt, c=range(365), cmap='plasma', s=10)\n",
        "plt.title(\"Točke kulminacije Sonca na nebu skozi leto (Maribor)\")\n",
        "plt.xlabel(\"Azimut ob kulminaciji [°]\")\n",
        "plt.ylabel(\"Višina Sonca ob kulminaciji [°]\")\n",
        "plt.grid(True)\n",
        "plt.xlim(0, 360)\n",
        "plt.ylim(0, 90)\n",
        "cbar = plt.colorbar(label=\"Dan v letu\")\n",
        "plt.show()"
      ],
      "metadata": {
        "colab": {
          "base_uri": "https://localhost:8080/",
          "height": 565
        },
        "id": "5ZI6pBSW4OV8",
        "outputId": "f9cd8314-b980-4754-c682-50fc35ae70fe"
      },
      "execution_count": 30,
      "outputs": [
        {
          "output_type": "display_data",
          "data": {
            "text/plain": [
              "<Figure size 1000x600 with 2 Axes>"
            ],
            "image/png": "[encoded data removed]"
          },
          "metadata": {}
        }
      ]
    },
    {
      "cell_type": "markdown",
      "source": [
        "#E Sonce ob isti uri"
      ],
      "metadata": {
        "id": "7dDC3oAe5JMd"
      }
    },
    {
      "cell_type": "code",
      "source": [
        "# Dnevi v letu\n",
        "datumi = Time('2025-01-01') + np.arange(0, 365)*u.day\n",
        "\n",
        "# Izbrana ura (lahko spremeniš, npr. \"08:00:00\", \"18:00:00\", ...)\n",
        "ura = \"16:00:00\"\n",
        "\n",
        "# Seznami za rezultate\n",
        "alt_12 = []\n",
        "az_12 = []\n",
        "\n",
        "# Iteracija čez dni\n",
        "for dan in tqdm(datumi,total = len(datumi)):\n",
        "    trenutek = Time(f\"{dan.datetime.date()}T{ura}\")\n",
        "    altaz = AltAz(obstime=trenutek, location=maribor)\n",
        "    sonce = get_sun(trenutek).transform_to(altaz)\n",
        "\n",
        "    alt_12.append(sonce.alt.deg)\n",
        "    az_12.append(sonce.az.deg)\n",
        "\n",
        "# Vizualizacija: azimut vs višina\n",
        "plt.figure(figsize=(10, 6))\n",
        "plt.scatter(az_12, alt_12, c=range(365), cmap='viridis', s=10)\n",
        "plt.title(f\"Lega Sonca na nebu vsak dan ob {ura} (Maribor)\")\n",
        "plt.xlabel(\"Azimut [°]\")\n",
        "plt.ylabel(\"Višina (Alt) [°]\")\n",
        "plt.grid(True)\n",
        "plt.xlim(0, 360)\n",
        "plt.ylim(0, 90)\n",
        "plt.colorbar(label=\"Dan v letu\")\n",
        "plt.show()"
      ],
      "metadata": {
        "colab": {
          "base_uri": "https://localhost:8080/",
          "height": 596,
          "referenced_widgets": [
            "c4a1d3460a524e14a41769cca3e3b42b",
            "44fdc3ba97d742ae8386f42346947a94",
            "cb389096bbbb4796b673d3591589711b",
            "82bb70fe07484c58973fcdfff313e945",
            "5e06af03292f43c9862fdece06646a74",
            "59f7cf8cddc0406d8797da0d46e879a1",
            "f9f3681d761b49d19d5400e207327f66",
            "f0e7b22ec9fb43489432107335492d57",
            "db627ae9152e4fe09ddd25ddd39f3597",
            "d752a15d6f31421981450436a6c264d3",
            "a53672abf84542309f1f0a1f04cfbb07"
          ]
        },
        "id": "r5lNH9TJ5L2B",
        "outputId": "a405f5dd-f6a3-47d1-9381-ad3cbd9b8eb8"
      },
      "execution_count": 31,
      "outputs": [
        {
          "output_type": "display_data",
          "data": {
            "text/plain": [
              "  0%|          | 0/365 [00:00<?, ?it/s]"
            ],
            "application/vnd.jupyter.widget-view+json": {
              "version_major": 2,
              "version_minor": 0,
              "model_id": "c4a1d3460a524e14a41769cca3e3b42b"
            }
          },
          "metadata": {}
        },
        {
          "output_type": "display_data",
          "data": {
            "text/plain": [
              "<Figure size 1000x600 with 2 Axes>"
            ],
            "image/png": "[encoded data removed]"
          },
          "metadata": {}
        }
      ]
    },
    {
      "cell_type": "markdown",
      "source": [
        "## Tir sonca na nebu"
      ],
      "metadata": {
        "id": "OzD5mHEv3nMs"
      }
    },
    {
      "cell_type": "markdown",
      "source": [
        "### 🧭 Pretvorba iz ekvatorialnega sistema (RA, Dec) v horizontalni sistem (Alt-Az)"
      ],
      "metadata": {
        "id": "Z-Yq2PDVoT6P"
      }
    },
    {
      "cell_type": "code",
      "source": [
        "#Zvezda Betelgeuse\n",
        "ra = 83.63*u.deg\n",
        "dec = 22.01*u.deg\n",
        "\n",
        "zvezda = SkyCoord(ra=ra, dec=dec, frame='icrs')  # Primer za Betelgeuse\n",
        "\n",
        "altaz_frame = AltAz(obstime = cas, location = maribor)\n",
        "cas = Time(\"2025-06-09 20:00:00\")  # UTC čas\n",
        "zvezda_altaz = zvezda.transform_to(altaz_frame)\n",
        "print(\"Višina:\", round(zvezda_altaz.alt.deg, 2), \"°\", \"Azimut:\", round(zvezda_altaz.az.deg, 2), \"°\")\n"
      ],
      "metadata": {
        "id": "IKBMumHJn0D0",
        "outputId": "e0ef841a-71be-48ae-89dd-af7577c6e058",
        "colab": {
          "base_uri": "https://localhost:8080/",
          "height": 176
        }
      },
      "execution_count": 18,
      "outputs": [
        {
          "output_type": "error",
          "ename": "TypeError",
          "evalue": "type numpy.ndarray doesn't define __round__ method",
          "traceback": [
            "\u001b[0;31m---------------------------------------------------------------------------\u001b[0m",
            "\u001b[0;31mTypeError\u001b[0m                                 Traceback (most recent call last)",
            "\u001b[0;32m<ipython-input-18-069d39e91991>\u001b[0m in \u001b[0;36m<cell line: 0>\u001b[0;34m()\u001b[0m\n\u001b[1;32m      8\u001b[0m \u001b[0mcas\u001b[0m \u001b[0;34m=\u001b[0m \u001b[0mTime\u001b[0m\u001b[0;34m(\u001b[0m\u001b[0;34m\"2025-06-09 20:00:00\"\u001b[0m\u001b[0;34m)\u001b[0m  \u001b[0;31m# UTC čas\u001b[0m\u001b[0;34m\u001b[0m\u001b[0;34m\u001b[0m\u001b[0m\n\u001b[1;32m      9\u001b[0m \u001b[0mzvezda_altaz\u001b[0m \u001b[0;34m=\u001b[0m \u001b[0mzvezda\u001b[0m\u001b[0;34m.\u001b[0m\u001b[0mtransform_to\u001b[0m\u001b[0;34m(\u001b[0m\u001b[0maltaz_frame\u001b[0m\u001b[0;34m)\u001b[0m\u001b[0;34m\u001b[0m\u001b[0;34m\u001b[0m\u001b[0m\n\u001b[0;32m---> 10\u001b[0;31m \u001b[0mprint\u001b[0m\u001b[0;34m(\u001b[0m\u001b[0;34m\"Višina:\"\u001b[0m\u001b[0;34m,\u001b[0m \u001b[0mround\u001b[0m\u001b[0;34m(\u001b[0m\u001b[0mzvezda_altaz\u001b[0m\u001b[0;34m.\u001b[0m\u001b[0malt\u001b[0m\u001b[0;34m.\u001b[0m\u001b[0mdeg\u001b[0m\u001b[0;34m,\u001b[0m \u001b[0;36m2\u001b[0m\u001b[0;34m)\u001b[0m\u001b[0;34m,\u001b[0m \u001b[0;34m\"°\"\u001b[0m\u001b[0;34m,\u001b[0m \u001b[0;34m\"Azimut:\"\u001b[0m\u001b[0;34m,\u001b[0m \u001b[0mround\u001b[0m\u001b[0;34m(\u001b[0m\u001b[0mzvezda_altaz\u001b[0m\u001b[0;34m.\u001b[0m\u001b[0maz\u001b[0m\u001b[0;34m.\u001b[0m\u001b[0mdeg\u001b[0m\u001b[0;34m,\u001b[0m \u001b[0;36m2\u001b[0m\u001b[0;34m)\u001b[0m\u001b[0;34m,\u001b[0m \u001b[0;34m\"°\"\u001b[0m\u001b[0;34m)\u001b[0m\u001b[0;34m\u001b[0m\u001b[0;34m\u001b[0m\u001b[0m\n\u001b[0m",
            "\u001b[0;31mTypeError\u001b[0m: type numpy.ndarray doesn't define __round__ method"
          ]
        }
      ]
    },
    {
      "cell_type": "code",
      "source": [],
      "metadata": {
        "id": "O6Lvdn7KoXPF"
      },
      "execution_count": null,
      "outputs": []
    }
  ]
}