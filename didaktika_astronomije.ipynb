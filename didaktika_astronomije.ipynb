{
  "nbformat": 4,
  "nbformat_minor": 0,
  "metadata": {
    "colab": {
      "provenance": [],
      "authorship_tag": "ABX9TyNiKQhyZxDrfnzurVq9QKJT",
      "include_colab_link": true
    },
    "kernelspec": {
      "name": "python3",
      "display_name": "Python 3"
    },
    "language_info": {
      "name": "python"
    },
    "widgets": {
      "application/vnd.jupyter.widget-state+json": {
        "76bbb6d26fbb4bf4a380bcc7ae118a57": {
          "model_module": "@jupyter-widgets/controls",
          "model_name": "HBoxModel",
          "model_module_version": "1.5.0",
          "state": {
            "_dom_classes": [],
            "_model_module": "@jupyter-widgets/controls",
            "_model_module_version": "1.5.0",
            "_model_name": "HBoxModel",
            "_view_count": null,
            "_view_module": "@jupyter-widgets/controls",
            "_view_module_version": "1.5.0",
            "_view_name": "HBoxView",
            "box_style": "",
            "children": [
              "IPY_MODEL_8e3e56a71ec74e0db1abd3682db1d580",
              "IPY_MODEL_8bbd35500962478fa09179049bb68f1e",
              "IPY_MODEL_b5867736b01a453c9d712de3476fac8a"
            ],
            "layout": "IPY_MODEL_71d92f35d1de43e5bc9a87e7f1ed8c5d"
          }
        },
        "8e3e56a71ec74e0db1abd3682db1d580": {
          "model_module": "@jupyter-widgets/controls",
          "model_name": "HTMLModel",
          "model_module_version": "1.5.0",
          "state": {
            "_dom_classes": [],
            "_model_module": "@jupyter-widgets/controls",
            "_model_module_version": "1.5.0",
            "_model_name": "HTMLModel",
            "_view_count": null,
            "_view_module": "@jupyter-widgets/controls",
            "_view_module_version": "1.5.0",
            "_view_name": "HTMLView",
            "description": "",
            "description_tooltip": null,
            "layout": "IPY_MODEL_fabc64f27c5a4fc187f8711917f4c66f",
            "placeholder": "​",
            "style": "IPY_MODEL_d4aa40fd1ba849d7a373958338fdfd32",
            "value": "100%"
          }
        },
        "8bbd35500962478fa09179049bb68f1e": {
          "model_module": "@jupyter-widgets/controls",
          "model_name": "FloatProgressModel",
          "model_module_version": "1.5.0",
          "state": {
            "_dom_classes": [],
            "_model_module": "@jupyter-widgets/controls",
            "_model_module_version": "1.5.0",
            "_model_name": "FloatProgressModel",
            "_view_count": null,
            "_view_module": "@jupyter-widgets/controls",
            "_view_module_version": "1.5.0",
            "_view_name": "ProgressView",
            "bar_style": "success",
            "description": "",
            "description_tooltip": null,
            "layout": "IPY_MODEL_ff1a1d6ef6e6464cb4b3eb5589fa27b3",
            "max": 365,
            "min": 0,
            "orientation": "horizontal",
            "style": "IPY_MODEL_0a9b7c1ee6694ed5b5a98e1b0990db9b",
            "value": 365
          }
        },
        "b5867736b01a453c9d712de3476fac8a": {
          "model_module": "@jupyter-widgets/controls",
          "model_name": "HTMLModel",
          "model_module_version": "1.5.0",
          "state": {
            "_dom_classes": [],
            "_model_module": "@jupyter-widgets/controls",
            "_model_module_version": "1.5.0",
            "_model_name": "HTMLModel",
            "_view_count": null,
            "_view_module": "@jupyter-widgets/controls",
            "_view_module_version": "1.5.0",
            "_view_name": "HTMLView",
            "description": "",
            "description_tooltip": null,
            "layout": "IPY_MODEL_e98f99b3cdd746fc80bb2ed5979d7602",
            "placeholder": "​",
            "style": "IPY_MODEL_fc338dc122b149cc832a80669e3dff4d",
            "value": " 365/365 [01:11&lt;00:00,  8.88it/s]"
          }
        },
        "71d92f35d1de43e5bc9a87e7f1ed8c5d": {
          "model_module": "@jupyter-widgets/base",
          "model_name": "LayoutModel",
          "model_module_version": "1.2.0",
          "state": {
            "_model_module": "@jupyter-widgets/base",
            "_model_module_version": "1.2.0",
            "_model_name": "LayoutModel",
            "_view_count": null,
            "_view_module": "@jupyter-widgets/base",
            "_view_module_version": "1.2.0",
            "_view_name": "LayoutView",
            "align_content": null,
            "align_items": null,
            "align_self": null,
            "border": null,
            "bottom": null,
            "display": null,
            "flex": null,
            "flex_flow": null,
            "grid_area": null,
            "grid_auto_columns": null,
            "grid_auto_flow": null,
            "grid_auto_rows": null,
            "grid_column": null,
            "grid_gap": null,
            "grid_row": null,
            "grid_template_areas": null,
            "grid_template_columns": null,
            "grid_template_rows": null,
            "height": null,
            "justify_content": null,
            "justify_items": null,
            "left": null,
            "margin": null,
            "max_height": null,
            "max_width": null,
            "min_height": null,
            "min_width": null,
            "object_fit": null,
            "object_position": null,
            "order": null,
            "overflow": null,
            "overflow_x": null,
            "overflow_y": null,
            "padding": null,
            "right": null,
            "top": null,
            "visibility": null,
            "width": null
          }
        },
        "fabc64f27c5a4fc187f8711917f4c66f": {
          "model_module": "@jupyter-widgets/base",
          "model_name": "LayoutModel",
          "model_module_version": "1.2.0",
          "state": {
            "_model_module": "@jupyter-widgets/base",
            "_model_module_version": "1.2.0",
            "_model_name": "LayoutModel",
            "_view_count": null,
            "_view_module": "@jupyter-widgets/base",
            "_view_module_version": "1.2.0",
            "_view_name": "LayoutView",
            "align_content": null,
            "align_items": null,
            "align_self": null,
            "border": null,
            "bottom": null,
            "display": null,
            "flex": null,
            "flex_flow": null,
            "grid_area": null,
            "grid_auto_columns": null,
            "grid_auto_flow": null,
            "grid_auto_rows": null,
            "grid_column": null,
            "grid_gap": null,
            "grid_row": null,
            "grid_template_areas": null,
            "grid_template_columns": null,
            "grid_template_rows": null,
            "height": null,
            "justify_content": null,
            "justify_items": null,
            "left": null,
            "margin": null,
            "max_height": null,
            "max_width": null,
            "min_height": null,
            "min_width": null,
            "object_fit": null,
            "object_position": null,
            "order": null,
            "overflow": null,
            "overflow_x": null,
            "overflow_y": null,
            "padding": null,
            "right": null,
            "top": null,
            "visibility": null,
            "width": null
          }
        },
        "d4aa40fd1ba849d7a373958338fdfd32": {
          "model_module": "@jupyter-widgets/controls",
          "model_name": "DescriptionStyleModel",
          "model_module_version": "1.5.0",
          "state": {
            "_model_module": "@jupyter-widgets/controls",
            "_model_module_version": "1.5.0",
            "_model_name": "DescriptionStyleModel",
            "_view_count": null,
            "_view_module": "@jupyter-widgets/base",
            "_view_module_version": "1.2.0",
            "_view_name": "StyleView",
            "description_width": ""
          }
        },
        "ff1a1d6ef6e6464cb4b3eb5589fa27b3": {
          "model_module": "@jupyter-widgets/base",
          "model_name": "LayoutModel",
          "model_module_version": "1.2.0",
          "state": {
            "_model_module": "@jupyter-widgets/base",
            "_model_module_version": "1.2.0",
            "_model_name": "LayoutModel",
            "_view_count": null,
            "_view_module": "@jupyter-widgets/base",
            "_view_module_version": "1.2.0",
            "_view_name": "LayoutView",
            "align_content": null,
            "align_items": null,
            "align_self": null,
            "border": null,
            "bottom": null,
            "display": null,
            "flex": null,
            "flex_flow": null,
            "grid_area": null,
            "grid_auto_columns": null,
            "grid_auto_flow": null,
            "grid_auto_rows": null,
            "grid_column": null,
            "grid_gap": null,
            "grid_row": null,
            "grid_template_areas": null,
            "grid_template_columns": null,
            "grid_template_rows": null,
            "height": null,
            "justify_content": null,
            "justify_items": null,
            "left": null,
            "margin": null,
            "max_height": null,
            "max_width": null,
            "min_height": null,
            "min_width": null,
            "object_fit": null,
            "object_position": null,
            "order": null,
            "overflow": null,
            "overflow_x": null,
            "overflow_y": null,
            "padding": null,
            "right": null,
            "top": null,
            "visibility": null,
            "width": null
          }
        },
        "0a9b7c1ee6694ed5b5a98e1b0990db9b": {
          "model_module": "@jupyter-widgets/controls",
          "model_name": "ProgressStyleModel",
          "model_module_version": "1.5.0",
          "state": {
            "_model_module": "@jupyter-widgets/controls",
            "_model_module_version": "1.5.0",
            "_model_name": "ProgressStyleModel",
            "_view_count": null,
            "_view_module": "@jupyter-widgets/base",
            "_view_module_version": "1.2.0",
            "_view_name": "StyleView",
            "bar_color": null,
            "description_width": ""
          }
        },
        "e98f99b3cdd746fc80bb2ed5979d7602": {
          "model_module": "@jupyter-widgets/base",
          "model_name": "LayoutModel",
          "model_module_version": "1.2.0",
          "state": {
            "_model_module": "@jupyter-widgets/base",
            "_model_module_version": "1.2.0",
            "_model_name": "LayoutModel",
            "_view_count": null,
            "_view_module": "@jupyter-widgets/base",
            "_view_module_version": "1.2.0",
            "_view_name": "LayoutView",
            "align_content": null,
            "align_items": null,
            "align_self": null,
            "border": null,
            "bottom": null,
            "display": null,
            "flex": null,
            "flex_flow": null,
            "grid_area": null,
            "grid_auto_columns": null,
            "grid_auto_flow": null,
            "grid_auto_rows": null,
            "grid_column": null,
            "grid_gap": null,
            "grid_row": null,
            "grid_template_areas": null,
            "grid_template_columns": null,
            "grid_template_rows": null,
            "height": null,
            "justify_content": null,
            "justify_items": null,
            "left": null,
            "margin": null,
            "max_height": null,
            "max_width": null,
            "min_height": null,
            "min_width": null,
            "object_fit": null,
            "object_position": null,
            "order": null,
            "overflow": null,
            "overflow_x": null,
            "overflow_y": null,
            "padding": null,
            "right": null,
            "top": null,
            "visibility": null,
            "width": null
          }
        },
        "fc338dc122b149cc832a80669e3dff4d": {
          "model_module": "@jupyter-widgets/controls",
          "model_name": "DescriptionStyleModel",
          "model_module_version": "1.5.0",
          "state": {
            "_model_module": "@jupyter-widgets/controls",
            "_model_module_version": "1.5.0",
            "_model_name": "DescriptionStyleModel",
            "_view_count": null,
            "_view_module": "@jupyter-widgets/base",
            "_view_module_version": "1.2.0",
            "_view_name": "StyleView",
            "description_width": ""
          }
        },
        "bbae89bee17c4887ae3f464d4057a36f": {
          "model_module": "@jupyter-widgets/controls",
          "model_name": "HBoxModel",
          "model_module_version": "1.5.0",
          "state": {
            "_dom_classes": [],
            "_model_module": "@jupyter-widgets/controls",
            "_model_module_version": "1.5.0",
            "_model_name": "HBoxModel",
            "_view_count": null,
            "_view_module": "@jupyter-widgets/controls",
            "_view_module_version": "1.5.0",
            "_view_name": "HBoxView",
            "box_style": "",
            "children": [
              "IPY_MODEL_a636bc3ccfa243768f0a1ec856bb6912",
              "IPY_MODEL_1177cd90b89b4befb08a99c218982db4",
              "IPY_MODEL_063038cff85747f3af34d9c1106e63f6"
            ],
            "layout": "IPY_MODEL_0efbb59896a6400caf31e428584a2a24"
          }
        },
        "a636bc3ccfa243768f0a1ec856bb6912": {
          "model_module": "@jupyter-widgets/controls",
          "model_name": "HTMLModel",
          "model_module_version": "1.5.0",
          "state": {
            "_dom_classes": [],
            "_model_module": "@jupyter-widgets/controls",
            "_model_module_version": "1.5.0",
            "_model_name": "HTMLModel",
            "_view_count": null,
            "_view_module": "@jupyter-widgets/controls",
            "_view_module_version": "1.5.0",
            "_view_name": "HTMLView",
            "description": "",
            "description_tooltip": null,
            "layout": "IPY_MODEL_1a526bdea76848e38c11e83761e2dda5",
            "placeholder": "​",
            "style": "IPY_MODEL_57c2d2375adf49c18b022df96335ee94",
            "value": "100%"
          }
        },
        "1177cd90b89b4befb08a99c218982db4": {
          "model_module": "@jupyter-widgets/controls",
          "model_name": "FloatProgressModel",
          "model_module_version": "1.5.0",
          "state": {
            "_dom_classes": [],
            "_model_module": "@jupyter-widgets/controls",
            "_model_module_version": "1.5.0",
            "_model_name": "FloatProgressModel",
            "_view_count": null,
            "_view_module": "@jupyter-widgets/controls",
            "_view_module_version": "1.5.0",
            "_view_name": "ProgressView",
            "bar_style": "success",
            "description": "",
            "description_tooltip": null,
            "layout": "IPY_MODEL_02fbad05fe86498dbc6736e61f8be114",
            "max": 365,
            "min": 0,
            "orientation": "horizontal",
            "style": "IPY_MODEL_2338ed1667964ba69706fa6bbf7c869a",
            "value": 365
          }
        },
        "063038cff85747f3af34d9c1106e63f6": {
          "model_module": "@jupyter-widgets/controls",
          "model_name": "HTMLModel",
          "model_module_version": "1.5.0",
          "state": {
            "_dom_classes": [],
            "_model_module": "@jupyter-widgets/controls",
            "_model_module_version": "1.5.0",
            "_model_name": "HTMLModel",
            "_view_count": null,
            "_view_module": "@jupyter-widgets/controls",
            "_view_module_version": "1.5.0",
            "_view_name": "HTMLView",
            "description": "",
            "description_tooltip": null,
            "layout": "IPY_MODEL_dacd132ae3094da3be94d17416a6cd8a",
            "placeholder": "​",
            "style": "IPY_MODEL_4f7daad960c04389af743280a1d0d697",
            "value": " 365/365 [00:04&lt;00:00, 70.31it/s]"
          }
        },
        "0efbb59896a6400caf31e428584a2a24": {
          "model_module": "@jupyter-widgets/base",
          "model_name": "LayoutModel",
          "model_module_version": "1.2.0",
          "state": {
            "_model_module": "@jupyter-widgets/base",
            "_model_module_version": "1.2.0",
            "_model_name": "LayoutModel",
            "_view_count": null,
            "_view_module": "@jupyter-widgets/base",
            "_view_module_version": "1.2.0",
            "_view_name": "LayoutView",
            "align_content": null,
            "align_items": null,
            "align_self": null,
            "border": null,
            "bottom": null,
            "display": null,
            "flex": null,
            "flex_flow": null,
            "grid_area": null,
            "grid_auto_columns": null,
            "grid_auto_flow": null,
            "grid_auto_rows": null,
            "grid_column": null,
            "grid_gap": null,
            "grid_row": null,
            "grid_template_areas": null,
            "grid_template_columns": null,
            "grid_template_rows": null,
            "height": null,
            "justify_content": null,
            "justify_items": null,
            "left": null,
            "margin": null,
            "max_height": null,
            "max_width": null,
            "min_height": null,
            "min_width": null,
            "object_fit": null,
            "object_position": null,
            "order": null,
            "overflow": null,
            "overflow_x": null,
            "overflow_y": null,
            "padding": null,
            "right": null,
            "top": null,
            "visibility": null,
            "width": null
          }
        },
        "1a526bdea76848e38c11e83761e2dda5": {
          "model_module": "@jupyter-widgets/base",
          "model_name": "LayoutModel",
          "model_module_version": "1.2.0",
          "state": {
            "_model_module": "@jupyter-widgets/base",
            "_model_module_version": "1.2.0",
            "_model_name": "LayoutModel",
            "_view_count": null,
            "_view_module": "@jupyter-widgets/base",
            "_view_module_version": "1.2.0",
            "_view_name": "LayoutView",
            "align_content": null,
            "align_items": null,
            "align_self": null,
            "border": null,
            "bottom": null,
            "display": null,
            "flex": null,
            "flex_flow": null,
            "grid_area": null,
            "grid_auto_columns": null,
            "grid_auto_flow": null,
            "grid_auto_rows": null,
            "grid_column": null,
            "grid_gap": null,
            "grid_row": null,
            "grid_template_areas": null,
            "grid_template_columns": null,
            "grid_template_rows": null,
            "height": null,
            "justify_content": null,
            "justify_items": null,
            "left": null,
            "margin": null,
            "max_height": null,
            "max_width": null,
            "min_height": null,
            "min_width": null,
            "object_fit": null,
            "object_position": null,
            "order": null,
            "overflow": null,
            "overflow_x": null,
            "overflow_y": null,
            "padding": null,
            "right": null,
            "top": null,
            "visibility": null,
            "width": null
          }
        },
        "57c2d2375adf49c18b022df96335ee94": {
          "model_module": "@jupyter-widgets/controls",
          "model_name": "DescriptionStyleModel",
          "model_module_version": "1.5.0",
          "state": {
            "_model_module": "@jupyter-widgets/controls",
            "_model_module_version": "1.5.0",
            "_model_name": "DescriptionStyleModel",
            "_view_count": null,
            "_view_module": "@jupyter-widgets/base",
            "_view_module_version": "1.2.0",
            "_view_name": "StyleView",
            "description_width": ""
          }
        },
        "02fbad05fe86498dbc6736e61f8be114": {
          "model_module": "@jupyter-widgets/base",
          "model_name": "LayoutModel",
          "model_module_version": "1.2.0",
          "state": {
            "_model_module": "@jupyter-widgets/base",
            "_model_module_version": "1.2.0",
            "_model_name": "LayoutModel",
            "_view_count": null,
            "_view_module": "@jupyter-widgets/base",
            "_view_module_version": "1.2.0",
            "_view_name": "LayoutView",
            "align_content": null,
            "align_items": null,
            "align_self": null,
            "border": null,
            "bottom": null,
            "display": null,
            "flex": null,
            "flex_flow": null,
            "grid_area": null,
            "grid_auto_columns": null,
            "grid_auto_flow": null,
            "grid_auto_rows": null,
            "grid_column": null,
            "grid_gap": null,
            "grid_row": null,
            "grid_template_areas": null,
            "grid_template_columns": null,
            "grid_template_rows": null,
            "height": null,
            "justify_content": null,
            "justify_items": null,
            "left": null,
            "margin": null,
            "max_height": null,
            "max_width": null,
            "min_height": null,
            "min_width": null,
            "object_fit": null,
            "object_position": null,
            "order": null,
            "overflow": null,
            "overflow_x": null,
            "overflow_y": null,
            "padding": null,
            "right": null,
            "top": null,
            "visibility": null,
            "width": null
          }
        },
        "2338ed1667964ba69706fa6bbf7c869a": {
          "model_module": "@jupyter-widgets/controls",
          "model_name": "ProgressStyleModel",
          "model_module_version": "1.5.0",
          "state": {
            "_model_module": "@jupyter-widgets/controls",
            "_model_module_version": "1.5.0",
            "_model_name": "ProgressStyleModel",
            "_view_count": null,
            "_view_module": "@jupyter-widgets/base",
            "_view_module_version": "1.2.0",
            "_view_name": "StyleView",
            "bar_color": null,
            "description_width": ""
          }
        },
        "dacd132ae3094da3be94d17416a6cd8a": {
          "model_module": "@jupyter-widgets/base",
          "model_name": "LayoutModel",
          "model_module_version": "1.2.0",
          "state": {
            "_model_module": "@jupyter-widgets/base",
            "_model_module_version": "1.2.0",
            "_model_name": "LayoutModel",
            "_view_count": null,
            "_view_module": "@jupyter-widgets/base",
            "_view_module_version": "1.2.0",
            "_view_name": "LayoutView",
            "align_content": null,
            "align_items": null,
            "align_self": null,
            "border": null,
            "bottom": null,
            "display": null,
            "flex": null,
            "flex_flow": null,
            "grid_area": null,
            "grid_auto_columns": null,
            "grid_auto_flow": null,
            "grid_auto_rows": null,
            "grid_column": null,
            "grid_gap": null,
            "grid_row": null,
            "grid_template_areas": null,
            "grid_template_columns": null,
            "grid_template_rows": null,
            "height": null,
            "justify_content": null,
            "justify_items": null,
            "left": null,
            "margin": null,
            "max_height": null,
            "max_width": null,
            "min_height": null,
            "min_width": null,
            "object_fit": null,
            "object_position": null,
            "order": null,
            "overflow": null,
            "overflow_x": null,
            "overflow_y": null,
            "padding": null,
            "right": null,
            "top": null,
            "visibility": null,
            "width": null
          }
        },
        "4f7daad960c04389af743280a1d0d697": {
          "model_module": "@jupyter-widgets/controls",
          "model_name": "DescriptionStyleModel",
          "model_module_version": "1.5.0",
          "state": {
            "_model_module": "@jupyter-widgets/controls",
            "_model_module_version": "1.5.0",
            "_model_name": "DescriptionStyleModel",
            "_view_count": null,
            "_view_module": "@jupyter-widgets/base",
            "_view_module_version": "1.2.0",
            "_view_name": "StyleView",
            "description_width": ""
          }
        },
        "10a92278117a4b8aa6cc1fd805c63540": {
          "model_module": "@jupyter-widgets/controls",
          "model_name": "VBoxModel",
          "model_module_version": "1.5.0",
          "state": {
            "_dom_classes": [
              "widget-interact"
            ],
            "_model_module": "@jupyter-widgets/controls",
            "_model_module_version": "1.5.0",
            "_model_name": "VBoxModel",
            "_view_count": null,
            "_view_module": "@jupyter-widgets/controls",
            "_view_module_version": "1.5.0",
            "_view_name": "VBoxView",
            "box_style": "",
            "children": [
              "IPY_MODEL_2fe2032b621f4546913c57ba25d6efb9",
              "IPY_MODEL_3e7a6db9a9a141aab9f7478142b6c46f"
            ],
            "layout": "IPY_MODEL_bf60cf775d544417bc36cf7e9f2cffc5"
          }
        },
        "2fe2032b621f4546913c57ba25d6efb9": {
          "model_module": "@jupyter-widgets/controls",
          "model_name": "IntSliderModel",
          "model_module_version": "1.5.0",
          "state": {
            "_dom_classes": [],
            "_model_module": "@jupyter-widgets/controls",
            "_model_module_version": "1.5.0",
            "_model_name": "IntSliderModel",
            "_view_count": null,
            "_view_module": "@jupyter-widgets/controls",
            "_view_module_version": "1.5.0",
            "_view_name": "IntSliderView",
            "continuous_update": true,
            "description": "Ura:",
            "description_tooltip": null,
            "disabled": false,
            "layout": "IPY_MODEL_751bb5c79f7b4e0aa6cf85e018898f25",
            "max": 23,
            "min": 0,
            "orientation": "horizontal",
            "readout": true,
            "readout_format": "d",
            "step": 1,
            "style": "IPY_MODEL_50fbb1c0eb5d4363988dd54985b14f12",
            "value": 21
          }
        },
        "3e7a6db9a9a141aab9f7478142b6c46f": {
          "model_module": "@jupyter-widgets/output",
          "model_name": "OutputModel",
          "model_module_version": "1.0.0",
          "state": {
            "_dom_classes": [],
            "_model_module": "@jupyter-widgets/output",
            "_model_module_version": "1.0.0",
            "_model_name": "OutputModel",
            "_view_count": null,
            "_view_module": "@jupyter-widgets/output",
            "_view_module_version": "1.0.0",
            "_view_name": "OutputView",
            "layout": "IPY_MODEL_fa7e31f7ded74fbf99ec5c8a5b3459c7",
            "msg_id": "",
            "outputs": [
              {
                "output_type": "display_data",
                "data": {
                  "text/plain": "<Figure size 1000x1000 with 1 Axes>",
                  "image/png": "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\n"
                },
                "metadata": {}
              }
            ]
          }
        },
        "bf60cf775d544417bc36cf7e9f2cffc5": {
          "model_module": "@jupyter-widgets/base",
          "model_name": "LayoutModel",
          "model_module_version": "1.2.0",
          "state": {
            "_model_module": "@jupyter-widgets/base",
            "_model_module_version": "1.2.0",
            "_model_name": "LayoutModel",
            "_view_count": null,
            "_view_module": "@jupyter-widgets/base",
            "_view_module_version": "1.2.0",
            "_view_name": "LayoutView",
            "align_content": null,
            "align_items": null,
            "align_self": null,
            "border": null,
            "bottom": null,
            "display": null,
            "flex": null,
            "flex_flow": null,
            "grid_area": null,
            "grid_auto_columns": null,
            "grid_auto_flow": null,
            "grid_auto_rows": null,
            "grid_column": null,
            "grid_gap": null,
            "grid_row": null,
            "grid_template_areas": null,
            "grid_template_columns": null,
            "grid_template_rows": null,
            "height": null,
            "justify_content": null,
            "justify_items": null,
            "left": null,
            "margin": null,
            "max_height": null,
            "max_width": null,
            "min_height": null,
            "min_width": null,
            "object_fit": null,
            "object_position": null,
            "order": null,
            "overflow": null,
            "overflow_x": null,
            "overflow_y": null,
            "padding": null,
            "right": null,
            "top": null,
            "visibility": null,
            "width": null
          }
        },
        "751bb5c79f7b4e0aa6cf85e018898f25": {
          "model_module": "@jupyter-widgets/base",
          "model_name": "LayoutModel",
          "model_module_version": "1.2.0",
          "state": {
            "_model_module": "@jupyter-widgets/base",
            "_model_module_version": "1.2.0",
            "_model_name": "LayoutModel",
            "_view_count": null,
            "_view_module": "@jupyter-widgets/base",
            "_view_module_version": "1.2.0",
            "_view_name": "LayoutView",
            "align_content": null,
            "align_items": null,
            "align_self": null,
            "border": null,
            "bottom": null,
            "display": null,
            "flex": null,
            "flex_flow": null,
            "grid_area": null,
            "grid_auto_columns": null,
            "grid_auto_flow": null,
            "grid_auto_rows": null,
            "grid_column": null,
            "grid_gap": null,
            "grid_row": null,
            "grid_template_areas": null,
            "grid_template_columns": null,
            "grid_template_rows": null,
            "height": null,
            "justify_content": null,
            "justify_items": null,
            "left": null,
            "margin": null,
            "max_height": null,
            "max_width": null,
            "min_height": null,
            "min_width": null,
            "object_fit": null,
            "object_position": null,
            "order": null,
            "overflow": null,
            "overflow_x": null,
            "overflow_y": null,
            "padding": null,
            "right": null,
            "top": null,
            "visibility": null,
            "width": null
          }
        },
        "50fbb1c0eb5d4363988dd54985b14f12": {
          "model_module": "@jupyter-widgets/controls",
          "model_name": "SliderStyleModel",
          "model_module_version": "1.5.0",
          "state": {
            "_model_module": "@jupyter-widgets/controls",
            "_model_module_version": "1.5.0",
            "_model_name": "SliderStyleModel",
            "_view_count": null,
            "_view_module": "@jupyter-widgets/base",
            "_view_module_version": "1.2.0",
            "_view_name": "StyleView",
            "description_width": "",
            "handle_color": null
          }
        },
        "fa7e31f7ded74fbf99ec5c8a5b3459c7": {
          "model_module": "@jupyter-widgets/base",
          "model_name": "LayoutModel",
          "model_module_version": "1.2.0",
          "state": {
            "_model_module": "@jupyter-widgets/base",
            "_model_module_version": "1.2.0",
            "_model_name": "LayoutModel",
            "_view_count": null,
            "_view_module": "@jupyter-widgets/base",
            "_view_module_version": "1.2.0",
            "_view_name": "LayoutView",
            "align_content": null,
            "align_items": null,
            "align_self": null,
            "border": null,
            "bottom": null,
            "display": null,
            "flex": null,
            "flex_flow": null,
            "grid_area": null,
            "grid_auto_columns": null,
            "grid_auto_flow": null,
            "grid_auto_rows": null,
            "grid_column": null,
            "grid_gap": null,
            "grid_row": null,
            "grid_template_areas": null,
            "grid_template_columns": null,
            "grid_template_rows": null,
            "height": null,
            "justify_content": null,
            "justify_items": null,
            "left": null,
            "margin": null,
            "max_height": null,
            "max_width": null,
            "min_height": null,
            "min_width": null,
            "object_fit": null,
            "object_position": null,
            "order": null,
            "overflow": null,
            "overflow_x": null,
            "overflow_y": null,
            "padding": null,
            "right": null,
            "top": null,
            "visibility": null,
            "width": null
          }
        }
      }
    }
  },
  "cells": [
    {
      "cell_type": "markdown",
      "metadata": {
        "id": "view-in-github",
        "colab_type": "text"
      },
      "source": [
        "<a href=\"https://colab.research.google.com/github/ReneMarkovic/colab_notebooks/blob/main/didaktika_astronomije.ipynb\" target=\"_parent\"><img src=\"https://colab.research.google.com/assets/colab-badge.svg\" alt=\"Open In Colab\"/></a>"
      ]
    },
    {
      "cell_type": "markdown",
      "source": [
        "# Osnove Jupyter Notebook-a\n",
        "\n",
        "Jupyter Notebook, kot ga uporablja tudi Google Colab, je interaktivno okolje, ki omogoča kombiniranje programske kode, besedilnih razlag, grafov, tabel, in celo multimedijskih vsebin v eni sami datoteki – beležnici (notebook). V osnovi v beležnici uporabljamo dve vrsti celic (cells), namreč kodne celice in besedilne celice. V nadaljevanju se bomo posvetili posamezni vrsti celic in predstavili funkcionalnosti, ki jih te celice imajo."
      ],
      "metadata": {
        "id": "GbZvZCweYVdp"
      }
    },
    {
      "cell_type": "markdown",
      "source": [
        "## Besedilne celice\n",
        "\n",
        "\n",
        "Ustvari besedilno celico, v katero vključiš naslov 2. stopnje \"Moja prva analiza\". V tej celici ustvari kratek odstavek o zvezdah z nekaj krepko označenimi besedami. Izhajaš lahko iz besedila dostopno na strani https://sl.wikipedia.org/wiki/Zvezda.\n",
        "Za odstavkom ustvari urejen seznam s tremi značilnostmi zvezd. Nato prikaži sliko, ki je dostopna na povezavi https://sl.wikipedia.org/wiki/Zvezda#/media/Slika:H-R_diagram_-edited-3.gif ter dodaj povezavo na članek https://www.aanda.org/articles/aa/full_html/2014/04/aa23374-14/aa23374-14.html. Sledi še video, ki podaja razlago o H-R diagramih https://www.youtube.com/watch?v=VlbmPj74rpY&ab_channel=LearntheSky.\n"
      ],
      "metadata": {
        "id": "tpQ-VrmEYcc2"
      }
    },
    {
      "cell_type": "markdown",
      "source": [
        "### Moja prva analiza\n",
        "\n",
        "**Zvezde** so ogromne plinske krogle, ki večino svojega življenja preživijo v ravnovesju med gravitacijo in notranjim pritiskom, ki nastane zaradi **jedrskih reakcij**. Večinoma so sestavljene iz **vodika in helija**, njihovo svetlost pa zaznavamo na različne načine glede na njihovo oddaljenost, temperaturo in maso. Zvezde so ključni objekti v razumevanju **nastanka in razvoja vesolja**.\n",
        "\n",
        "#### Tri značilnosti zvezd:\n",
        "1. Imajo različno **temperaturo**, ki določa njihovo barvo.\n",
        "2. Razlikujejo se po **svetilnosti** in velikosti.\n",
        "3. Nahajajo se v različnih **fazah življenjskega cikla** (npr. glavno zaporedje, rdeča orjakinja, bela pritlikavka).\n",
        "\n",
        "![H-R diagram](https://upload.wikimedia.org/wikipedia/commons/7/78/H-R_diagram_-edited-3.gif)\n",
        "\n",
        "[Znanstveni članek o zvezdnih parametrih (A&A, 2014)](https://www.aanda.org/articles/aa/full_html/2014/04/aa23374-14/aa23374-14.html)\n",
        "\n",
        "[🎞️ Razlagao HR diagramov](https://www.youtube.com/watch?v=VlbmPj74rpY&ab_channel=LearntheSky)"
      ],
      "metadata": {
        "id": "9tEVfDx1Yk06"
      }
    },
    {
      "cell_type": "code",
      "source": [
        "from IPython.display import YouTubeVideo\n",
        "YouTubeVideo('VlbmPj74rpY', width=640, height=360)"
      ],
      "metadata": {
        "colab": {
          "base_uri": "https://localhost:8080/",
          "height": 381
        },
        "id": "JXpmL1vaZeiy",
        "outputId": "044acd01-1c98-4c4f-9007-e58f83c640f7"
      },
      "execution_count": null,
      "outputs": [
        {
          "output_type": "execute_result",
          "data": {
            "text/plain": [
              "<IPython.lib.display.YouTubeVideo at 0x78c7351bb490>"
            ],
            "text/html": [
              "\n",
              "        <iframe\n",
              "            width=\"640\"\n",
              "            height=\"360\"\n",
              "            src=\"https://www.youtube.com/embed/VlbmPj74rpY\"\n",
              "            frameborder=\"0\"\n",
              "            allowfullscreen\n",
              "            \n",
              "        ></iframe>\n",
              "        "
            ],
            "image/jpeg": "[encoded data removed]"
          },
          "metadata": {},
          "execution_count": 85
        }
      ]
    },
    {
      "cell_type": "markdown",
      "source": [
        "## Kodne celice\n",
        "\n",
        "Kodne celice predstavljajo osnovni gradnik Python beležnice. V njih zapisujemo izvajalno kodo, ki se izvede ob pritisku na kombinacijo tipk Shift + Enter ali s klikom na gumb za zagon celice. Vsebina je lahko poljubna Python koda: od preprostih izračunov do uvoza knjižnic, definiranja funkcij, uporabe zank, vizualizacije podatkov in še več. Ko se celica izvede, se rezultat prikaže neposredno pod njo.\n",
        "\n",
        "Pomembno je poudariti, da si vse kodne celice delijo isti pomnilniški prostor, kar pomeni, da so enkrat definirane spremenljivke ali funkcije dostopne tudi v drugih celicah, dokler ne ponastavimo okolja ali znova zaženemo beležnice. V kodnih celicah lahko dodajamo komentarje z znakom #, s čimer lahko opremimo kodo z razlagami, kar je ključnega pomena za preglednost in razumevanje lastnih skript.\n",
        "\n",
        "Poleg izvajanja Python kode omogoča Colab tudi neposreden dostop do terminalskih ukazov, kot bi jih izvajali v ukazni vrstici operacijskega sistema Linux. To dosežemo tako, da pred ukaz napišemo klicaj. Na ta način lahko nameščamo knjižnice, prenašamo podatke s spleta, brišemo ali pregledujemo datoteke ter izvajamo druge sistemske operacije. Na primer, ukaz !pip install astropy namesti knjižnico Astropy, !wget omogoča prenos datotek s spleta, !ls pa izpiše vsebino trenutne delovne mape.\n",
        "\n",
        "Ta možnost naredi Colab zelo fleksibilno orodje, saj omogoča združevanje podatkovne analize, programiranja in nadzora nad okoljem v enem samem vmesniku, kar je še posebej uporabno pri simulacijah in vizualizacijah, kot jih bomo izvajali pri astronomskih vajah.\n"
      ],
      "metadata": {
        "id": "O3Giqn28aDvZ"
      }
    },
    {
      "cell_type": "markdown",
      "source": [
        "### 📘 Primer 1: Osnovni izračun in uporaba spremenljivk"
      ],
      "metadata": {
        "id": "KMY4tlxxbevG"
      }
    },
    {
      "cell_type": "code",
      "execution_count": null,
      "metadata": {
        "id": "Zp6pT8QJPqkP",
        "colab": {
          "base_uri": "https://localhost:8080/"
        },
        "outputId": "bcfa0dcb-098a-4638-a20f-14953ea304cf"
      },
      "outputs": [
        {
          "output_type": "stream",
          "name": "stdout",
          "text": [
            "Zvezda Sirius ima navidezno magnitudo: -1.46\n"
          ]
        }
      ],
      "source": [
        "# Osnovna operacija z dodelitvijo spremenljivk\n",
        "zvezda = \"Sirius\"\n",
        "svetlost = -1.46  # magnituda\n",
        "\n",
        "print(\"Zvezda\", zvezda, \"ima navidezno magnitudo:\", svetlost)"
      ]
    },
    {
      "cell_type": "markdown",
      "source": [
        "### 📘 Primer 2: Uporaba knjižnic in matematične funkcije"
      ],
      "metadata": {
        "id": "WS72Pw4YbnWa"
      }
    },
    {
      "cell_type": "code",
      "source": [
        "# Izračun površine krogle s pomočjo knjižnice NumPy\n",
        "import numpy as np\n",
        "\n",
        "r = 1.7  # polmer v sončevih radijih\n",
        "A = 4 * np.pi * r**2\n",
        "\n",
        "print(\"Površina zvezde s polmerom\", r, \"je\", round(A, 2), \"v enotah R☉²\")"
      ],
      "metadata": {
        "colab": {
          "base_uri": "https://localhost:8080/"
        },
        "id": "tUbTSzB3bkUf",
        "outputId": "afbc1600-f673-4b44-e08e-2481fad8993c"
      },
      "execution_count": null,
      "outputs": [
        {
          "output_type": "stream",
          "name": "stdout",
          "text": [
            "Površina zvezde s polmerom 1.7 je 36.32 v enotah R☉²\n"
          ]
        }
      ]
    },
    {
      "cell_type": "markdown",
      "source": [
        "### 📘 Primer 3: Definicija funkcije za svetilnost zvezde"
      ],
      "metadata": {
        "id": "Z0Entcx5b4bI"
      }
    },
    {
      "cell_type": "code",
      "source": [
        "# Funkcija, ki izračuna svetilnost zvezde glede na maso (v sončevih masah)\n",
        "def svetilnost(masa):\n",
        "    return masa**3.5\n",
        "\n",
        "M = 2.1\n",
        "L = svetilnost(M)\n",
        "print(\"Zvezda z maso\", M, \"ima svetilnost\", round(L, 2), \"v enotah L☉\")"
      ],
      "metadata": {
        "colab": {
          "base_uri": "https://localhost:8080/"
        },
        "id": "_RmuWjsdbrFk",
        "outputId": "87fde352-4c64-40ee-c1eb-c38d246abc51"
      },
      "execution_count": null,
      "outputs": [
        {
          "output_type": "stream",
          "name": "stdout",
          "text": [
            "Zvezda z maso 2.1 ima svetilnost 13.42 v enotah L☉\n"
          ]
        }
      ]
    },
    {
      "cell_type": "markdown",
      "source": [
        "### 📘 Primer 4: Zanka in seznam zvezd"
      ],
      "metadata": {
        "id": "4Wh1WZ-ucD4T"
      }
    },
    {
      "cell_type": "code",
      "source": [
        "# Izpis več zvezd z uporabo seznama in zanke\n",
        "zvezde = [\"Sirius\", \"Betelgeuse\", \"Vega\", \"Rigel\"]\n",
        "\n",
        "for ime in zvezde:\n",
        "    print(\"Analiziramo zvezdo:\", ime)"
      ],
      "metadata": {
        "colab": {
          "base_uri": "https://localhost:8080/"
        },
        "id": "_uLxxjcnb_Xd",
        "outputId": "99beee37-6187-4974-93e9-0b9421e02725"
      },
      "execution_count": null,
      "outputs": [
        {
          "output_type": "stream",
          "name": "stdout",
          "text": [
            "Analiziramo zvezdo: Sirius\n",
            "Analiziramo zvezdo: Betelgeuse\n",
            "Analiziramo zvezdo: Vega\n",
            "Analiziramo zvezdo: Rigel\n"
          ]
        }
      ]
    },
    {
      "cell_type": "markdown",
      "source": [
        "### 📘 Primer 5: Seznam mas, funkcija za svetilnost in prikaz grafa"
      ],
      "metadata": {
        "id": "Gbbkm0dFcV-D"
      }
    },
    {
      "cell_type": "code",
      "source": [
        "import numpy as np\n",
        "import matplotlib.pyplot as plt\n",
        "\n",
        "\n",
        "# Seznam mas zvezd (v enotah sončne mase)\n",
        "mase = [0.5, 0.8, 1.0, 1.2, 1.5, 2.0, 3.0, 5.0, 10.0, 20.0]\n",
        "\n",
        "# Izračun svetilnosti za vsako maso\n",
        "svetilnosti = [svetilnost(m) for m in mase]\n",
        "\n",
        "# Prikaz grafa\n",
        "plt.figure(figsize=(8, 5))\n",
        "plt.plot(mase, svetilnosti, marker='o')\n",
        "plt.title(\"Svetilnost zvezd glede na maso\")\n",
        "plt.xlabel(\"Masa (v enotah M☉)\")\n",
        "plt.ylabel(\"Svetilnost (v enotah L☉)\")\n",
        "plt.grid(True)\n",
        "#plt.yscale('log')  # logaritemska lestvica, ker se svetilnost hitro povečuje\n",
        "#plt.xscale('log')\n",
        "plt.show()"
      ],
      "metadata": {
        "colab": {
          "base_uri": "https://localhost:8080/",
          "height": 487
        },
        "id": "HDttohiccHLo",
        "outputId": "4a7192bb-5720-4a08-e225-8377aa7bd82f"
      },
      "execution_count": null,
      "outputs": [
        {
          "output_type": "display_data",
          "data": {
            "text/plain": [
              "<Figure size 800x500 with 1 Axes>"
            ],
            "image/png": "[encoded data removed]"
          },
          "metadata": {}
        }
      ]
    },
    {
      "cell_type": "markdown",
      "source": [
        "### 📘 Primer 6: Prenos podatkov iz spleta"
      ],
      "metadata": {
        "id": "dHPGPECacp9L"
      }
    },
    {
      "cell_type": "code",
      "source": [
        "!wget -O HR_diagram.gif https://upload.wikimedia.org/wikipedia/commons/8/84/H-R_diagram_-edited-3.gif"
      ],
      "metadata": {
        "colab": {
          "base_uri": "https://localhost:8080/"
        },
        "id": "sLw2jMxVcbj0",
        "outputId": "ad8ce39a-82ed-458f-ff0b-d6ae60222de4"
      },
      "execution_count": null,
      "outputs": [
        {
          "output_type": "stream",
          "name": "stdout",
          "text": [
            "--2025-04-23 09:16:27--  https://upload.wikimedia.org/wikipedia/commons/8/84/H-R_diagram_-edited-3.gif\n",
            "Resolving upload.wikimedia.org (upload.wikimedia.org)... 208.80.154.240, 2620:0:861:ed1a::2:b\n",
            "Connecting to upload.wikimedia.org (upload.wikimedia.org)|208.80.154.240|:443... connected.\n",
            "HTTP request sent, awaiting response... 404 Not Found\n",
            "2025-04-23 09:16:27 ERROR 404: Not Found.\n",
            "\n"
          ]
        }
      ]
    },
    {
      "cell_type": "markdown",
      "source": [
        "### 📘 Primer 7: Izpis vsebine trenutne mape"
      ],
      "metadata": {
        "id": "PwHDwlijc5ug"
      }
    },
    {
      "cell_type": "code",
      "source": [
        "# Seznam datotek v trenutni mapi\n",
        "!ls -lh"
      ],
      "metadata": {
        "colab": {
          "base_uri": "https://localhost:8080/"
        },
        "id": "DSJhLNr-c6AN",
        "outputId": "7690132c-73b0-4b98-ad37-5faa5a7fad71"
      },
      "execution_count": null,
      "outputs": [
        {
          "output_type": "stream",
          "name": "stdout",
          "text": [
            "total 67M\n",
            "-rw-r--r-- 1 root root  17M Apr 23 08:47 de421.bsp\n",
            "-rw-r--r-- 1 root root  51M Apr 23 08:48 hip_main.dat\n",
            "-rw-r--r-- 1 root root    0 Apr 23 09:16 HR_diagram.gif\n",
            "drwxr-xr-x 1 root root 4.0K Apr 21 18:42 sample_data\n"
          ]
        }
      ]
    },
    {
      "cell_type": "markdown",
      "source": [
        "### 📘 Primer 8: Nameščanje manjkajočih knjižic"
      ],
      "metadata": {
        "id": "eSHsuE2lck5p"
      }
    },
    {
      "cell_type": "code",
      "source": [
        "!pip install astropy"
      ],
      "metadata": {
        "colab": {
          "base_uri": "https://localhost:8080/"
        },
        "id": "ZPO63vpfcpT0",
        "outputId": "9b9beec2-c991-42e3-f70c-248311befe17"
      },
      "execution_count": null,
      "outputs": [
        {
          "output_type": "stream",
          "name": "stdout",
          "text": [
            "Requirement already satisfied: astropy in /usr/local/lib/python3.11/dist-packages (7.0.1)\n",
            "Requirement already satisfied: numpy>=1.23.2 in /usr/local/lib/python3.11/dist-packages (from astropy) (2.0.2)\n",
            "Requirement already satisfied: pyerfa>=2.0.1.1 in /usr/local/lib/python3.11/dist-packages (from astropy) (2.0.1.5)\n",
            "Requirement already satisfied: astropy-iers-data>=0.2025.1.31.12.41.4 in /usr/local/lib/python3.11/dist-packages (from astropy) (0.2025.4.14.0.37.22)\n",
            "Requirement already satisfied: PyYAML>=6.0.0 in /usr/local/lib/python3.11/dist-packages (from astropy) (6.0.2)\n",
            "Requirement already satisfied: packaging>=22.0.0 in /usr/local/lib/python3.11/dist-packages (from astropy) (24.2)\n"
          ]
        }
      ]
    },
    {
      "cell_type": "markdown",
      "source": [
        "# Astropy"
      ],
      "metadata": {
        "id": "NQ_v21MBdTLm"
      }
    },
    {
      "cell_type": "markdown",
      "source": [
        "Knjižnica Astropy je osrednja Python knjižnica za astronomsko analizo podatkov. Omogoča delo s časom, koordinatnimi sistemi, opazovalnimi lokacijami, katalogi objektov, FITS datotekami in še mnogo več. V okviru teh vaj se bomo osredotočili na delo s koordinatami zvezd, časovnimi oznakami ter vizualizacijo položajev nebesnih teles, zlasti Sonce.\n",
        "\n",
        "Kot prvo uvozimo knjižico in nekaj za nas uporabnih funkcij."
      ],
      "metadata": {
        "id": "xxVe49NPdpmA"
      }
    },
    {
      "cell_type": "code",
      "source": [
        "from astropy.coordinates import SkyCoord, EarthLocation, AltAz, get_sun\n",
        "from astropy.time import Time\n",
        "from astropy import units as u"
      ],
      "metadata": {
        "id": "tYGIFLIsdT97"
      },
      "execution_count": null,
      "outputs": []
    },
    {
      "cell_type": "markdown",
      "source": [
        "### 🕒 Delo s časom – objekt Time"
      ],
      "metadata": {
        "id": "SfS2XdvOnGYH"
      }
    },
    {
      "cell_type": "code",
      "source": [],
      "metadata": {
        "id": "7y7WXeqSvWXi"
      },
      "execution_count": null,
      "outputs": []
    },
    {
      "cell_type": "markdown",
      "source": [
        "**Julijanski datum**: Šteje dneve in dele dneva (v decimalni obliki) od 1. januarja 4713 pr. n. št. (po proleptičnem julijanskem koledarju). Uporablja se v astronomiji za poenostavljene izračune časovnih razlik.\n",
        "\n",
        "2460416.5 pomeni 16. oktober 2025 ob 12:00:00 UTC (.5 označuje polovico dneva). Začetek dneva (00:00:00 UTC) bi bil 2460416.0. Ne upošteva prestopnih sekund. Osnova za modificirane julijanske datume (npr. MJD = JD − 2400000.5).\n",
        "\n",
        "**Unix čas:** Šteje sekunde od 1. januarja 1970, 00:00:00 UTC (ne upošteva prestopnih sekund). Uporablja se v računalništvu.\n",
        "\n",
        "1763164800 ustreza 16. oktobru 2025 ob 00:00:00 UTC. Če želite točno trenutni Unix čas, lahko v brskalniku vtipkate Date.now() / 1000 (JavaScript). Negativen za datume pred letom 1970.\n",
        "\n",
        "***Max. vrednost za 32-bitne sisteme: 2038-01-19 (težava leta 2038).***\n",
        "\n",
        "**ISO čas:** Standardiziran format datuma in časa (YYYY-MM-DDTHH:MM:SSZ), T ločuje datum in čas. Z označuje UTC (alternativa: +02:00 za časovni pas). 2025-10-16T00:00:00Z pomeni 16. oktober 2025 ob 00:00:00 UTC. Lokalni čas (npr. za Ljubljano): 2025-10-16T02:00:00+02:00. Berljiv za ljudi in strojno obdelavo. Podpira tudi trajanja (npr. PT5H30M za 5 ur in 30 minut).\n",
        "\n",
        "\n"
      ],
      "metadata": {
        "id": "DHYoYJqcvKWP"
      }
    },
    {
      "cell_type": "code",
      "source": [
        "cas = Time(\"2025-04-16 12:00:00\")  # UTC čas\n",
        "\n",
        "print(\"Julijanski datum:\", cas.jd)\n",
        "print(\"Unix čas:\", cas.unix)\n",
        "print(\"Cas v formatu ISO:\", cas.iso)\n"
      ],
      "metadata": {
        "id": "OBxMZGGKnBEu",
        "outputId": "cab00196-233b-49a3-8c6b-15ce385214eb",
        "colab": {
          "base_uri": "https://localhost:8080/"
        }
      },
      "execution_count": null,
      "outputs": [
        {
          "output_type": "stream",
          "name": "stdout",
          "text": [
            "Julijanski datum: 2460782.0\n",
            "Unix čas: 1744804800.0\n",
            "Cas v formatu ISO: 2025-04-16 12:00:00.000\n"
          ]
        }
      ]
    },
    {
      "cell_type": "markdown",
      "source": [
        "### 📍 Opazovalna lokacija – objekt EarthLocation\n",
        "\n",
        "Astropy uporablja sistem enot iz astropy.units, zato je potrebno vsako vrednost opremiti z enoto, npr. 45 * u.deg."
      ],
      "metadata": {
        "id": "XmclsRcpnYGY"
      }
    },
    {
      "cell_type": "code",
      "source": [
        "latitute = 46.56 * u.deg\n",
        "longitude = 15.65 * u.deg\n",
        "height = 270 * u.m\n",
        "\n",
        "maribor = EarthLocation(lat = latitute,\n",
        "                        lon = longitude,\n",
        "                        height= height)\n",
        "print(maribor)"
      ],
      "metadata": {
        "id": "afUmgfXjnNgc",
        "outputId": "00b33ade-440c-4a57-f275-a7337a21bcd7",
        "colab": {
          "base_uri": "https://localhost:8080/"
        }
      },
      "execution_count": null,
      "outputs": [
        {
          "output_type": "stream",
          "name": "stdout",
          "text": [
            "(4230639.243902243, 1185196.4071466008, 4608465.0288450355) m\n"
          ]
        }
      ]
    },
    {
      "cell_type": "code",
      "source": [
        "print(\"Geografska širina:\", maribor.lat)\n",
        "print(\"Geografska dolžina:\", maribor.lon)\n",
        "print(\"Nadmorska višina:\", maribor.height)"
      ],
      "metadata": {
        "colab": {
          "base_uri": "https://localhost:8080/"
        },
        "id": "D7niX84o069t",
        "outputId": "d172733a-0a65-4a6c-8b86-ce22d1b96c7d"
      },
      "execution_count": null,
      "outputs": [
        {
          "output_type": "stream",
          "name": "stdout",
          "text": [
            "Geografska širina: 46d33m36s\n",
            "Geografska dolžina: 15d39m00s\n",
            "Nadmorska višina: 270.00000000074687 m\n"
          ]
        }
      ]
    },
    {
      "cell_type": "markdown",
      "source": [
        "### 🌞 Položaj Sonca ob danem času in na dani lokaciji\n",
        "\n",
        "To je osnovni primer, kako izračunamo, kje na nebu se Sonce nahaja ob določenem času za določenega opazovalca. [dokumentacija](https://docs.astropy.org/en/stable/api/astropy.coordinates.AltAz.html)"
      ],
      "metadata": {
        "id": "H_S8iJ2hnvCt"
      }
    },
    {
      "cell_type": "code",
      "source": [
        "cas = Time(\"2025-04-09 06:00:00\")  # UTC čas\n",
        "altaz = AltAz(location=maribor, obstime=cas)\n",
        "sonce = get_sun(cas).transform_to(altaz)\n",
        "print(\"Višina Sonca:\", round(sonce.alt.deg, 2), \"°\", \"Azimut:\", round(sonce.az.deg, 2), \"°\")\n",
        "\n",
        "cas = Time(\"2025-04-09 12:00:00\")  # UTC čas\n",
        "altaz = AltAz(location=maribor, obstime=cas)\n",
        "sonce = get_sun(cas).transform_to(altaz)\n",
        "print(\"Višina Sonca:\", round(sonce.alt.deg, 2), \"°\", \"Azimut:\", round(sonce.az.deg, 2), \"°\")\n",
        "\n",
        "cas = Time(\"2025-04-09 20:00:00\")  # UTC čas\n",
        "altaz = AltAz(location=maribor, obstime=cas)\n",
        "sonce = get_sun(cas).transform_to(altaz)\n",
        "print(\"Višina Sonca:\", round(sonce.alt.deg, 2), \"°\", \"Azimut:\", round(sonce.az.deg, 2), \"°\")"
      ],
      "metadata": {
        "id": "_uA7SgFPndAs",
        "outputId": "341f851c-6e30-451c-9f68-1168f62181c4",
        "colab": {
          "base_uri": "https://localhost:8080/"
        }
      },
      "execution_count": null,
      "outputs": [
        {
          "output_type": "stream",
          "name": "stdout",
          "text": [
            "Višina Sonca: 16.04 ° Azimut: 95.82 °\n",
            "Višina Sonca: 49.06 ° Azimut: 203.48 °\n",
            "Višina Sonca: -22.6 ° Azimut: 311.0 °\n"
          ]
        }
      ]
    },
    {
      "cell_type": "markdown",
      "source": [
        "## Tir Sonca"
      ],
      "metadata": {
        "id": "_kypuvc21NNQ"
      }
    },
    {
      "cell_type": "code",
      "source": [
        "import matplotlib.pyplot as plt\n",
        "\n",
        "ure = [f\"2025-04-09T{h:02d}:00:00\" for h in range(24)]\n",
        "print(ure[0])\n",
        "cas = Time(ure)\n",
        "altaz = AltAz(obstime=cas, location=maribor)\n",
        "sonce = get_sun(cas).transform_to(altaz)\n",
        "\n",
        "plt.figure(figsize=(10, 6))\n",
        "plt.plot(sonce.az.deg, sonce.alt.deg, marker='o')\n",
        "for i, h in enumerate(range(24)):\n",
        "    plt.text(sonce.az.deg[i], sonce.alt.deg[i], str(h), fontsize=8, ha='center', va='bottom')\n",
        "\n",
        "plt.title(\"Tir Sonca na nebu – 9. april 2025 (Maribor)\")\n",
        "plt.xlabel(\"Azimut [°]\")\n",
        "plt.ylabel(\"Višina (Alt) [°]\")\n",
        "plt.xlim(0, 360)\n",
        "plt.ylim(0, 90)\n",
        "plt.grid(True)\n",
        "plt.show()"
      ],
      "metadata": {
        "colab": {
          "base_uri": "https://localhost:8080/",
          "height": 721
        },
        "id": "kQ6T_dkV1UIe",
        "outputId": "03108161-affb-4d98-beeb-ec9398ec0dee"
      },
      "execution_count": null,
      "outputs": [
        {
          "output_type": "stream",
          "name": "stdout",
          "text": [
            "2025-04-09T00:00:00\n"
          ]
        },
        {
          "output_type": "display_data",
          "data": {
            "text/plain": [
              "<Figure size 1000x600 with 1 Axes>"
            ],
            "image/png": "[encoded data removed]"
          },
          "metadata": {}
        }
      ]
    },
    {
      "cell_type": "markdown",
      "source": [
        "## Dolžina dneva"
      ],
      "metadata": {
        "id": "5va2QbXB2DoD"
      }
    },
    {
      "cell_type": "code",
      "source": [
        "import numpy as np\n",
        "# Generiramo časovne točke v intervalu 0–24h (npr. vsakih 5 minut)\n",
        "ure = Time('2025-04-09T00:00:00') + np.arange(0, 24*60, 1)*u.min\n",
        "\n",
        "# Koordinatni sistem AltAz za vse čase\n",
        "altaz = AltAz(obstime=ure, location=maribor)\n",
        "\n",
        "# Sončev položaj\n",
        "sonce = get_sun(ure).transform_to(altaz)\n",
        "\n",
        "# Izračunamo, kje je alt > 0 (nad obzorjem)\n",
        "nad_obzorjem = sonce.alt > 0*u.deg\n",
        "\n",
        "# Poiščemo indekse prvega in zadnjega trenutka, ko je Sonce nad obzorjem\n",
        "vzhod_idx = np.argmax(nad_obzorjem)  # prvi True\n",
        "zahod_idx = len(nad_obzorjem) - np.argmax(nad_obzorjem[::-1]) - 1  # zadnji True\n",
        "\n",
        "# Določimo čase vzhoda in zahoda\n",
        "vzhod = ure[vzhod_idx].to_datetime()\n",
        "zahod = ure[zahod_idx].to_datetime()\n",
        "\n",
        "# Izračunamo dolžino dneva\n",
        "dolzina_dneva = zahod - vzhod\n",
        "\n",
        "print(\"Sončni vzhod:\", vzhod.time())\n",
        "print(\"Sončni zahod:\", zahod.time())\n",
        "print(\"Dolžina dneva:\", dolzina_dneva)"
      ],
      "metadata": {
        "colab": {
          "base_uri": "https://localhost:8080/"
        },
        "id": "MYIzmHUF2JSP",
        "outputId": "7ea9e4f1-fb95-49b7-aaa9-aa13ca1fecf8"
      },
      "execution_count": null,
      "outputs": [
        {
          "output_type": "stream",
          "name": "stdout",
          "text": [
            "Sončni vzhod: 04:27:00\n",
            "Sončni zahod: 17:32:00\n",
            "Dolžina dneva: 13:05:00\n"
          ]
        }
      ]
    },
    {
      "cell_type": "code",
      "source": [
        "from tqdm.auto import tqdm as tqdm\n",
        "\n",
        "\n",
        "\n",
        "datumi = Time('2025-01-01') + np.arange(0, 365)*u.day\n",
        "\n",
        "dolzine_dni = []\n",
        "najvisje_alt = []\n",
        "najvisji_az = []\n",
        "\n",
        "# Iteracija čez vse dni\n",
        "for dan in tqdm(datumi,total = len(datumi)):\n",
        "    # Generiramo ure tega dne (vsako minuto)\n",
        "    ure = dan + np.arange(0, 24*60, 5)*u.min\n",
        "\n",
        "    # AltAz sistem in položaj Sonca\n",
        "    altaz = AltAz(obstime=ure, location=maribor) #Problem\n",
        "    sonce = get_sun(ure).transform_to(altaz)\n",
        "\n",
        "    idx_max = np.argmax(sonce.alt)\n",
        "    # Filtriramo trenutke, ko je Sonce nad obzorjem\n",
        "    nad_obzorjem = sonce.alt > 0*u.deg\n",
        "    najvisje_alt.append(sonce.alt[idx_max].deg)\n",
        "    najvisji_az.append(sonce.az[idx_max].deg)\n",
        "\n",
        "    if np.any(nad_obzorjem):\n",
        "        vzhod_idx = np.argmax(nad_obzorjem)\n",
        "        zahod_idx = len(nad_obzorjem) - np.argmax(nad_obzorjem[::-1]) - 1\n",
        "        cas_vzhoda = ure[vzhod_idx].datetime\n",
        "        cas_zahoda = ure[zahod_idx].datetime\n",
        "        dolzina = (cas_zahoda - cas_vzhoda).total_seconds() / 3600  # ure\n",
        "    else:\n",
        "        dolzina = 0  # polarna noč (te v Mariboru sicer ni)\n",
        "\n",
        "    dolzine_dni.append(dolzina)\n",
        "\n",
        "# Risanje grafa\n",
        "plt.figure(figsize=(12, 6))\n",
        "plt.plot(datumi.datetime, dolzine_dni)\n",
        "plt.title(\"Dolžina dneva skozi leto 2025 (Maribor)\")\n",
        "plt.xlabel(\"Datum\")\n",
        "plt.ylabel(\"Dolžina dneva [ure]\")\n",
        "plt.grid(True)\n",
        "plt.ylim(0, 24)\n",
        "plt.show()"
      ],
      "metadata": {
        "colab": {
          "base_uri": "https://localhost:8080/",
          "height": 596,
          "referenced_widgets": [
            "76bbb6d26fbb4bf4a380bcc7ae118a57",
            "8e3e56a71ec74e0db1abd3682db1d580",
            "8bbd35500962478fa09179049bb68f1e",
            "b5867736b01a453c9d712de3476fac8a",
            "71d92f35d1de43e5bc9a87e7f1ed8c5d",
            "fabc64f27c5a4fc187f8711917f4c66f",
            "d4aa40fd1ba849d7a373958338fdfd32",
            "ff1a1d6ef6e6464cb4b3eb5589fa27b3",
            "0a9b7c1ee6694ed5b5a98e1b0990db9b",
            "e98f99b3cdd746fc80bb2ed5979d7602",
            "fc338dc122b149cc832a80669e3dff4d"
          ]
        },
        "id": "SgYg5pBS3T8o",
        "outputId": "7193e191-3400-4e7a-d931-bb625a0b867b"
      },
      "execution_count": null,
      "outputs": [
        {
          "output_type": "display_data",
          "data": {
            "text/plain": [
              "  0%|          | 0/365 [00:00<?, ?it/s]"
            ],
            "application/vnd.jupyter.widget-view+json": {
              "version_major": 2,
              "version_minor": 0,
              "model_id": "76bbb6d26fbb4bf4a380bcc7ae118a57"
            }
          },
          "metadata": {}
        },
        {
          "output_type": "display_data",
          "data": {
            "text/plain": [
              "<Figure size 1200x600 with 1 Axes>"
            ],
            "image/png": "[encoded data removed]"
          },
          "metadata": {}
        }
      ]
    },
    {
      "cell_type": "code",
      "source": [
        "plt.figure(figsize=(10, 6))\n",
        "plt.scatter(najvisji_az, najvisje_alt, c=range(365), cmap='plasma', s=10)\n",
        "plt.title(\"Točke kulminacije Sonca na nebu skozi leto (Maribor)\")\n",
        "plt.xlabel(\"Azimut ob kulminaciji [°]\")\n",
        "plt.ylabel(\"Višina Sonca ob kulminaciji [°]\")\n",
        "plt.grid(True)\n",
        "plt.xlim(0, 360)\n",
        "plt.ylim(0, 90)\n",
        "cbar = plt.colorbar(label=\"Dan v letu\")\n",
        "plt.show()"
      ],
      "metadata": {
        "colab": {
          "base_uri": "https://localhost:8080/",
          "height": 565
        },
        "id": "5ZI6pBSW4OV8",
        "outputId": "0931d72d-7fd7-4488-c42a-0743883f3455"
      },
      "execution_count": null,
      "outputs": [
        {
          "output_type": "display_data",
          "data": {
            "text/plain": [
              "<Figure size 1000x600 with 2 Axes>"
            ],
            "image/png": "[encoded data removed]"
          },
          "metadata": {}
        }
      ]
    },
    {
      "cell_type": "markdown",
      "source": [
        "## Lega Sonce ob isti uri skozi leto\n",
        "\n",
        "---\n",
        "\n"
      ],
      "metadata": {
        "id": "7dDC3oAe5JMd"
      }
    },
    {
      "cell_type": "code",
      "source": [
        "# Dnevi v letu\n",
        "datumi = Time('2025-01-01') + np.arange(0, 365)*u.day\n",
        "\n",
        "# Izbrana ura (lahko spremeniš, npr. \"08:00:00\", \"18:00:00\", ...)\n",
        "ura = \"16:00:00\"\n",
        "\n",
        "# Seznami za rezultate\n",
        "alt_12 = []\n",
        "az_12 = []\n",
        "\n",
        "# Iteracija čez dni\n",
        "for dan in tqdm(datumi,total = len(datumi)):\n",
        "    trenutek = Time(f\"{dan.datetime.date()}T{ura}\")\n",
        "    altaz = AltAz(obstime=trenutek, location=maribor)\n",
        "    sonce = get_sun(trenutek).transform_to(altaz)\n",
        "\n",
        "    alt_12.append(sonce.alt.deg)\n",
        "    az_12.append(sonce.az.deg)\n",
        "\n",
        "# Vizualizacija: azimut vs višina\n",
        "plt.figure(figsize=(10, 6))\n",
        "plt.scatter(az_12, alt_12, c=range(365), cmap='viridis', s=10)\n",
        "plt.title(f\"Lega Sonca na nebu vsak dan ob {ura} (Maribor)\")\n",
        "plt.xlabel(\"Azimut [°]\")\n",
        "plt.ylabel(\"Višina (Alt) [°]\")\n",
        "plt.grid(True)\n",
        "plt.xlim(0, 360)\n",
        "plt.ylim(0, 90)\n",
        "plt.colorbar(label=\"Dan v letu\")\n",
        "plt.show()"
      ],
      "metadata": {
        "colab": {
          "base_uri": "https://localhost:8080/",
          "height": 596,
          "referenced_widgets": [
            "bbae89bee17c4887ae3f464d4057a36f",
            "a636bc3ccfa243768f0a1ec856bb6912",
            "1177cd90b89b4befb08a99c218982db4",
            "063038cff85747f3af34d9c1106e63f6",
            "0efbb59896a6400caf31e428584a2a24",
            "1a526bdea76848e38c11e83761e2dda5",
            "57c2d2375adf49c18b022df96335ee94",
            "02fbad05fe86498dbc6736e61f8be114",
            "2338ed1667964ba69706fa6bbf7c869a",
            "dacd132ae3094da3be94d17416a6cd8a",
            "4f7daad960c04389af743280a1d0d697"
          ]
        },
        "id": "r5lNH9TJ5L2B",
        "outputId": "afafe367-747f-45ac-a697-6c1b9529c1c9"
      },
      "execution_count": null,
      "outputs": [
        {
          "output_type": "display_data",
          "data": {
            "text/plain": [
              "  0%|          | 0/365 [00:00<?, ?it/s]"
            ],
            "application/vnd.jupyter.widget-view+json": {
              "version_major": 2,
              "version_minor": 0,
              "model_id": "bbae89bee17c4887ae3f464d4057a36f"
            }
          },
          "metadata": {}
        },
        {
          "output_type": "display_data",
          "data": {
            "text/plain": [
              "<Figure size 1000x600 with 2 Axes>"
            ],
            "image/png": "[encoded data removed]"
          },
          "metadata": {}
        }
      ]
    },
    {
      "cell_type": "markdown",
      "source": [
        "### 🧭 Pretvorba iz ekvatorialnega sistema (RA, Dec) v horizontalni sistem (Alt-Az)"
      ],
      "metadata": {
        "id": "Z-Yq2PDVoT6P"
      }
    },
    {
      "cell_type": "code",
      "source": [
        "#Zvezda Betelgeuse\n",
        "ra = 83.63*u.deg\n",
        "dec = 22.01*u.deg\n",
        "\n",
        "zvezda = SkyCoord(ra=ra, dec=dec, frame='icrs')  # Primer za Betelgeuse\n",
        "\n",
        "cas = Time(\"2025-06-09 20:00:00\")  # UTC čas\n",
        "altaz_frame = AltAz(obstime = cas, location = maribor)\n",
        "\n",
        "zvezda_altaz = zvezda.transform_to(altaz_frame)\n",
        "print(\"Višina:\", round(zvezda_altaz.alt.deg, 2), \"°\", \"Azimut:\", round(zvezda_altaz.az.deg, 2), \"°\")\n"
      ],
      "metadata": {
        "id": "IKBMumHJn0D0",
        "outputId": "76dd5d06-3285-4aa8-806d-4f3fc4ce7a70",
        "colab": {
          "base_uri": "https://localhost:8080/"
        }
      },
      "execution_count": null,
      "outputs": [
        {
          "output_type": "stream",
          "name": "stdout",
          "text": [
            "Višina: -7.94 ° Azimut: 314.26 °\n"
          ]
        }
      ]
    },
    {
      "cell_type": "markdown",
      "source": [
        "# Objekti na nebu"
      ],
      "metadata": {
        "id": "F6oJ48hUtR9M"
      }
    },
    {
      "cell_type": "markdown",
      "source": [
        "## 🌟 Kaj je navidezni sij?"
      ],
      "metadata": {
        "id": "aX6s_wxZtj9O"
      }
    },
    {
      "cell_type": "markdown",
      "source": [
        "Navidezni sij (oz. navidezna magnituda, angl. apparent magnitude) je mera, kako svetel se zdi objekt na nebu opazovalcu na Zemlji. Gre za logaritemsko lestvico, kjer manjša številka pomeni svetlejši objekt, npr.:\n",
        "\n",
        "- Sonce: −26.74\n",
        "- Polna Luna: −12.6\n",
        "- Venera (pri največji svetlosti): ~−4.5\n",
        "- Sirius (najsvetlejša zvezda): −1.46\n",
        "- Najšibkejši objekti, vidni s prostim očesom: +6.0\n",
        "- Hubble doseže: +30\n",
        "\n",
        "Navidezni sij določimo po enačbi:\n",
        "\n",
        "$$\n",
        "m = -2.5 \\log_{10} \\left( \\frac{j}{j_r} \\right),\n",
        "$$\n",
        "\n",
        "kjer je $j$ gostota svetlobnega toka, ki jo zaznamo od objekta in $j_r$ je določena referenčna vrednost gostote svetlobnega toka (zvezde Vega, ki ima magnitudo 0)."
      ],
      "metadata": {
        "id": "1gqADBFttu0v"
      }
    },
    {
      "cell_type": "markdown",
      "source": [
        "## 🔹 Absolutni sij (absolute magnitude, označeno kot $M$)"
      ],
      "metadata": {
        "id": "7lZDU9Q-uVGk"
      }
    },
    {
      "cell_type": "markdown",
      "source": [
        "Absolutni sij M je definiran kot navidezni sij, ki bi ga imel objekt, če bi bil oddaljen točno 10 parsekov (32.6 svetlobnih let)."
      ],
      "metadata": {
        "id": "7wzUwUHnuu8u"
      }
    },
    {
      "cell_type": "markdown",
      "source": [
        "## 🔁 Povezava med $m$ in $M$"
      ],
      "metadata": {
        "id": "HfXQCIyyuwbC"
      }
    },
    {
      "cell_type": "markdown",
      "source": [
        "Če poznamo navidezni sij in oddaljenost objekta (v parsekih), potem\n",
        "lahko zapišemo povezavo:\n",
        "$$\n",
        " m − M = 5 \\log⁡_{10}(d)−5\n",
        "$$\n",
        "\n",
        "\n",
        "kjer je $d$ oddaljenost objekta v parsekih (pc), $m−M$ je t.i. razdaljni modul (distance modulus), ki pove, koliko svetlejši se objekt zdi, če je bližje kot 10 pc, oziroma temnejši, če je bolj oddaljen."
      ],
      "metadata": {
        "id": "ZrB4HbEMuwS_"
      }
    },
    {
      "cell_type": "code",
      "source": [
        "import numpy as np\n",
        "\n",
        "x = sorted([np.power(10,-float(i)) for i in range(0,10)])\n",
        "y = sorted([i for i in range(0,10)])\n",
        "\n",
        "plt.scatter(x,y)\n",
        "plt.xscale('log')\n",
        "plt.show()"
      ],
      "metadata": {
        "colab": {
          "base_uri": "https://localhost:8080/",
          "height": 434
        },
        "id": "tx7hmbwl8eSU",
        "outputId": "5760c425-a2a2-4325-97d5-452ae22dac90"
      },
      "execution_count": null,
      "outputs": [
        {
          "output_type": "display_data",
          "data": {
            "text/plain": [
              "<Figure size 640x480 with 1 Axes>"
            ],
            "image/png": "[encoded data removed]"
          },
          "metadata": {}
        }
      ]
    },
    {
      "cell_type": "code",
      "source": [
        "import numpy as np\n",
        "import matplotlib.pyplot as plt\n",
        "\n",
        "# Navidezne magnitude različnih teles\n",
        "imena = [\"Sonce\", \"Polna Luna\", \"Venera\", \"Sirius\", \"Meja človeškega očesa\", \"Hubble\"]\n",
        "magnituda = [-26.74, -12.6, -4.5, -1.46, 6.0, 30]\n",
        "\n",
        "plt.figure(figsize=(10, 6))\n",
        "bars = plt.barh(imena, magnituda, color='skyblue')\n",
        "plt.gca().invert_xaxis()  # manjša magnituda = svetlejši objekt\n",
        "plt.xlabel(\"Navidezna magnituda\")\n",
        "plt.title(\"Primerjava navideznega sija nebesnih teles\")\n",
        "plt.grid(True, axis='x', linestyle='--', alpha=0.7)\n",
        "\n",
        "# Dodajmo oznake vrednosti\n",
        "for bar, m in zip(bars, magnituda):\n",
        "    plt.text(m - 1, bar.get_y() + bar.get_height()/2, f\"{m}\", va='center', ha='right', fontsize=10, color='black')\n",
        "\n",
        "plt.tight_layout()\n",
        "plt.show()"
      ],
      "metadata": {
        "colab": {
          "base_uri": "https://localhost:8080/",
          "height": 607
        },
        "id": "m3ysf26euuum",
        "outputId": "b6844a05-5cc4-4c05-fb7a-569843640e70"
      },
      "execution_count": null,
      "outputs": [
        {
          "output_type": "display_data",
          "data": {
            "text/plain": [
              "<Figure size 1000x600 with 1 Axes>"
            ],
            "image/png": "[encoded data removed]"
          },
          "metadata": {}
        }
      ]
    },
    {
      "cell_type": "markdown",
      "source": [
        "## Delo s podatki"
      ],
      "metadata": {
        "id": "pqZ_R21ivlXb"
      }
    },
    {
      "cell_type": "code",
      "source": [
        "try:\n",
        "  from astroquery.simbad import Simbad\n",
        "except:\n",
        "  !pip install astroquery\n",
        "  from astroquery.simbad import Simbad\n",
        "  from IPython.display import clear_output\n",
        "  clear_output()\n",
        "\n",
        "# Prilagodimo iskanje\n",
        "Simbad.TIMEOUT = 30\n",
        "Simbad.add_votable_fields('V', 'B', 'R')\n",
        "\n",
        "# Iščemo objekt\n",
        "result = Simbad.query_object(\"Betelgeuse\")\n",
        "print(result)"
      ],
      "metadata": {
        "id": "O6Lvdn7KoXPF",
        "colab": {
          "base_uri": "https://localhost:8080/"
        },
        "outputId": "002e3871-ebae-434c-c20b-5df0d32acc62"
      },
      "execution_count": null,
      "outputs": [
        {
          "output_type": "stream",
          "name": "stdout",
          "text": [
            " main_id          ra               dec        ... otype    matched_id  \n",
            "                 deg               deg        ...                      \n",
            "--------- ----------------- ----------------- ... ----- ---------------\n",
            "* alf Ori 88.79293899077537 7.407063995272694 ...   s*r NAME Betelgeuse\n"
          ]
        }
      ]
    },
    {
      "cell_type": "markdown",
      "source": [
        "### Razumevanje podatkov\n",
        "\n",
        "| Stolpec | Opis |\n",
        "|---------|------|\n",
        "| main_id | Glavno ime objekta v bazi SIMBAD (npr. * alf Ori za Betelgeuse) |\n",
        "| ra | Rektascenzija (Right Ascension) – ekvatorialna koordinata, podobno kot dolžina, v formatu 'hh mm ss.ssss' |\n",
        "| dec | Deklinacija (Declination) – ekvatorialna koordinata, podobno kot zemljepisna širina, v formatu '±dd mm ss.ss'|\n",
        "| coo_err_maj | Glavna (večja) os elipse napake koordinat (v ločnih sekundah – arcsec) |\n",
        "|coo_err_min | Manjša os elipse napake koordinat (v ločnih sekundah) |\n",
        "|coo_err_angle | Kot orientacije napake (v stopinjah) – določa usmerjenost elipse napake |\n",
        "|coo_wavelength | Valovna dolžina, pri kateri so bile izmerjene koordinate (npr. optični pas) |\n",
        "|coo_bibcode | Referenčna oznaka (bibcode) znanstvenega članka, iz katerega izvirajo podatki o koordinatah|\n",
        "|R | Navidezna magnituda v rdečem fotometričnem pasu (Johnson R) |\n",
        "|B | Navidezna magnituda v modrem pasu (Johnson B) |\n",
        "|V | Navidezna magnituda v vidnem pasu (Johnson V) – najpogosteje uporabljena za primerjave svetlosti |\n",
        "|matched_id | Ime, s katerim je bil objekt ujemajoče najden (običajno enak main_id, razen pri nepopolnem zadetku) |"
      ],
      "metadata": {
        "id": "xhxIhs33wPfL"
      }
    },
    {
      "cell_type": "code",
      "source": [
        "import pandas as pd\n",
        "\n",
        "# Pretvorimo v DataFrame\n",
        "if result is not None:\n",
        "    df = result.to_pandas()\n",
        "    print(\"\\n🔎 DataFrame:\")\n",
        "    display(df)\n",
        "else:\n",
        "    print(\"Objekta ni bilo mogoče najti.\")\n",
        "\n",
        "df.to_excel(\"Astro.xlsx\")"
      ],
      "metadata": {
        "colab": {
          "base_uri": "https://localhost:8080/",
          "height": 125
        },
        "id": "h7xEFacbvxYd",
        "outputId": "56764bcc-96fd-4320-bd0f-61ca04198de1"
      },
      "execution_count": null,
      "outputs": [
        {
          "output_type": "stream",
          "name": "stdout",
          "text": [
            "\n",
            "🔎 DataFrame:\n"
          ]
        },
        {
          "output_type": "display_data",
          "data": {
            "text/plain": [
              "     main_id         ra       dec  coo_err_maj  coo_err_min  coo_err_angle  \\\n",
              "0  * alf Ori  88.792939  7.407064     9.040423     5.716997             90   \n",
              "\n",
              "  coo_wavelength          coo_bibcode     R     B     V otype       matched_id  \n",
              "0              O  2007A&A...474..653V -1.17  2.27  0.42   s*r  NAME Betelgeuse  "
            ],
            "text/html": [
              "\n",
              "  <div id=\"df-09f5578d-bff5-4af4-b38c-bee857173afa\" class=\"colab-df-container\">\n",
              "    <div>\n",
              "<style scoped>\n",
              "    .dataframe tbody tr th:only-of-type {\n",
              "        vertical-align: middle;\n",
              "    }\n",
              "\n",
              "    .dataframe tbody tr th {\n",
              "        vertical-align: top;\n",
              "    }\n",
              "\n",
              "    .dataframe thead th {\n",
              "        text-align: right;\n",
              "    }\n",
              "</style>\n",
              "<table border=\"1\" class=\"dataframe\">\n",
              "  <thead>\n",
              "    <tr style=\"text-align: right;\">\n",
              "      <th></th>\n",
              "      <th>main_id</th>\n",
              "      <th>ra</th>\n",
              "      <th>dec</th>\n",
              "      <th>coo_err_maj</th>\n",
              "      <th>coo_err_min</th>\n",
              "      <th>coo_err_angle</th>\n",
              "      <th>coo_wavelength</th>\n",
              "      <th>coo_bibcode</th>\n",
              "      <th>R</th>\n",
              "      <th>B</th>\n",
              "      <th>V</th>\n",
              "      <th>otype</th>\n",
              "      <th>matched_id</th>\n",
              "    </tr>\n",
              "  </thead>\n",
              "  <tbody>\n",
              "    <tr>\n",
              "      <th>0</th>\n",
              "      <td>* alf Ori</td>\n",
              "      <td>88.792939</td>\n",
              "      <td>7.407064</td>\n",
              "      <td>9.040423</td>\n",
              "      <td>5.716997</td>\n",
              "      <td>90</td>\n",
              "      <td>O</td>\n",
              "      <td>2007A&amp;A...474..653V</td>\n",
              "      <td>-1.17</td>\n",
              "      <td>2.27</td>\n",
              "      <td>0.42</td>\n",
              "      <td>s*r</td>\n",
              "      <td>NAME Betelgeuse</td>\n",
              "    </tr>\n",
              "  </tbody>\n",
              "</table>\n",
              "</div>\n",
              "    <div class=\"colab-df-buttons\">\n",
              "\n",
              "  <div class=\"colab-df-container\">\n",
              "    <button class=\"colab-df-convert\" onclick=\"convertToInteractive('df-09f5578d-bff5-4af4-b38c-bee857173afa')\"\n",
              "            title=\"Convert this dataframe to an interactive table.\"\n",
              "            style=\"display:none;\">\n",
              "\n",
              "  <svg xmlns=\"http://www.w3.org/2000/svg\" height=\"24px\" viewBox=\"0 -960 960 960\">\n",
              "    <path d=\"M120-120v-720h720v720H120Zm60-500h600v-160H180v160Zm220 220h160v-160H400v160Zm0 220h160v-160H400v160ZM180-400h160v-160H180v160Zm440 0h160v-160H620v160ZM180-180h160v-160H180v160Zm440 0h160v-160H620v160Z\"/>\n",
              "  </svg>\n",
              "    </button>\n",
              "\n",
              "  <style>\n",
              "    .colab-df-container {\n",
              "      display:flex;\n",
              "      gap: 12px;\n",
              "    }\n",
              "\n",
              "    .colab-df-convert {\n",
              "      background-color: #E8F0FE;\n",
              "      border: none;\n",
              "      border-radius: 50%;\n",
              "      cursor: pointer;\n",
              "      display: none;\n",
              "      fill: #1967D2;\n",
              "      height: 32px;\n",
              "      padding: 0 0 0 0;\n",
              "      width: 32px;\n",
              "    }\n",
              "\n",
              "    .colab-df-convert:hover {\n",
              "      background-color: #E2EBFA;\n",
              "      box-shadow: 0px 1px 2px rgba(60, 64, 67, 0.3), 0px 1px 3px 1px rgba(60, 64, 67, 0.15);\n",
              "      fill: #174EA6;\n",
              "    }\n",
              "\n",
              "    .colab-df-buttons div {\n",
              "      margin-bottom: 4px;\n",
              "    }\n",
              "\n",
              "    [theme=dark] .colab-df-convert {\n",
              "      background-color: #3B4455;\n",
              "      fill: #D2E3FC;\n",
              "    }\n",
              "\n",
              "    [theme=dark] .colab-df-convert:hover {\n",
              "      background-color: #434B5C;\n",
              "      box-shadow: 0px 1px 3px 1px rgba(0, 0, 0, 0.15);\n",
              "      filter: drop-shadow(0px 1px 2px rgba(0, 0, 0, 0.3));\n",
              "      fill: #FFFFFF;\n",
              "    }\n",
              "  </style>\n",
              "\n",
              "    <script>\n",
              "      const buttonEl =\n",
              "        document.querySelector('#df-09f5578d-bff5-4af4-b38c-bee857173afa button.colab-df-convert');\n",
              "      buttonEl.style.display =\n",
              "        google.colab.kernel.accessAllowed ? 'block' : 'none';\n",
              "\n",
              "      async function convertToInteractive(key) {\n",
              "        const element = document.querySelector('#df-09f5578d-bff5-4af4-b38c-bee857173afa');\n",
              "        const dataTable =\n",
              "          await google.colab.kernel.invokeFunction('convertToInteractive',\n",
              "                                                    [key], {});\n",
              "        if (!dataTable) return;\n",
              "\n",
              "        const docLinkHtml = 'Like what you see? Visit the ' +\n",
              "          '<a target=\"_blank\" href=https://colab.research.google.com/notebooks/data_table.ipynb>data table notebook</a>'\n",
              "          + ' to learn more about interactive tables.';\n",
              "        element.innerHTML = '';\n",
              "        dataTable['output_type'] = 'display_data';\n",
              "        await google.colab.output.renderOutput(dataTable, element);\n",
              "        const docLink = document.createElement('div');\n",
              "        docLink.innerHTML = docLinkHtml;\n",
              "        element.appendChild(docLink);\n",
              "      }\n",
              "    </script>\n",
              "  </div>\n",
              "\n",
              "\n",
              "  <div id=\"id_8a42d53d-efa6-4165-8838-86787e29f651\">\n",
              "    <style>\n",
              "      .colab-df-generate {\n",
              "        background-color: #E8F0FE;\n",
              "        border: none;\n",
              "        border-radius: 50%;\n",
              "        cursor: pointer;\n",
              "        display: none;\n",
              "        fill: #1967D2;\n",
              "        height: 32px;\n",
              "        padding: 0 0 0 0;\n",
              "        width: 32px;\n",
              "      }\n",
              "\n",
              "      .colab-df-generate:hover {\n",
              "        background-color: #E2EBFA;\n",
              "        box-shadow: 0px 1px 2px rgba(60, 64, 67, 0.3), 0px 1px 3px 1px rgba(60, 64, 67, 0.15);\n",
              "        fill: #174EA6;\n",
              "      }\n",
              "\n",
              "      [theme=dark] .colab-df-generate {\n",
              "        background-color: #3B4455;\n",
              "        fill: #D2E3FC;\n",
              "      }\n",
              "\n",
              "      [theme=dark] .colab-df-generate:hover {\n",
              "        background-color: #434B5C;\n",
              "        box-shadow: 0px 1px 3px 1px rgba(0, 0, 0, 0.15);\n",
              "        filter: drop-shadow(0px 1px 2px rgba(0, 0, 0, 0.3));\n",
              "        fill: #FFFFFF;\n",
              "      }\n",
              "    </style>\n",
              "    <button class=\"colab-df-generate\" onclick=\"generateWithVariable('df')\"\n",
              "            title=\"Generate code using this dataframe.\"\n",
              "            style=\"display:none;\">\n",
              "\n",
              "  <svg xmlns=\"http://www.w3.org/2000/svg\" height=\"24px\"viewBox=\"0 0 24 24\"\n",
              "       width=\"24px\">\n",
              "    <path d=\"M7,19H8.4L18.45,9,17,7.55,7,17.6ZM5,21V16.75L18.45,3.32a2,2,0,0,1,2.83,0l1.4,1.43a1.91,1.91,0,0,1,.58,1.4,1.91,1.91,0,0,1-.58,1.4L9.25,21ZM18.45,9,17,7.55Zm-12,3A5.31,5.31,0,0,0,4.9,8.1,5.31,5.31,0,0,0,1,6.5,5.31,5.31,0,0,0,4.9,4.9,5.31,5.31,0,0,0,6.5,1,5.31,5.31,0,0,0,8.1,4.9,5.31,5.31,0,0,0,12,6.5,5.46,5.46,0,0,0,6.5,12Z\"/>\n",
              "  </svg>\n",
              "    </button>\n",
              "    <script>\n",
              "      (() => {\n",
              "      const buttonEl =\n",
              "        document.querySelector('#id_8a42d53d-efa6-4165-8838-86787e29f651 button.colab-df-generate');\n",
              "      buttonEl.style.display =\n",
              "        google.colab.kernel.accessAllowed ? 'block' : 'none';\n",
              "\n",
              "      buttonEl.onclick = () => {\n",
              "        google.colab.notebook.generateWithVariable('df');\n",
              "      }\n",
              "      })();\n",
              "    </script>\n",
              "  </div>\n",
              "\n",
              "    </div>\n",
              "  </div>\n"
            ],
            "application/vnd.google.colaboratory.intrinsic+json": {
              "type": "dataframe",
              "variable_name": "df",
              "summary": "{\n  \"name\": \"df\",\n  \"rows\": 1,\n  \"fields\": [\n    {\n      \"column\": \"main_id\",\n      \"properties\": {\n        \"dtype\": \"string\",\n        \"num_unique_values\": 1,\n        \"samples\": [\n          \"* alf Ori\"\n        ],\n        \"semantic_type\": \"\",\n        \"description\": \"\"\n      }\n    },\n    {\n      \"column\": \"ra\",\n      \"properties\": {\n        \"dtype\": \"number\",\n        \"std\": null,\n        \"min\": 88.79293899077537,\n        \"max\": 88.79293899077537,\n        \"num_unique_values\": 1,\n        \"samples\": [\n          88.79293899077537\n        ],\n        \"semantic_type\": \"\",\n        \"description\": \"\"\n      }\n    },\n    {\n      \"column\": \"dec\",\n      \"properties\": {\n        \"dtype\": \"number\",\n        \"std\": null,\n        \"min\": 7.407063995272694,\n        \"max\": 7.407063995272694,\n        \"num_unique_values\": 1,\n        \"samples\": [\n          7.407063995272694\n        ],\n        \"semantic_type\": \"\",\n        \"description\": \"\"\n      }\n    },\n    {\n      \"column\": \"coo_err_maj\",\n      \"properties\": {\n        \"dtype\": \"float32\",\n        \"num_unique_values\": 1,\n        \"samples\": [\n          9.040423393249512\n        ],\n        \"semantic_type\": \"\",\n        \"description\": \"\"\n      }\n    },\n    {\n      \"column\": \"coo_err_min\",\n      \"properties\": {\n        \"dtype\": \"float32\",\n        \"num_unique_values\": 1,\n        \"samples\": [\n          5.716997146606445\n        ],\n        \"semantic_type\": \"\",\n        \"description\": \"\"\n      }\n    },\n    {\n      \"column\": \"coo_err_angle\",\n      \"properties\": {\n        \"dtype\": \"int16\",\n        \"num_unique_values\": 1,\n        \"samples\": [\n          90\n        ],\n        \"semantic_type\": \"\",\n        \"description\": \"\"\n      }\n    },\n    {\n      \"column\": \"coo_wavelength\",\n      \"properties\": {\n        \"dtype\": \"string\",\n        \"num_unique_values\": 1,\n        \"samples\": [\n          \"O\"\n        ],\n        \"semantic_type\": \"\",\n        \"description\": \"\"\n      }\n    },\n    {\n      \"column\": \"coo_bibcode\",\n      \"properties\": {\n        \"dtype\": \"string\",\n        \"num_unique_values\": 1,\n        \"samples\": [\n          \"2007A&A...474..653V\"\n        ],\n        \"semantic_type\": \"\",\n        \"description\": \"\"\n      }\n    },\n    {\n      \"column\": \"R\",\n      \"properties\": {\n        \"dtype\": \"number\",\n        \"std\": null,\n        \"min\": -1.1699999570846558,\n        \"max\": -1.1699999570846558,\n        \"num_unique_values\": 1,\n        \"samples\": [\n          -1.1699999570846558\n        ],\n        \"semantic_type\": \"\",\n        \"description\": \"\"\n      }\n    },\n    {\n      \"column\": \"B\",\n      \"properties\": {\n        \"dtype\": \"number\",\n        \"std\": null,\n        \"min\": 2.2699999809265137,\n        \"max\": 2.2699999809265137,\n        \"num_unique_values\": 1,\n        \"samples\": [\n          2.2699999809265137\n        ],\n        \"semantic_type\": \"\",\n        \"description\": \"\"\n      }\n    },\n    {\n      \"column\": \"V\",\n      \"properties\": {\n        \"dtype\": \"number\",\n        \"std\": null,\n        \"min\": 0.41999998688697815,\n        \"max\": 0.41999998688697815,\n        \"num_unique_values\": 1,\n        \"samples\": [\n          0.41999998688697815\n        ],\n        \"semantic_type\": \"\",\n        \"description\": \"\"\n      }\n    },\n    {\n      \"column\": \"otype\",\n      \"properties\": {\n        \"dtype\": \"string\",\n        \"num_unique_values\": 1,\n        \"samples\": [\n          \"s*r\"\n        ],\n        \"semantic_type\": \"\",\n        \"description\": \"\"\n      }\n    },\n    {\n      \"column\": \"matched_id\",\n      \"properties\": {\n        \"dtype\": \"string\",\n        \"num_unique_values\": 1,\n        \"samples\": [\n          \"NAME Betelgeuse\"\n        ],\n        \"semantic_type\": \"\",\n        \"description\": \"\"\n      }\n    }\n  ]\n}"
            }
          },
          "metadata": {}
        }
      ]
    },
    {
      "cell_type": "code",
      "source": [
        "# Uvoz Simbad in nastavitev\n",
        "Simbad.TIMEOUT = 30\n",
        "Simbad.add_votable_fields('ra', 'dec', 'otype', 'V')\n",
        "\n",
        "# Seznam objektov in tipov\n",
        "objekti = [\n",
        "    (\"Sun\", \"Star\"), (\"Moon\", \"Moon\"),\n",
        "    (\"Venus\", \"Planet\"), (\"Jupiter\", \"Planet\"), (\"Mars\", \"Planet\"),\n",
        "    (\"Saturn\", \"Planet\"), (\"Mercury\", \"Planet\"),\n",
        "    (\"Sirius\", \"Star\"), (\"Arcturus\", \"Star\"), (\"Vega\", \"Star\"), (\"Capella\", \"Star\"),\n",
        "    (\"Rigel\", \"Star\"), (\"Procyon\", \"Star\"), (\"Betelgeuse\", \"Star\"), (\"Altair\", \"Star\"),\n",
        "    (\"Aldebaran\", \"Star\"), (\"Antares\", \"Star\"), (\"Spica\", \"Star\"), (\"Pollux\", \"Star\"),\n",
        "    (\"Deneb\", \"Star\"), (\"Regulus\", \"Star\"), (\"Fomalhaut\", \"Star\"),\n",
        "    (\"M42\", \"Nebula\"), (\"M45\", \"Cluster\"), (\"Hyades\", \"Cluster\"),\n",
        "    (\"M31\", \"Galaxy\"), (\"Big Dipper\", \"Asterism\"), (\"Polaris\", \"Star\"),\n",
        "    (\"Castor\", \"Star\"), (\"Bellatrix\", \"Star\")\n",
        "]\n",
        "\n",
        "# Poizvedba in zbiranje podatkov\n",
        "podatki = []\n",
        "\n",
        "for ime, tip in objekti:\n",
        "    try:\n",
        "        r = Simbad.query_object(ime)\n",
        "        if r is not None:\n",
        "            podatki.append({\n",
        "                \"ime\": ime,\n",
        "                \"tip\": tip,\n",
        "                \"RA\": r[\"ra\"][0],\n",
        "                \"DEC\": r[\"dec\"][0],\n",
        "                \"m_V\": r[\"V\"][0] if \"V\" in r.colnames else None,\n",
        "                \"SIMBAD_tip\": r[\"otype\"][0]\n",
        "            })\n",
        "    except Exception as e:\n",
        "        print(f\"Napaka pri objektu {ime}: {e}\")\n",
        "        continue\n",
        "\n",
        "# Pretvorba v DataFrame\n",
        "df = pd.DataFrame(podatki)\n",
        "pd.set_option('display.max_rows', 30)\n",
        "df = df.sort_values(by='m_V', ascending=False).reset_index(drop=True)\n",
        "print(\"\\n🔎 DataFrame:\")\n",
        "display(df)"
      ],
      "metadata": {
        "colab": {
          "base_uri": "https://localhost:8080/",
          "height": 917
        },
        "id": "W_a5jowvwAuB",
        "outputId": "f5f3cc90-46ab-4fed-8a44-d3eaeb8eda6c"
      },
      "execution_count": null,
      "outputs": [
        {
          "output_type": "stream",
          "name": "stderr",
          "text": [
            "WARNING: NoResultsWarning: The request executed correctly, but there was no data corresponding to these criteria in SIMBAD [astroquery.simbad.core]\n",
            "WARNING:astroquery:NoResultsWarning: The request executed correctly, but there was no data corresponding to these criteria in SIMBAD\n"
          ]
        },
        {
          "output_type": "stream",
          "name": "stdout",
          "text": [
            "Napaka pri objektu Sun: index 0 is out of bounds for axis 0 with size 0\n",
            "Napaka pri objektu Moon: index 0 is out of bounds for axis 0 with size 0\n",
            "Napaka pri objektu Venus: index 0 is out of bounds for axis 0 with size 0\n",
            "Napaka pri objektu Jupiter: index 0 is out of bounds for axis 0 with size 0\n",
            "Napaka pri objektu Mars: index 0 is out of bounds for axis 0 with size 0\n",
            "Napaka pri objektu Saturn: index 0 is out of bounds for axis 0 with size 0\n",
            "Napaka pri objektu Mercury: index 0 is out of bounds for axis 0 with size 0\n",
            "Napaka pri objektu M42: index 0 is out of bounds for axis 0 with size 0\n",
            "Napaka pri objektu M45: index 0 is out of bounds for axis 0 with size 0\n",
            "Napaka pri objektu Hyades: index 0 is out of bounds for axis 0 with size 0\n",
            "Napaka pri objektu Big Dipper: index 0 is out of bounds for axis 0 with size 0\n",
            "\n",
            "🔎 DataFrame:\n"
          ]
        },
        {
          "output_type": "display_data",
          "data": {
            "text/plain": [
              "           ime     tip          RA        DEC   m_V SIMBAD_tip\n",
              "0          M31  Galaxy   10.684708  41.268750  3.44        AGN\n",
              "1      Polaris    Star   37.954561  89.264109  2.02        cC*\n",
              "2    Bellatrix    Star   81.282764   6.349703  1.64         V*\n",
              "3       Castor    Star  113.649472  31.888282  1.58         **\n",
              "4      Regulus    Star  152.092962  11.967209  1.40        PM*\n",
              "5        Deneb    Star  310.357980  45.280339  1.25        sg*\n",
              "6    Fomalhaut    Star  344.412693 -29.622237  1.16        PM*\n",
              "7       Pollux    Star  116.328958  28.026199  1.14        PM*\n",
              "8        Spica    Star  201.298247 -11.161319  0.97        bC*\n",
              "9      Antares    Star  247.351915 -26.432003  0.91        s*r\n",
              "10   Aldebaran    Star   68.980163  16.509302  0.86        LP?\n",
              "11      Altair    Star  297.695827   8.868321  0.76        dS*\n",
              "12  Betelgeuse    Star   88.792939   7.407064  0.42        s*r\n",
              "13     Procyon    Star  114.825498   5.224988  0.37        SB*\n",
              "14       Rigel    Star   78.634467  -8.201638  0.13        s*b\n",
              "15     Capella    Star   79.172328  45.997991  0.08        SB*\n",
              "16        Vega    Star  279.234735  38.783689  0.03        dS*\n",
              "17    Arcturus    Star  213.915300  19.182409 -0.05        RG*\n",
              "18      Sirius    Star  101.287155 -16.716116 -1.46        SB*"
            ],
            "text/html": [
              "\n",
              "  <div id=\"df-b41c4f3f-361f-4cb1-a51f-07bc5d233665\" class=\"colab-df-container\">\n",
              "    <div>\n",
              "<style scoped>\n",
              "    .dataframe tbody tr th:only-of-type {\n",
              "        vertical-align: middle;\n",
              "    }\n",
              "\n",
              "    .dataframe tbody tr th {\n",
              "        vertical-align: top;\n",
              "    }\n",
              "\n",
              "    .dataframe thead th {\n",
              "        text-align: right;\n",
              "    }\n",
              "</style>\n",
              "<table border=\"1\" class=\"dataframe\">\n",
              "  <thead>\n",
              "    <tr style=\"text-align: right;\">\n",
              "      <th></th>\n",
              "      <th>ime</th>\n",
              "      <th>tip</th>\n",
              "      <th>RA</th>\n",
              "      <th>DEC</th>\n",
              "      <th>m_V</th>\n",
              "      <th>SIMBAD_tip</th>\n",
              "    </tr>\n",
              "  </thead>\n",
              "  <tbody>\n",
              "    <tr>\n",
              "      <th>0</th>\n",
              "      <td>M31</td>\n",
              "      <td>Galaxy</td>\n",
              "      <td>10.684708</td>\n",
              "      <td>41.268750</td>\n",
              "      <td>3.44</td>\n",
              "      <td>AGN</td>\n",
              "    </tr>\n",
              "    <tr>\n",
              "      <th>1</th>\n",
              "      <td>Polaris</td>\n",
              "      <td>Star</td>\n",
              "      <td>37.954561</td>\n",
              "      <td>89.264109</td>\n",
              "      <td>2.02</td>\n",
              "      <td>cC*</td>\n",
              "    </tr>\n",
              "    <tr>\n",
              "      <th>2</th>\n",
              "      <td>Bellatrix</td>\n",
              "      <td>Star</td>\n",
              "      <td>81.282764</td>\n",
              "      <td>6.349703</td>\n",
              "      <td>1.64</td>\n",
              "      <td>V*</td>\n",
              "    </tr>\n",
              "    <tr>\n",
              "      <th>3</th>\n",
              "      <td>Castor</td>\n",
              "      <td>Star</td>\n",
              "      <td>113.649472</td>\n",
              "      <td>31.888282</td>\n",
              "      <td>1.58</td>\n",
              "      <td>**</td>\n",
              "    </tr>\n",
              "    <tr>\n",
              "      <th>4</th>\n",
              "      <td>Regulus</td>\n",
              "      <td>Star</td>\n",
              "      <td>152.092962</td>\n",
              "      <td>11.967209</td>\n",
              "      <td>1.40</td>\n",
              "      <td>PM*</td>\n",
              "    </tr>\n",
              "    <tr>\n",
              "      <th>5</th>\n",
              "      <td>Deneb</td>\n",
              "      <td>Star</td>\n",
              "      <td>310.357980</td>\n",
              "      <td>45.280339</td>\n",
              "      <td>1.25</td>\n",
              "      <td>sg*</td>\n",
              "    </tr>\n",
              "    <tr>\n",
              "      <th>6</th>\n",
              "      <td>Fomalhaut</td>\n",
              "      <td>Star</td>\n",
              "      <td>344.412693</td>\n",
              "      <td>-29.622237</td>\n",
              "      <td>1.16</td>\n",
              "      <td>PM*</td>\n",
              "    </tr>\n",
              "    <tr>\n",
              "      <th>7</th>\n",
              "      <td>Pollux</td>\n",
              "      <td>Star</td>\n",
              "      <td>116.328958</td>\n",
              "      <td>28.026199</td>\n",
              "      <td>1.14</td>\n",
              "      <td>PM*</td>\n",
              "    </tr>\n",
              "    <tr>\n",
              "      <th>8</th>\n",
              "      <td>Spica</td>\n",
              "      <td>Star</td>\n",
              "      <td>201.298247</td>\n",
              "      <td>-11.161319</td>\n",
              "      <td>0.97</td>\n",
              "      <td>bC*</td>\n",
              "    </tr>\n",
              "    <tr>\n",
              "      <th>9</th>\n",
              "      <td>Antares</td>\n",
              "      <td>Star</td>\n",
              "      <td>247.351915</td>\n",
              "      <td>-26.432003</td>\n",
              "      <td>0.91</td>\n",
              "      <td>s*r</td>\n",
              "    </tr>\n",
              "    <tr>\n",
              "      <th>10</th>\n",
              "      <td>Aldebaran</td>\n",
              "      <td>Star</td>\n",
              "      <td>68.980163</td>\n",
              "      <td>16.509302</td>\n",
              "      <td>0.86</td>\n",
              "      <td>LP?</td>\n",
              "    </tr>\n",
              "    <tr>\n",
              "      <th>11</th>\n",
              "      <td>Altair</td>\n",
              "      <td>Star</td>\n",
              "      <td>297.695827</td>\n",
              "      <td>8.868321</td>\n",
              "      <td>0.76</td>\n",
              "      <td>dS*</td>\n",
              "    </tr>\n",
              "    <tr>\n",
              "      <th>12</th>\n",
              "      <td>Betelgeuse</td>\n",
              "      <td>Star</td>\n",
              "      <td>88.792939</td>\n",
              "      <td>7.407064</td>\n",
              "      <td>0.42</td>\n",
              "      <td>s*r</td>\n",
              "    </tr>\n",
              "    <tr>\n",
              "      <th>13</th>\n",
              "      <td>Procyon</td>\n",
              "      <td>Star</td>\n",
              "      <td>114.825498</td>\n",
              "      <td>5.224988</td>\n",
              "      <td>0.37</td>\n",
              "      <td>SB*</td>\n",
              "    </tr>\n",
              "    <tr>\n",
              "      <th>14</th>\n",
              "      <td>Rigel</td>\n",
              "      <td>Star</td>\n",
              "      <td>78.634467</td>\n",
              "      <td>-8.201638</td>\n",
              "      <td>0.13</td>\n",
              "      <td>s*b</td>\n",
              "    </tr>\n",
              "    <tr>\n",
              "      <th>15</th>\n",
              "      <td>Capella</td>\n",
              "      <td>Star</td>\n",
              "      <td>79.172328</td>\n",
              "      <td>45.997991</td>\n",
              "      <td>0.08</td>\n",
              "      <td>SB*</td>\n",
              "    </tr>\n",
              "    <tr>\n",
              "      <th>16</th>\n",
              "      <td>Vega</td>\n",
              "      <td>Star</td>\n",
              "      <td>279.234735</td>\n",
              "      <td>38.783689</td>\n",
              "      <td>0.03</td>\n",
              "      <td>dS*</td>\n",
              "    </tr>\n",
              "    <tr>\n",
              "      <th>17</th>\n",
              "      <td>Arcturus</td>\n",
              "      <td>Star</td>\n",
              "      <td>213.915300</td>\n",
              "      <td>19.182409</td>\n",
              "      <td>-0.05</td>\n",
              "      <td>RG*</td>\n",
              "    </tr>\n",
              "    <tr>\n",
              "      <th>18</th>\n",
              "      <td>Sirius</td>\n",
              "      <td>Star</td>\n",
              "      <td>101.287155</td>\n",
              "      <td>-16.716116</td>\n",
              "      <td>-1.46</td>\n",
              "      <td>SB*</td>\n",
              "    </tr>\n",
              "  </tbody>\n",
              "</table>\n",
              "</div>\n",
              "    <div class=\"colab-df-buttons\">\n",
              "\n",
              "  <div class=\"colab-df-container\">\n",
              "    <button class=\"colab-df-convert\" onclick=\"convertToInteractive('df-b41c4f3f-361f-4cb1-a51f-07bc5d233665')\"\n",
              "            title=\"Convert this dataframe to an interactive table.\"\n",
              "            style=\"display:none;\">\n",
              "\n",
              "  <svg xmlns=\"http://www.w3.org/2000/svg\" height=\"24px\" viewBox=\"0 -960 960 960\">\n",
              "    <path d=\"M120-120v-720h720v720H120Zm60-500h600v-160H180v160Zm220 220h160v-160H400v160Zm0 220h160v-160H400v160ZM180-400h160v-160H180v160Zm440 0h160v-160H620v160ZM180-180h160v-160H180v160Zm440 0h160v-160H620v160Z\"/>\n",
              "  </svg>\n",
              "    </button>\n",
              "\n",
              "  <style>\n",
              "    .colab-df-container {\n",
              "      display:flex;\n",
              "      gap: 12px;\n",
              "    }\n",
              "\n",
              "    .colab-df-convert {\n",
              "      background-color: #E8F0FE;\n",
              "      border: none;\n",
              "      border-radius: 50%;\n",
              "      cursor: pointer;\n",
              "      display: none;\n",
              "      fill: #1967D2;\n",
              "      height: 32px;\n",
              "      padding: 0 0 0 0;\n",
              "      width: 32px;\n",
              "    }\n",
              "\n",
              "    .colab-df-convert:hover {\n",
              "      background-color: #E2EBFA;\n",
              "      box-shadow: 0px 1px 2px rgba(60, 64, 67, 0.3), 0px 1px 3px 1px rgba(60, 64, 67, 0.15);\n",
              "      fill: #174EA6;\n",
              "    }\n",
              "\n",
              "    .colab-df-buttons div {\n",
              "      margin-bottom: 4px;\n",
              "    }\n",
              "\n",
              "    [theme=dark] .colab-df-convert {\n",
              "      background-color: #3B4455;\n",
              "      fill: #D2E3FC;\n",
              "    }\n",
              "\n",
              "    [theme=dark] .colab-df-convert:hover {\n",
              "      background-color: #434B5C;\n",
              "      box-shadow: 0px 1px 3px 1px rgba(0, 0, 0, 0.15);\n",
              "      filter: drop-shadow(0px 1px 2px rgba(0, 0, 0, 0.3));\n",
              "      fill: #FFFFFF;\n",
              "    }\n",
              "  </style>\n",
              "\n",
              "    <script>\n",
              "      const buttonEl =\n",
              "        document.querySelector('#df-b41c4f3f-361f-4cb1-a51f-07bc5d233665 button.colab-df-convert');\n",
              "      buttonEl.style.display =\n",
              "        google.colab.kernel.accessAllowed ? 'block' : 'none';\n",
              "\n",
              "      async function convertToInteractive(key) {\n",
              "        const element = document.querySelector('#df-b41c4f3f-361f-4cb1-a51f-07bc5d233665');\n",
              "        const dataTable =\n",
              "          await google.colab.kernel.invokeFunction('convertToInteractive',\n",
              "                                                    [key], {});\n",
              "        if (!dataTable) return;\n",
              "\n",
              "        const docLinkHtml = 'Like what you see? Visit the ' +\n",
              "          '<a target=\"_blank\" href=https://colab.research.google.com/notebooks/data_table.ipynb>data table notebook</a>'\n",
              "          + ' to learn more about interactive tables.';\n",
              "        element.innerHTML = '';\n",
              "        dataTable['output_type'] = 'display_data';\n",
              "        await google.colab.output.renderOutput(dataTable, element);\n",
              "        const docLink = document.createElement('div');\n",
              "        docLink.innerHTML = docLinkHtml;\n",
              "        element.appendChild(docLink);\n",
              "      }\n",
              "    </script>\n",
              "  </div>\n",
              "\n",
              "\n",
              "<div id=\"df-2da0bca6-a89c-478d-9015-dccdbade308a\">\n",
              "  <button class=\"colab-df-quickchart\" onclick=\"quickchart('df-2da0bca6-a89c-478d-9015-dccdbade308a')\"\n",
              "            title=\"Suggest charts\"\n",
              "            style=\"display:none;\">\n",
              "\n",
              "<svg xmlns=\"http://www.w3.org/2000/svg\" height=\"24px\"viewBox=\"0 0 24 24\"\n",
              "     width=\"24px\">\n",
              "    <g>\n",
              "        <path d=\"M19 3H5c-1.1 0-2 .9-2 2v14c0 1.1.9 2 2 2h14c1.1 0 2-.9 2-2V5c0-1.1-.9-2-2-2zM9 17H7v-7h2v7zm4 0h-2V7h2v10zm4 0h-2v-4h2v4z\"/>\n",
              "    </g>\n",
              "</svg>\n",
              "  </button>\n",
              "\n",
              "<style>\n",
              "  .colab-df-quickchart {\n",
              "      --bg-color: #E8F0FE;\n",
              "      --fill-color: #1967D2;\n",
              "      --hover-bg-color: #E2EBFA;\n",
              "      --hover-fill-color: #174EA6;\n",
              "      --disabled-fill-color: #AAA;\n",
              "      --disabled-bg-color: #DDD;\n",
              "  }\n",
              "\n",
              "  [theme=dark] .colab-df-quickchart {\n",
              "      --bg-color: #3B4455;\n",
              "      --fill-color: #D2E3FC;\n",
              "      --hover-bg-color: #434B5C;\n",
              "      --hover-fill-color: #FFFFFF;\n",
              "      --disabled-bg-color: #3B4455;\n",
              "      --disabled-fill-color: #666;\n",
              "  }\n",
              "\n",
              "  .colab-df-quickchart {\n",
              "    background-color: var(--bg-color);\n",
              "    border: none;\n",
              "    border-radius: 50%;\n",
              "    cursor: pointer;\n",
              "    display: none;\n",
              "    fill: var(--fill-color);\n",
              "    height: 32px;\n",
              "    padding: 0;\n",
              "    width: 32px;\n",
              "  }\n",
              "\n",
              "  .colab-df-quickchart:hover {\n",
              "    background-color: var(--hover-bg-color);\n",
              "    box-shadow: 0 1px 2px rgba(60, 64, 67, 0.3), 0 1px 3px 1px rgba(60, 64, 67, 0.15);\n",
              "    fill: var(--button-hover-fill-color);\n",
              "  }\n",
              "\n",
              "  .colab-df-quickchart-complete:disabled,\n",
              "  .colab-df-quickchart-complete:disabled:hover {\n",
              "    background-color: var(--disabled-bg-color);\n",
              "    fill: var(--disabled-fill-color);\n",
              "    box-shadow: none;\n",
              "  }\n",
              "\n",
              "  .colab-df-spinner {\n",
              "    border: 2px solid var(--fill-color);\n",
              "    border-color: transparent;\n",
              "    border-bottom-color: var(--fill-color);\n",
              "    animation:\n",
              "      spin 1s steps(1) infinite;\n",
              "  }\n",
              "\n",
              "  @keyframes spin {\n",
              "    0% {\n",
              "      border-color: transparent;\n",
              "      border-bottom-color: var(--fill-color);\n",
              "      border-left-color: var(--fill-color);\n",
              "    }\n",
              "    20% {\n",
              "      border-color: transparent;\n",
              "      border-left-color: var(--fill-color);\n",
              "      border-top-color: var(--fill-color);\n",
              "    }\n",
              "    30% {\n",
              "      border-color: transparent;\n",
              "      border-left-color: var(--fill-color);\n",
              "      border-top-color: var(--fill-color);\n",
              "      border-right-color: var(--fill-color);\n",
              "    }\n",
              "    40% {\n",
              "      border-color: transparent;\n",
              "      border-right-color: var(--fill-color);\n",
              "      border-top-color: var(--fill-color);\n",
              "    }\n",
              "    60% {\n",
              "      border-color: transparent;\n",
              "      border-right-color: var(--fill-color);\n",
              "    }\n",
              "    80% {\n",
              "      border-color: transparent;\n",
              "      border-right-color: var(--fill-color);\n",
              "      border-bottom-color: var(--fill-color);\n",
              "    }\n",
              "    90% {\n",
              "      border-color: transparent;\n",
              "      border-bottom-color: var(--fill-color);\n",
              "    }\n",
              "  }\n",
              "</style>\n",
              "\n",
              "  <script>\n",
              "    async function quickchart(key) {\n",
              "      const quickchartButtonEl =\n",
              "        document.querySelector('#' + key + ' button');\n",
              "      quickchartButtonEl.disabled = true;  // To prevent multiple clicks.\n",
              "      quickchartButtonEl.classList.add('colab-df-spinner');\n",
              "      try {\n",
              "        const charts = await google.colab.kernel.invokeFunction(\n",
              "            'suggestCharts', [key], {});\n",
              "      } catch (error) {\n",
              "        console.error('Error during call to suggestCharts:', error);\n",
              "      }\n",
              "      quickchartButtonEl.classList.remove('colab-df-spinner');\n",
              "      quickchartButtonEl.classList.add('colab-df-quickchart-complete');\n",
              "    }\n",
              "    (() => {\n",
              "      let quickchartButtonEl =\n",
              "        document.querySelector('#df-2da0bca6-a89c-478d-9015-dccdbade308a button');\n",
              "      quickchartButtonEl.style.display =\n",
              "        google.colab.kernel.accessAllowed ? 'block' : 'none';\n",
              "    })();\n",
              "  </script>\n",
              "</div>\n",
              "\n",
              "  <div id=\"id_45ad83cb-691c-45ed-a2e7-80cf168944be\">\n",
              "    <style>\n",
              "      .colab-df-generate {\n",
              "        background-color: #E8F0FE;\n",
              "        border: none;\n",
              "        border-radius: 50%;\n",
              "        cursor: pointer;\n",
              "        display: none;\n",
              "        fill: #1967D2;\n",
              "        height: 32px;\n",
              "        padding: 0 0 0 0;\n",
              "        width: 32px;\n",
              "      }\n",
              "\n",
              "      .colab-df-generate:hover {\n",
              "        background-color: #E2EBFA;\n",
              "        box-shadow: 0px 1px 2px rgba(60, 64, 67, 0.3), 0px 1px 3px 1px rgba(60, 64, 67, 0.15);\n",
              "        fill: #174EA6;\n",
              "      }\n",
              "\n",
              "      [theme=dark] .colab-df-generate {\n",
              "        background-color: #3B4455;\n",
              "        fill: #D2E3FC;\n",
              "      }\n",
              "\n",
              "      [theme=dark] .colab-df-generate:hover {\n",
              "        background-color: #434B5C;\n",
              "        box-shadow: 0px 1px 3px 1px rgba(0, 0, 0, 0.15);\n",
              "        filter: drop-shadow(0px 1px 2px rgba(0, 0, 0, 0.3));\n",
              "        fill: #FFFFFF;\n",
              "      }\n",
              "    </style>\n",
              "    <button class=\"colab-df-generate\" onclick=\"generateWithVariable('df')\"\n",
              "            title=\"Generate code using this dataframe.\"\n",
              "            style=\"display:none;\">\n",
              "\n",
              "  <svg xmlns=\"http://www.w3.org/2000/svg\" height=\"24px\"viewBox=\"0 0 24 24\"\n",
              "       width=\"24px\">\n",
              "    <path d=\"M7,19H8.4L18.45,9,17,7.55,7,17.6ZM5,21V16.75L18.45,3.32a2,2,0,0,1,2.83,0l1.4,1.43a1.91,1.91,0,0,1,.58,1.4,1.91,1.91,0,0,1-.58,1.4L9.25,21ZM18.45,9,17,7.55Zm-12,3A5.31,5.31,0,0,0,4.9,8.1,5.31,5.31,0,0,0,1,6.5,5.31,5.31,0,0,0,4.9,4.9,5.31,5.31,0,0,0,6.5,1,5.31,5.31,0,0,0,8.1,4.9,5.31,5.31,0,0,0,12,6.5,5.46,5.46,0,0,0,6.5,12Z\"/>\n",
              "  </svg>\n",
              "    </button>\n",
              "    <script>\n",
              "      (() => {\n",
              "      const buttonEl =\n",
              "        document.querySelector('#id_45ad83cb-691c-45ed-a2e7-80cf168944be button.colab-df-generate');\n",
              "      buttonEl.style.display =\n",
              "        google.colab.kernel.accessAllowed ? 'block' : 'none';\n",
              "\n",
              "      buttonEl.onclick = () => {\n",
              "        google.colab.notebook.generateWithVariable('df');\n",
              "      }\n",
              "      })();\n",
              "    </script>\n",
              "  </div>\n",
              "\n",
              "    </div>\n",
              "  </div>\n"
            ],
            "application/vnd.google.colaboratory.intrinsic+json": {
              "type": "dataframe",
              "variable_name": "df",
              "summary": "{\n  \"name\": \"df\",\n  \"rows\": 19,\n  \"fields\": [\n    {\n      \"column\": \"ime\",\n      \"properties\": {\n        \"dtype\": \"string\",\n        \"num_unique_values\": 19,\n        \"samples\": [\n          \"M31\",\n          \"Deneb\",\n          \"Altair\"\n        ],\n        \"semantic_type\": \"\",\n        \"description\": \"\"\n      }\n    },\n    {\n      \"column\": \"tip\",\n      \"properties\": {\n        \"dtype\": \"category\",\n        \"num_unique_values\": 2,\n        \"samples\": [\n          \"Star\",\n          \"Galaxy\"\n        ],\n        \"semantic_type\": \"\",\n        \"description\": \"\"\n      }\n    },\n    {\n      \"column\": \"RA\",\n      \"properties\": {\n        \"dtype\": \"number\",\n        \"std\": 100.27416722824792,\n        \"min\": 10.684708333333333,\n        \"max\": 344.4126927211701,\n        \"num_unique_values\": 19,\n        \"samples\": [\n          10.684708333333333,\n          310.35797975307673\n        ],\n        \"semantic_type\": \"\",\n        \"description\": \"\"\n      }\n    },\n    {\n      \"column\": \"DEC\",\n      \"properties\": {\n        \"dtype\": \"number\",\n        \"std\": 29.169774201443058,\n        \"min\": -29.622237033389442,\n        \"max\": 89.26410896994187,\n        \"num_unique_values\": 19,\n        \"samples\": [\n          41.268750000000004,\n          45.280338806527574\n        ],\n        \"semantic_type\": \"\",\n        \"description\": \"\"\n      }\n    },\n    {\n      \"column\": \"m_V\",\n      \"properties\": {\n        \"dtype\": \"number\",\n        \"std\": 1.0065022644139132,\n        \"min\": -1.4600000381469727,\n        \"max\": 3.440000057220459,\n        \"num_unique_values\": 19,\n        \"samples\": [\n          3.440000057220459,\n          1.25\n        ],\n        \"semantic_type\": \"\",\n        \"description\": \"\"\n      }\n    },\n    {\n      \"column\": \"SIMBAD_tip\",\n      \"properties\": {\n        \"dtype\": \"string\",\n        \"num_unique_values\": 13,\n        \"samples\": [\n          \"s*b\",\n          \"dS*\"\n        ],\n        \"semantic_type\": \"\",\n        \"description\": \"\"\n      }\n    }\n  ]\n}"
            }
          },
          "metadata": {}
        }
      ]
    },
    {
      "cell_type": "markdown",
      "source": [
        "## Pretvorimo v lokalni koodrinatni sistem"
      ],
      "metadata": {
        "id": "9UvbyoJZynYm"
      }
    },
    {
      "cell_type": "code",
      "source": [
        "from astropy.coordinates import SkyCoord, EarthLocation, AltAz\n",
        "from astropy.time import Time\n",
        "from astropy import units as u\n",
        "import pandas as pd\n",
        "\n",
        "# Lokacija opazovalca – Maribor\n",
        "maribor = EarthLocation(lat=46.56*u.deg, lon=15.65*u.deg, height=270*u.m)\n",
        "\n",
        "# Čas opazovanja (UTC)\n",
        "cas = Time(\"2025-04-23 23:00:00\")\n",
        "\n",
        "# Lokalni koordinatni sistem (Alt-Az)\n",
        "altaz_frame = AltAz(obstime=cas, location=maribor)\n",
        "\n",
        "# Funkcija za pretvorbo v lokalni sistem\n",
        "def dodaj_altaz(row):\n",
        "    try:\n",
        "        coord = SkyCoord(ra=row['RA'], dec=row['DEC'], unit=(u.hourangle, u.deg), frame='icrs')\n",
        "        altaz = coord.transform_to(altaz_frame)\n",
        "        return pd.Series([altaz.alt.deg, altaz.az.deg])\n",
        "    except Exception as e:\n",
        "        return pd.Series([None, None])"
      ],
      "metadata": {
        "id": "n9F7BNeNxRDC"
      },
      "execution_count": null,
      "outputs": []
    },
    {
      "cell_type": "code",
      "source": [
        "# Pretvorba in dodajanje stolpcev v DataFrame\n",
        "df[['Alt', 'Az']] = df.apply(dodaj_altaz, axis=1)\n",
        "\n",
        "# Prikaz rezultata\n",
        "pd.set_option('display.max_columns', None)\n",
        "display(df)"
      ],
      "metadata": {
        "colab": {
          "base_uri": "https://localhost:8080/",
          "height": 645
        },
        "id": "Tb_3-6tdyskA",
        "outputId": "c7eaecb5-d661-4516-83e3-abde8c147350"
      },
      "execution_count": null,
      "outputs": [
        {
          "output_type": "display_data",
          "data": {
            "text/plain": [
              "           ime     tip          RA        DEC   m_V SIMBAD_tip        Alt  \\\n",
              "0          M31  Galaxy   10.684708  41.268750  3.44        AGN  52.632139   \n",
              "1      Polaris    Star   37.954561  89.264109  2.02        cC*  47.414358   \n",
              "2    Bellatrix    Star   81.282764   6.349703  1.64         V*  15.977968   \n",
              "3       Castor    Star  113.649472  31.888282  1.58         **  47.910797   \n",
              "4      Regulus    Star  152.092962  11.967209  1.40        PM*   7.830373   \n",
              "5        Deneb    Star  310.357980  45.280339  1.25        sg*  14.827835   \n",
              "6    Fomalhaut    Star  344.412693 -29.622237  1.16        PM* -18.828059   \n",
              "7       Pollux    Star  116.328958  28.026199  1.14        PM*  18.515834   \n",
              "8        Spica    Star  201.298247 -11.161319  0.97        bC*   3.099039   \n",
              "9      Antares    Star  247.351915 -26.432003  0.91        s*r -27.092984   \n",
              "10   Aldebaran    Star   68.980163  16.509302  0.86        LP?   3.971454   \n",
              "11      Altair    Star  297.695827   8.868321  0.76        dS*  22.012807   \n",
              "12  Betelgeuse    Star   88.792939   7.407064  0.42        s*r  38.357522   \n",
              "13     Procyon    Star  114.825498   5.224988  0.37        SB*  17.624205   \n",
              "14       Rigel    Star   78.634467  -8.201638  0.13        s*b -21.747970   \n",
              "15     Capella    Star   79.172328  45.997991  0.08        SB*  23.548687   \n",
              "16        Vega    Star  279.234735  38.783689  0.03        dS*  75.950258   \n",
              "17    Arcturus    Star  213.915300  19.182409 -0.05        RG*  -2.632443   \n",
              "18      Sirius    Star  101.287155 -16.716116 -1.46        SB* -41.318282   \n",
              "\n",
              "            Az  \n",
              "0   281.165247  \n",
              "1   359.836920  \n",
              "2   262.076325  \n",
              "3    91.349204  \n",
              "4   279.053744  \n",
              "5    37.654965  \n",
              "6   246.332687  \n",
              "7    68.359836  \n",
              "8   250.012498  \n",
              "9   259.148949  \n",
              "10   69.924101  \n",
              "11  259.150810  \n",
              "12  126.736841  \n",
              "13  101.292708  \n",
              "14  281.375609  \n",
              "15  312.859619  \n",
              "16  118.370303  \n",
              "17   58.014614  \n",
              "18  291.849058  "
            ],
            "text/html": [
              "\n",
              "  <div id=\"df-29d75314-8fe4-41f6-9ed3-a33bd3b0af49\" class=\"colab-df-container\">\n",
              "    <div>\n",
              "<style scoped>\n",
              "    .dataframe tbody tr th:only-of-type {\n",
              "        vertical-align: middle;\n",
              "    }\n",
              "\n",
              "    .dataframe tbody tr th {\n",
              "        vertical-align: top;\n",
              "    }\n",
              "\n",
              "    .dataframe thead th {\n",
              "        text-align: right;\n",
              "    }\n",
              "</style>\n",
              "<table border=\"1\" class=\"dataframe\">\n",
              "  <thead>\n",
              "    <tr style=\"text-align: right;\">\n",
              "      <th></th>\n",
              "      <th>ime</th>\n",
              "      <th>tip</th>\n",
              "      <th>RA</th>\n",
              "      <th>DEC</th>\n",
              "      <th>m_V</th>\n",
              "      <th>SIMBAD_tip</th>\n",
              "      <th>Alt</th>\n",
              "      <th>Az</th>\n",
              "    </tr>\n",
              "  </thead>\n",
              "  <tbody>\n",
              "    <tr>\n",
              "      <th>0</th>\n",
              "      <td>M31</td>\n",
              "      <td>Galaxy</td>\n",
              "      <td>10.684708</td>\n",
              "      <td>41.268750</td>\n",
              "      <td>3.44</td>\n",
              "      <td>AGN</td>\n",
              "      <td>52.632139</td>\n",
              "      <td>281.165247</td>\n",
              "    </tr>\n",
              "    <tr>\n",
              "      <th>1</th>\n",
              "      <td>Polaris</td>\n",
              "      <td>Star</td>\n",
              "      <td>37.954561</td>\n",
              "      <td>89.264109</td>\n",
              "      <td>2.02</td>\n",
              "      <td>cC*</td>\n",
              "      <td>47.414358</td>\n",
              "      <td>359.836920</td>\n",
              "    </tr>\n",
              "    <tr>\n",
              "      <th>2</th>\n",
              "      <td>Bellatrix</td>\n",
              "      <td>Star</td>\n",
              "      <td>81.282764</td>\n",
              "      <td>6.349703</td>\n",
              "      <td>1.64</td>\n",
              "      <td>V*</td>\n",
              "      <td>15.977968</td>\n",
              "      <td>262.076325</td>\n",
              "    </tr>\n",
              "    <tr>\n",
              "      <th>3</th>\n",
              "      <td>Castor</td>\n",
              "      <td>Star</td>\n",
              "      <td>113.649472</td>\n",
              "      <td>31.888282</td>\n",
              "      <td>1.58</td>\n",
              "      <td>**</td>\n",
              "      <td>47.910797</td>\n",
              "      <td>91.349204</td>\n",
              "    </tr>\n",
              "    <tr>\n",
              "      <th>4</th>\n",
              "      <td>Regulus</td>\n",
              "      <td>Star</td>\n",
              "      <td>152.092962</td>\n",
              "      <td>11.967209</td>\n",
              "      <td>1.40</td>\n",
              "      <td>PM*</td>\n",
              "      <td>7.830373</td>\n",
              "      <td>279.053744</td>\n",
              "    </tr>\n",
              "    <tr>\n",
              "      <th>5</th>\n",
              "      <td>Deneb</td>\n",
              "      <td>Star</td>\n",
              "      <td>310.357980</td>\n",
              "      <td>45.280339</td>\n",
              "      <td>1.25</td>\n",
              "      <td>sg*</td>\n",
              "      <td>14.827835</td>\n",
              "      <td>37.654965</td>\n",
              "    </tr>\n",
              "    <tr>\n",
              "      <th>6</th>\n",
              "      <td>Fomalhaut</td>\n",
              "      <td>Star</td>\n",
              "      <td>344.412693</td>\n",
              "      <td>-29.622237</td>\n",
              "      <td>1.16</td>\n",
              "      <td>PM*</td>\n",
              "      <td>-18.828059</td>\n",
              "      <td>246.332687</td>\n",
              "    </tr>\n",
              "    <tr>\n",
              "      <th>7</th>\n",
              "      <td>Pollux</td>\n",
              "      <td>Star</td>\n",
              "      <td>116.328958</td>\n",
              "      <td>28.026199</td>\n",
              "      <td>1.14</td>\n",
              "      <td>PM*</td>\n",
              "      <td>18.515834</td>\n",
              "      <td>68.359836</td>\n",
              "    </tr>\n",
              "    <tr>\n",
              "      <th>8</th>\n",
              "      <td>Spica</td>\n",
              "      <td>Star</td>\n",
              "      <td>201.298247</td>\n",
              "      <td>-11.161319</td>\n",
              "      <td>0.97</td>\n",
              "      <td>bC*</td>\n",
              "      <td>3.099039</td>\n",
              "      <td>250.012498</td>\n",
              "    </tr>\n",
              "    <tr>\n",
              "      <th>9</th>\n",
              "      <td>Antares</td>\n",
              "      <td>Star</td>\n",
              "      <td>247.351915</td>\n",
              "      <td>-26.432003</td>\n",
              "      <td>0.91</td>\n",
              "      <td>s*r</td>\n",
              "      <td>-27.092984</td>\n",
              "      <td>259.148949</td>\n",
              "    </tr>\n",
              "    <tr>\n",
              "      <th>10</th>\n",
              "      <td>Aldebaran</td>\n",
              "      <td>Star</td>\n",
              "      <td>68.980163</td>\n",
              "      <td>16.509302</td>\n",
              "      <td>0.86</td>\n",
              "      <td>LP?</td>\n",
              "      <td>3.971454</td>\n",
              "      <td>69.924101</td>\n",
              "    </tr>\n",
              "    <tr>\n",
              "      <th>11</th>\n",
              "      <td>Altair</td>\n",
              "      <td>Star</td>\n",
              "      <td>297.695827</td>\n",
              "      <td>8.868321</td>\n",
              "      <td>0.76</td>\n",
              "      <td>dS*</td>\n",
              "      <td>22.012807</td>\n",
              "      <td>259.150810</td>\n",
              "    </tr>\n",
              "    <tr>\n",
              "      <th>12</th>\n",
              "      <td>Betelgeuse</td>\n",
              "      <td>Star</td>\n",
              "      <td>88.792939</td>\n",
              "      <td>7.407064</td>\n",
              "      <td>0.42</td>\n",
              "      <td>s*r</td>\n",
              "      <td>38.357522</td>\n",
              "      <td>126.736841</td>\n",
              "    </tr>\n",
              "    <tr>\n",
              "      <th>13</th>\n",
              "      <td>Procyon</td>\n",
              "      <td>Star</td>\n",
              "      <td>114.825498</td>\n",
              "      <td>5.224988</td>\n",
              "      <td>0.37</td>\n",
              "      <td>SB*</td>\n",
              "      <td>17.624205</td>\n",
              "      <td>101.292708</td>\n",
              "    </tr>\n",
              "    <tr>\n",
              "      <th>14</th>\n",
              "      <td>Rigel</td>\n",
              "      <td>Star</td>\n",
              "      <td>78.634467</td>\n",
              "      <td>-8.201638</td>\n",
              "      <td>0.13</td>\n",
              "      <td>s*b</td>\n",
              "      <td>-21.747970</td>\n",
              "      <td>281.375609</td>\n",
              "    </tr>\n",
              "    <tr>\n",
              "      <th>15</th>\n",
              "      <td>Capella</td>\n",
              "      <td>Star</td>\n",
              "      <td>79.172328</td>\n",
              "      <td>45.997991</td>\n",
              "      <td>0.08</td>\n",
              "      <td>SB*</td>\n",
              "      <td>23.548687</td>\n",
              "      <td>312.859619</td>\n",
              "    </tr>\n",
              "    <tr>\n",
              "      <th>16</th>\n",
              "      <td>Vega</td>\n",
              "      <td>Star</td>\n",
              "      <td>279.234735</td>\n",
              "      <td>38.783689</td>\n",
              "      <td>0.03</td>\n",
              "      <td>dS*</td>\n",
              "      <td>75.950258</td>\n",
              "      <td>118.370303</td>\n",
              "    </tr>\n",
              "    <tr>\n",
              "      <th>17</th>\n",
              "      <td>Arcturus</td>\n",
              "      <td>Star</td>\n",
              "      <td>213.915300</td>\n",
              "      <td>19.182409</td>\n",
              "      <td>-0.05</td>\n",
              "      <td>RG*</td>\n",
              "      <td>-2.632443</td>\n",
              "      <td>58.014614</td>\n",
              "    </tr>\n",
              "    <tr>\n",
              "      <th>18</th>\n",
              "      <td>Sirius</td>\n",
              "      <td>Star</td>\n",
              "      <td>101.287155</td>\n",
              "      <td>-16.716116</td>\n",
              "      <td>-1.46</td>\n",
              "      <td>SB*</td>\n",
              "      <td>-41.318282</td>\n",
              "      <td>291.849058</td>\n",
              "    </tr>\n",
              "  </tbody>\n",
              "</table>\n",
              "</div>\n",
              "    <div class=\"colab-df-buttons\">\n",
              "\n",
              "  <div class=\"colab-df-container\">\n",
              "    <button class=\"colab-df-convert\" onclick=\"convertToInteractive('df-29d75314-8fe4-41f6-9ed3-a33bd3b0af49')\"\n",
              "            title=\"Convert this dataframe to an interactive table.\"\n",
              "            style=\"display:none;\">\n",
              "\n",
              "  <svg xmlns=\"http://www.w3.org/2000/svg\" height=\"24px\" viewBox=\"0 -960 960 960\">\n",
              "    <path d=\"M120-120v-720h720v720H120Zm60-500h600v-160H180v160Zm220 220h160v-160H400v160Zm0 220h160v-160H400v160ZM180-400h160v-160H180v160Zm440 0h160v-160H620v160ZM180-180h160v-160H180v160Zm440 0h160v-160H620v160Z\"/>\n",
              "  </svg>\n",
              "    </button>\n",
              "\n",
              "  <style>\n",
              "    .colab-df-container {\n",
              "      display:flex;\n",
              "      gap: 12px;\n",
              "    }\n",
              "\n",
              "    .colab-df-convert {\n",
              "      background-color: #E8F0FE;\n",
              "      border: none;\n",
              "      border-radius: 50%;\n",
              "      cursor: pointer;\n",
              "      display: none;\n",
              "      fill: #1967D2;\n",
              "      height: 32px;\n",
              "      padding: 0 0 0 0;\n",
              "      width: 32px;\n",
              "    }\n",
              "\n",
              "    .colab-df-convert:hover {\n",
              "      background-color: #E2EBFA;\n",
              "      box-shadow: 0px 1px 2px rgba(60, 64, 67, 0.3), 0px 1px 3px 1px rgba(60, 64, 67, 0.15);\n",
              "      fill: #174EA6;\n",
              "    }\n",
              "\n",
              "    .colab-df-buttons div {\n",
              "      margin-bottom: 4px;\n",
              "    }\n",
              "\n",
              "    [theme=dark] .colab-df-convert {\n",
              "      background-color: #3B4455;\n",
              "      fill: #D2E3FC;\n",
              "    }\n",
              "\n",
              "    [theme=dark] .colab-df-convert:hover {\n",
              "      background-color: #434B5C;\n",
              "      box-shadow: 0px 1px 3px 1px rgba(0, 0, 0, 0.15);\n",
              "      filter: drop-shadow(0px 1px 2px rgba(0, 0, 0, 0.3));\n",
              "      fill: #FFFFFF;\n",
              "    }\n",
              "  </style>\n",
              "\n",
              "    <script>\n",
              "      const buttonEl =\n",
              "        document.querySelector('#df-29d75314-8fe4-41f6-9ed3-a33bd3b0af49 button.colab-df-convert');\n",
              "      buttonEl.style.display =\n",
              "        google.colab.kernel.accessAllowed ? 'block' : 'none';\n",
              "\n",
              "      async function convertToInteractive(key) {\n",
              "        const element = document.querySelector('#df-29d75314-8fe4-41f6-9ed3-a33bd3b0af49');\n",
              "        const dataTable =\n",
              "          await google.colab.kernel.invokeFunction('convertToInteractive',\n",
              "                                                    [key], {});\n",
              "        if (!dataTable) return;\n",
              "\n",
              "        const docLinkHtml = 'Like what you see? Visit the ' +\n",
              "          '<a target=\"_blank\" href=https://colab.research.google.com/notebooks/data_table.ipynb>data table notebook</a>'\n",
              "          + ' to learn more about interactive tables.';\n",
              "        element.innerHTML = '';\n",
              "        dataTable['output_type'] = 'display_data';\n",
              "        await google.colab.output.renderOutput(dataTable, element);\n",
              "        const docLink = document.createElement('div');\n",
              "        docLink.innerHTML = docLinkHtml;\n",
              "        element.appendChild(docLink);\n",
              "      }\n",
              "    </script>\n",
              "  </div>\n",
              "\n",
              "\n",
              "<div id=\"df-0382f98e-d665-4a0b-81b7-ba9f54d90719\">\n",
              "  <button class=\"colab-df-quickchart\" onclick=\"quickchart('df-0382f98e-d665-4a0b-81b7-ba9f54d90719')\"\n",
              "            title=\"Suggest charts\"\n",
              "            style=\"display:none;\">\n",
              "\n",
              "<svg xmlns=\"http://www.w3.org/2000/svg\" height=\"24px\"viewBox=\"0 0 24 24\"\n",
              "     width=\"24px\">\n",
              "    <g>\n",
              "        <path d=\"M19 3H5c-1.1 0-2 .9-2 2v14c0 1.1.9 2 2 2h14c1.1 0 2-.9 2-2V5c0-1.1-.9-2-2-2zM9 17H7v-7h2v7zm4 0h-2V7h2v10zm4 0h-2v-4h2v4z\"/>\n",
              "    </g>\n",
              "</svg>\n",
              "  </button>\n",
              "\n",
              "<style>\n",
              "  .colab-df-quickchart {\n",
              "      --bg-color: #E8F0FE;\n",
              "      --fill-color: #1967D2;\n",
              "      --hover-bg-color: #E2EBFA;\n",
              "      --hover-fill-color: #174EA6;\n",
              "      --disabled-fill-color: #AAA;\n",
              "      --disabled-bg-color: #DDD;\n",
              "  }\n",
              "\n",
              "  [theme=dark] .colab-df-quickchart {\n",
              "      --bg-color: #3B4455;\n",
              "      --fill-color: #D2E3FC;\n",
              "      --hover-bg-color: #434B5C;\n",
              "      --hover-fill-color: #FFFFFF;\n",
              "      --disabled-bg-color: #3B4455;\n",
              "      --disabled-fill-color: #666;\n",
              "  }\n",
              "\n",
              "  .colab-df-quickchart {\n",
              "    background-color: var(--bg-color);\n",
              "    border: none;\n",
              "    border-radius: 50%;\n",
              "    cursor: pointer;\n",
              "    display: none;\n",
              "    fill: var(--fill-color);\n",
              "    height: 32px;\n",
              "    padding: 0;\n",
              "    width: 32px;\n",
              "  }\n",
              "\n",
              "  .colab-df-quickchart:hover {\n",
              "    background-color: var(--hover-bg-color);\n",
              "    box-shadow: 0 1px 2px rgba(60, 64, 67, 0.3), 0 1px 3px 1px rgba(60, 64, 67, 0.15);\n",
              "    fill: var(--button-hover-fill-color);\n",
              "  }\n",
              "\n",
              "  .colab-df-quickchart-complete:disabled,\n",
              "  .colab-df-quickchart-complete:disabled:hover {\n",
              "    background-color: var(--disabled-bg-color);\n",
              "    fill: var(--disabled-fill-color);\n",
              "    box-shadow: none;\n",
              "  }\n",
              "\n",
              "  .colab-df-spinner {\n",
              "    border: 2px solid var(--fill-color);\n",
              "    border-color: transparent;\n",
              "    border-bottom-color: var(--fill-color);\n",
              "    animation:\n",
              "      spin 1s steps(1) infinite;\n",
              "  }\n",
              "\n",
              "  @keyframes spin {\n",
              "    0% {\n",
              "      border-color: transparent;\n",
              "      border-bottom-color: var(--fill-color);\n",
              "      border-left-color: var(--fill-color);\n",
              "    }\n",
              "    20% {\n",
              "      border-color: transparent;\n",
              "      border-left-color: var(--fill-color);\n",
              "      border-top-color: var(--fill-color);\n",
              "    }\n",
              "    30% {\n",
              "      border-color: transparent;\n",
              "      border-left-color: var(--fill-color);\n",
              "      border-top-color: var(--fill-color);\n",
              "      border-right-color: var(--fill-color);\n",
              "    }\n",
              "    40% {\n",
              "      border-color: transparent;\n",
              "      border-right-color: var(--fill-color);\n",
              "      border-top-color: var(--fill-color);\n",
              "    }\n",
              "    60% {\n",
              "      border-color: transparent;\n",
              "      border-right-color: var(--fill-color);\n",
              "    }\n",
              "    80% {\n",
              "      border-color: transparent;\n",
              "      border-right-color: var(--fill-color);\n",
              "      border-bottom-color: var(--fill-color);\n",
              "    }\n",
              "    90% {\n",
              "      border-color: transparent;\n",
              "      border-bottom-color: var(--fill-color);\n",
              "    }\n",
              "  }\n",
              "</style>\n",
              "\n",
              "  <script>\n",
              "    async function quickchart(key) {\n",
              "      const quickchartButtonEl =\n",
              "        document.querySelector('#' + key + ' button');\n",
              "      quickchartButtonEl.disabled = true;  // To prevent multiple clicks.\n",
              "      quickchartButtonEl.classList.add('colab-df-spinner');\n",
              "      try {\n",
              "        const charts = await google.colab.kernel.invokeFunction(\n",
              "            'suggestCharts', [key], {});\n",
              "      } catch (error) {\n",
              "        console.error('Error during call to suggestCharts:', error);\n",
              "      }\n",
              "      quickchartButtonEl.classList.remove('colab-df-spinner');\n",
              "      quickchartButtonEl.classList.add('colab-df-quickchart-complete');\n",
              "    }\n",
              "    (() => {\n",
              "      let quickchartButtonEl =\n",
              "        document.querySelector('#df-0382f98e-d665-4a0b-81b7-ba9f54d90719 button');\n",
              "      quickchartButtonEl.style.display =\n",
              "        google.colab.kernel.accessAllowed ? 'block' : 'none';\n",
              "    })();\n",
              "  </script>\n",
              "</div>\n",
              "\n",
              "  <div id=\"id_e4574d15-fc13-4b46-9216-6d6af779ffb7\">\n",
              "    <style>\n",
              "      .colab-df-generate {\n",
              "        background-color: #E8F0FE;\n",
              "        border: none;\n",
              "        border-radius: 50%;\n",
              "        cursor: pointer;\n",
              "        display: none;\n",
              "        fill: #1967D2;\n",
              "        height: 32px;\n",
              "        padding: 0 0 0 0;\n",
              "        width: 32px;\n",
              "      }\n",
              "\n",
              "      .colab-df-generate:hover {\n",
              "        background-color: #E2EBFA;\n",
              "        box-shadow: 0px 1px 2px rgba(60, 64, 67, 0.3), 0px 1px 3px 1px rgba(60, 64, 67, 0.15);\n",
              "        fill: #174EA6;\n",
              "      }\n",
              "\n",
              "      [theme=dark] .colab-df-generate {\n",
              "        background-color: #3B4455;\n",
              "        fill: #D2E3FC;\n",
              "      }\n",
              "\n",
              "      [theme=dark] .colab-df-generate:hover {\n",
              "        background-color: #434B5C;\n",
              "        box-shadow: 0px 1px 3px 1px rgba(0, 0, 0, 0.15);\n",
              "        filter: drop-shadow(0px 1px 2px rgba(0, 0, 0, 0.3));\n",
              "        fill: #FFFFFF;\n",
              "      }\n",
              "    </style>\n",
              "    <button class=\"colab-df-generate\" onclick=\"generateWithVariable('df')\"\n",
              "            title=\"Generate code using this dataframe.\"\n",
              "            style=\"display:none;\">\n",
              "\n",
              "  <svg xmlns=\"http://www.w3.org/2000/svg\" height=\"24px\"viewBox=\"0 0 24 24\"\n",
              "       width=\"24px\">\n",
              "    <path d=\"M7,19H8.4L18.45,9,17,7.55,7,17.6ZM5,21V16.75L18.45,3.32a2,2,0,0,1,2.83,0l1.4,1.43a1.91,1.91,0,0,1,.58,1.4,1.91,1.91,0,0,1-.58,1.4L9.25,21ZM18.45,9,17,7.55Zm-12,3A5.31,5.31,0,0,0,4.9,8.1,5.31,5.31,0,0,0,1,6.5,5.31,5.31,0,0,0,4.9,4.9,5.31,5.31,0,0,0,6.5,1,5.31,5.31,0,0,0,8.1,4.9,5.31,5.31,0,0,0,12,6.5,5.46,5.46,0,0,0,6.5,12Z\"/>\n",
              "  </svg>\n",
              "    </button>\n",
              "    <script>\n",
              "      (() => {\n",
              "      const buttonEl =\n",
              "        document.querySelector('#id_e4574d15-fc13-4b46-9216-6d6af779ffb7 button.colab-df-generate');\n",
              "      buttonEl.style.display =\n",
              "        google.colab.kernel.accessAllowed ? 'block' : 'none';\n",
              "\n",
              "      buttonEl.onclick = () => {\n",
              "        google.colab.notebook.generateWithVariable('df');\n",
              "      }\n",
              "      })();\n",
              "    </script>\n",
              "  </div>\n",
              "\n",
              "    </div>\n",
              "  </div>\n"
            ],
            "application/vnd.google.colaboratory.intrinsic+json": {
              "type": "dataframe",
              "variable_name": "df",
              "summary": "{\n  \"name\": \"df\",\n  \"rows\": 19,\n  \"fields\": [\n    {\n      \"column\": \"ime\",\n      \"properties\": {\n        \"dtype\": \"string\",\n        \"num_unique_values\": 19,\n        \"samples\": [\n          \"M31\",\n          \"Deneb\",\n          \"Altair\"\n        ],\n        \"semantic_type\": \"\",\n        \"description\": \"\"\n      }\n    },\n    {\n      \"column\": \"tip\",\n      \"properties\": {\n        \"dtype\": \"category\",\n        \"num_unique_values\": 2,\n        \"samples\": [\n          \"Star\",\n          \"Galaxy\"\n        ],\n        \"semantic_type\": \"\",\n        \"description\": \"\"\n      }\n    },\n    {\n      \"column\": \"RA\",\n      \"properties\": {\n        \"dtype\": \"number\",\n        \"std\": 100.27416722824792,\n        \"min\": 10.684708333333333,\n        \"max\": 344.4126927211701,\n        \"num_unique_values\": 19,\n        \"samples\": [\n          10.684708333333333,\n          310.35797975307673\n        ],\n        \"semantic_type\": \"\",\n        \"description\": \"\"\n      }\n    },\n    {\n      \"column\": \"DEC\",\n      \"properties\": {\n        \"dtype\": \"number\",\n        \"std\": 29.169774201443058,\n        \"min\": -29.622237033389442,\n        \"max\": 89.26410896994187,\n        \"num_unique_values\": 19,\n        \"samples\": [\n          41.268750000000004,\n          45.280338806527574\n        ],\n        \"semantic_type\": \"\",\n        \"description\": \"\"\n      }\n    },\n    {\n      \"column\": \"m_V\",\n      \"properties\": {\n        \"dtype\": \"number\",\n        \"std\": 1.0065022644139132,\n        \"min\": -1.4600000381469727,\n        \"max\": 3.440000057220459,\n        \"num_unique_values\": 19,\n        \"samples\": [\n          3.440000057220459,\n          1.25\n        ],\n        \"semantic_type\": \"\",\n        \"description\": \"\"\n      }\n    },\n    {\n      \"column\": \"SIMBAD_tip\",\n      \"properties\": {\n        \"dtype\": \"string\",\n        \"num_unique_values\": 13,\n        \"samples\": [\n          \"s*b\",\n          \"dS*\"\n        ],\n        \"semantic_type\": \"\",\n        \"description\": \"\"\n      }\n    },\n    {\n      \"column\": \"Alt\",\n      \"properties\": {\n        \"dtype\": \"number\",\n        \"std\": 29.827595124107567,\n        \"min\": -41.31828219380939,\n        \"max\": 75.95025826527211,\n        \"num_unique_values\": 19,\n        \"samples\": [\n          52.632138570241324,\n          14.827834920258235\n        ],\n        \"semantic_type\": \"\",\n        \"description\": \"\"\n      }\n    },\n    {\n      \"column\": \"Az\",\n      \"properties\": {\n        \"dtype\": \"number\",\n        \"std\": 104.32708225438124,\n        \"min\": 37.65496526316941,\n        \"max\": 359.8369197859894,\n        \"num_unique_values\": 19,\n        \"samples\": [\n          281.1652466240378,\n          37.65496526316941\n        ],\n        \"semantic_type\": \"\",\n        \"description\": \"\"\n      }\n    }\n  ]\n}"
            }
          },
          "metadata": {}
        }
      ]
    },
    {
      "cell_type": "code",
      "source": [
        "import matplotlib.pyplot as plt\n",
        "import numpy as np\n",
        "\n",
        "# Filtriramo le objekte, ki so nad obzorjem\n",
        "df_visible = df[df[\"Alt\"] > 0].copy()\n",
        "\n",
        "# Pretvorba v radiane\n",
        "az_rad = np.deg2rad(df_visible['Az'])\n",
        "alt_radial = 90 - df_visible['Alt']  # 0 = zenit, 90 = obzorje\n",
        "\n",
        "# Polarni prikaz\n",
        "fig = plt.figure(figsize=(8, 8))\n",
        "ax = fig.add_subplot(111, polar=True)\n",
        "ax.set_theta_zero_location(\"N\")  # 0° = sever\n",
        "ax.set_theta_direction(-1)       # azimut gre v smeri urinega kazalca\n",
        "\n",
        "# Narišemo točke\n",
        "sc = ax.scatter(az_rad, alt_radial, c=df_visible['m_V'], cmap='plasma_r', s=80, edgecolors='black')\n",
        "\n",
        "# Oznake\n",
        "for _, row in df_visible.iterrows():\n",
        "    ax.text(np.deg2rad(row['Az']), 90 - row['Alt'], row['ime'], fontsize=9, ha='center', va='center')\n",
        "\n",
        "# Legenda za magnitudo\n",
        "cbar = plt.colorbar(sc, orientation='horizontal', pad=0.1)\n",
        "cbar.set_label('Navidezna magnituda (V)')\n",
        "\n",
        "# Nastavitve\n",
        "ax.set_rlabel_position(135)\n",
        "ax.set_title(\"Položaj objektov na nebu – Maribor, 9. junij 2025 ob 20:00 UTC\", va='bottom')\n",
        "ax.set_rticks([0, 30, 60, 90])  # 0 = zenit, 90 = obzorje\n",
        "ax.set_rlim(90, 0)\n",
        "plt.show()\n"
      ],
      "metadata": {
        "colab": {
          "base_uri": "https://localhost:8080/",
          "height": 661
        },
        "id": "aayMRMzuywpA",
        "outputId": "6b1de54e-a774-4276-a746-25d1fe1d354a"
      },
      "execution_count": null,
      "outputs": [
        {
          "output_type": "display_data",
          "data": {
            "text/plain": [
              "<Figure size 800x800 with 2 Axes>"
            ],
            "image/png": "[encoded data removed]"
          },
          "metadata": {}
        }
      ]
    },
    {
      "cell_type": "markdown",
      "source": [
        "### Zvezdcna karta"
      ],
      "metadata": {
        "id": "q3bhI0vtzZCR"
      }
    },
    {
      "cell_type": "code",
      "source": [
        "import matplotlib.pyplot as plt\n",
        "import numpy as np\n",
        "from astropy.coordinates import SkyCoord\n",
        "from astropy import units as u\n",
        "\n",
        "# Pretvorba RA/DEC iz df v SkyCoord\n",
        "coords = SkyCoord(df['RA'].values, df['DEC'].values, unit=(u.hourangle, u.deg), frame='icrs')\n",
        "\n",
        "# RA mora biti v radianih in obrnjen, ker Mollweide ima \"vzhod na levi\"\n",
        "ra_rad = np.remainder(coords.ra.deg + 360, 360)  # normaliziramo\n",
        "ra_rad = np.radians(ra_rad)\n",
        "ra_rad = np.pi - ra_rad  # obrnjena os\n",
        "\n",
        "dec_rad = np.radians(coords.dec.deg)\n",
        "\n",
        "# Risanje v Mollweide projekciji\n",
        "fig = plt.figure(figsize=(10, 6))\n",
        "ax = fig.add_subplot(111, projection='mollweide')\n",
        "sc = ax.scatter(ra_rad, dec_rad, c=df['m_V'], cmap='plasma_r', s=50, edgecolor='black')\n",
        "\n",
        "# Oznake\n",
        "for i, name in enumerate(df['ime']):\n",
        "    ax.text(ra_rad[i], dec_rad[i], name, fontsize=7, ha='center')\n",
        "\n",
        "# Prilagoditve osi\n",
        "ax.grid(True)\n",
        "ax.set_title(\"Zvezdna karta v ekvatorialnem sistemu (RA/Dec)\", pad=20)\n",
        "cbar = plt.colorbar(sc, orientation='horizontal', pad=0.05)\n",
        "cbar.set_label(\"Navidezna magnituda (V)\")\n",
        "plt.show()\n"
      ],
      "metadata": {
        "colab": {
          "base_uri": "https://localhost:8080/",
          "height": 553
        },
        "id": "4PZ12WpZzY13",
        "outputId": "05293484-d114-4e92-f96b-f30cc3b16972"
      },
      "execution_count": null,
      "outputs": [
        {
          "output_type": "display_data",
          "data": {
            "text/plain": [
              "<Figure size 1000x600 with 2 Axes>"
            ],
            "image/png": "[encoded data removed]"
          },
          "metadata": {}
        }
      ]
    },
    {
      "cell_type": "code",
      "source": [
        "!pip install tzwhere==3.0.3\n",
        "# datetime libraries\n",
        "from datetime import datetime\n",
        "from geopy import Nominatim\n",
        "try:\n",
        "  from tzwhere import tzwhere\n",
        "except:\n",
        "  !pip install tzwhere\n",
        "  from tzwhere import tzwhere\n",
        "\n",
        "!pip install timezonefinder\n",
        "from timezonefinder import TimezoneFinder\n",
        "clear_output()\n",
        "\n",
        "from pytz import timezone, utc# matplotlib to help display our star map\n",
        "import matplotlib.pyplot as plt# skyfield for star data\n",
        "\n",
        "try:\n",
        "  from skyfield.api import Star, load, wgs84\n",
        "  from skyfield.data import hipparcos\n",
        "  from skyfield.projections import build_stereographic_projection\n",
        "except:\n",
        "  !pip install skyfield\n",
        "  from skyfield.api import Star, load, wgs84\n",
        "  from skyfield.data import hipparcos\n",
        "  from skyfield.projections import build_stereographic_projection\n",
        "  clear_output()"
      ],
      "metadata": {
        "id": "vBap-xKXzCAN"
      },
      "execution_count": null,
      "outputs": []
    },
    {
      "cell_type": "code",
      "source": [
        "# de421 shows position of earth and sun in space\n",
        "eph = load('de421.bsp')# hipparcos dataset contains star location data\n",
        "with load.open(hipparcos.URL) as f:\n",
        "    start_data = hipparcos.load_dataframe(f)"
      ],
      "metadata": {
        "id": "GO8XoICr5Lze"
      },
      "execution_count": null,
      "outputs": []
    },
    {
      "cell_type": "code",
      "source": [
        "eph[\"venus\"]"
      ],
      "metadata": {
        "colab": {
          "base_uri": "https://localhost:8080/"
        },
        "id": "xUqlOISdD8Fy",
        "outputId": "6949e38c-d186-432e-985d-77b3846ee2b0"
      },
      "execution_count": null,
      "outputs": [
        {
          "output_type": "execute_result",
          "data": {
            "text/plain": [
              "<VectorSum of 2 vectors:\n",
              " 'de421.bsp' segment 0 SOLAR SYSTEM BARYCENTER -> 2 VENUS BARYCENTER\n",
              " 'de421.bsp' segment 2 VENUS BARYCENTER -> 299 VENUS>"
            ]
          },
          "metadata": {},
          "execution_count": 143
        }
      ]
    },
    {
      "cell_type": "code",
      "source": [
        "location = 'Koroška cesta 160, Maribor, SI'\n",
        "when = '2025-04-23 20:00'\n",
        "\n",
        "locator = Nominatim(user_agent='myGeocoder')\n",
        "location = locator.geocode(location)\n",
        "lat, long = location.latitude, location.longitude\n",
        "print(lat, long)\n",
        "\n",
        "# convert date string into datetime object\n",
        "dt = datetime.strptime(when, '%Y-%m-%d %H:%M')\n",
        "from timezonefinder import TimezoneFinder\n",
        "tf = TimezoneFinder()\n",
        "timezone_str = tf.timezone_at(lat=lat, lng=long)\n",
        "local = timezone(timezone_str)\n",
        "local_dt = local.localize(dt, is_dst=None)\n",
        "utc_dt = local_dt.astimezone(utc)"
      ],
      "metadata": {
        "colab": {
          "base_uri": "https://localhost:8080/"
        },
        "id": "USOAGeNOz_dV",
        "outputId": "6e98fd4e-1548-496c-b466-251c1916fd3c"
      },
      "execution_count": null,
      "outputs": [
        {
          "output_type": "stream",
          "name": "stdout",
          "text": [
            "46.5636082 15.6244295\n"
          ]
        }
      ]
    },
    {
      "cell_type": "code",
      "source": [
        "# find location of earth and sun and set the observer position\n",
        "sun = eph['sun']\n",
        "earth = eph['earth']# define observation time from our UTC datetime\n",
        "ts = load.timescale()\n",
        "t = ts.from_datetime(utc_dt)# define an observer using the world geodetic system data\n",
        "observer = wgs84.latlon(latitude_degrees=lat, longitude_degrees=long).at(t)\n",
        "position = observer.from_altaz(alt_degrees=90, az_degrees=0)"
      ],
      "metadata": {
        "id": "1t2QtG2M1Y2E"
      },
      "execution_count": null,
      "outputs": []
    },
    {
      "cell_type": "code",
      "source": [
        "ra, dec, distance = observer.radec()\n",
        "center_object = Star(ra=ra, dec=dec)"
      ],
      "metadata": {
        "id": "FhXqSyVy1k_A"
      },
      "execution_count": null,
      "outputs": []
    },
    {
      "cell_type": "markdown",
      "source": [],
      "metadata": {
        "id": "qKVUc60JGUKD"
      }
    },
    {
      "cell_type": "code",
      "source": [
        "center = earth.at(t).observe(center_object)\n",
        "projection = build_stereographic_projection(center)"
      ],
      "metadata": {
        "id": "PXuYu-B814Wj"
      },
      "execution_count": null,
      "outputs": []
    },
    {
      "cell_type": "code",
      "source": [
        "star_positions = earth.at(t).observe(Star.from_dataframe(stars_data))\n",
        "stars = projection(star_positions)"
      ],
      "metadata": {
        "id": "6Njspqmk4fTN"
      },
      "execution_count": null,
      "outputs": []
    },
    {
      "cell_type": "code",
      "source": [
        "stars_data[\"magnitude\"].values"
      ],
      "metadata": {
        "colab": {
          "base_uri": "https://localhost:8080/"
        },
        "id": "sgFMd3C45pUE",
        "outputId": "6ae8e569-4371-4d68-daf0-db82cf50aa75"
      },
      "execution_count": null,
      "outputs": [
        {
          "output_type": "execute_result",
          "data": {
            "text/plain": [
              "array([9.1 , 9.27, 6.61, ..., 7.59, 9.2 , 4.49])"
            ]
          },
          "metadata": {},
          "execution_count": 174
        }
      ]
    },
    {
      "cell_type": "code",
      "source": [
        "stars_data[\"x\"]  = stars[0]\n",
        "stars_data[\"y\"]  = stars[1]"
      ],
      "metadata": {
        "id": "QlEB2Mfj5Y7p"
      },
      "execution_count": null,
      "outputs": []
    },
    {
      "cell_type": "code",
      "source": [
        "chart_size = 10\n",
        "max_star_size = 100\n",
        "limiting_magnitude = 3\n",
        "bright_stars = (stars_data.magnitude <= limiting_magnitude)\n",
        "magnitude = stars_data['magnitude'][bright_stars]\n"
      ],
      "metadata": {
        "id": "i2vUTreu4hiu"
      },
      "execution_count": null,
      "outputs": []
    },
    {
      "cell_type": "code",
      "source": [
        "from matplotlib.patches import Circle\n",
        "fig, ax = plt.subplots(figsize=(chart_size, chart_size))\n",
        "\n",
        "border = plt.Circle((0, 0), 1, color='navy', fill=True)\n",
        "ax.add_patch(border)\n",
        "marker_size = max_star_size * 10 ** (magnitude / -2.5)\n",
        "ax.scatter(stars_data['x'][bright_stars], stars_data['y'][bright_stars],\n",
        " s=marker_size, color='white', marker='.', linewidths=0,\n",
        " zorder=2)\n",
        "\n",
        "horizon = Circle((0, 0), radius=1, transform=ax.transData)\n",
        "for col in ax.collections:\n",
        "    col.set_clip_path(horizon)\n",
        "\n",
        "ax.set_xlim(-1, 1)\n",
        "ax.set_ylim(-1, 1)\n",
        "plt.axis('off')\n",
        "plt.show()"
      ],
      "metadata": {
        "id": "DfzIhvg_4waA",
        "colab": {
          "base_uri": "https://localhost:8080/",
          "height": 807
        },
        "outputId": "15e2532f-132e-48c0-ff21-c86a1cf417a9"
      },
      "execution_count": null,
      "outputs": [
        {
          "output_type": "display_data",
          "data": {
            "text/plain": [
              "<Figure size 1000x1000 with 1 Axes>"
            ],
            "image/png": "[encoded data removed]"
          },
          "metadata": {}
        }
      ]
    },
    {
      "source": [
        "!pip install skyfield matplotlib ipywidgets"
      ],
      "cell_type": "code",
      "metadata": {
        "id": "iBPOS1RjIHlR",
        "outputId": "68a08984-2157-4eee-e5e9-3301f3595be5",
        "colab": {
          "base_uri": "https://localhost:8080/"
        }
      },
      "execution_count": null,
      "outputs": [
        {
          "output_type": "stream",
          "name": "stdout",
          "text": [
            "Requirement already satisfied: skyfield in /usr/local/lib/python3.11/dist-packages (1.53)\n",
            "Requirement already satisfied: matplotlib in /usr/local/lib/python3.11/dist-packages (3.10.0)\n",
            "Requirement already satisfied: ipywidgets in /usr/local/lib/python3.11/dist-packages (7.7.1)\n",
            "Requirement already satisfied: certifi>=2017.4.17 in /usr/local/lib/python3.11/dist-packages (from skyfield) (2025.1.31)\n",
            "Requirement already satisfied: jplephem>=2.13 in /usr/local/lib/python3.11/dist-packages (from skyfield) (2.22)\n",
            "Requirement already satisfied: numpy in /usr/local/lib/python3.11/dist-packages (from skyfield) (2.0.2)\n",
            "Requirement already satisfied: sgp4>=2.13 in /usr/local/lib/python3.11/dist-packages (from skyfield) (2.24)\n",
            "Requirement already satisfied: contourpy>=1.0.1 in /usr/local/lib/python3.11/dist-packages (from matplotlib) (1.3.2)\n",
            "Requirement already satisfied: cycler>=0.10 in /usr/local/lib/python3.11/dist-packages (from matplotlib) (0.12.1)\n",
            "Requirement already satisfied: fonttools>=4.22.0 in /usr/local/lib/python3.11/dist-packages (from matplotlib) (4.57.0)\n",
            "Requirement already satisfied: kiwisolver>=1.3.1 in /usr/local/lib/python3.11/dist-packages (from matplotlib) (1.4.8)\n",
            "Requirement already satisfied: packaging>=20.0 in /usr/local/lib/python3.11/dist-packages (from matplotlib) (24.2)\n",
            "Requirement already satisfied: pillow>=8 in /usr/local/lib/python3.11/dist-packages (from matplotlib) (11.1.0)\n",
            "Requirement already satisfied: pyparsing>=2.3.1 in /usr/local/lib/python3.11/dist-packages (from matplotlib) (3.2.3)\n",
            "Requirement already satisfied: python-dateutil>=2.7 in /usr/local/lib/python3.11/dist-packages (from matplotlib) (2.8.2)\n",
            "Requirement already satisfied: ipykernel>=4.5.1 in /usr/local/lib/python3.11/dist-packages (from ipywidgets) (6.17.1)\n",
            "Requirement already satisfied: ipython-genutils~=0.2.0 in /usr/local/lib/python3.11/dist-packages (from ipywidgets) (0.2.0)\n",
            "Requirement already satisfied: traitlets>=4.3.1 in /usr/local/lib/python3.11/dist-packages (from ipywidgets) (5.7.1)\n",
            "Requirement already satisfied: widgetsnbextension~=3.6.0 in /usr/local/lib/python3.11/dist-packages (from ipywidgets) (3.6.10)\n",
            "Requirement already satisfied: ipython>=4.0.0 in /usr/local/lib/python3.11/dist-packages (from ipywidgets) (7.34.0)\n",
            "Requirement already satisfied: jupyterlab-widgets>=1.0.0 in /usr/local/lib/python3.11/dist-packages (from ipywidgets) (3.0.14)\n",
            "Requirement already satisfied: debugpy>=1.0 in /usr/local/lib/python3.11/dist-packages (from ipykernel>=4.5.1->ipywidgets) (1.8.0)\n",
            "Requirement already satisfied: jupyter-client>=6.1.12 in /usr/local/lib/python3.11/dist-packages (from ipykernel>=4.5.1->ipywidgets) (6.1.12)\n",
            "Requirement already satisfied: matplotlib-inline>=0.1 in /usr/local/lib/python3.11/dist-packages (from ipykernel>=4.5.1->ipywidgets) (0.1.7)\n",
            "Requirement already satisfied: nest-asyncio in /usr/local/lib/python3.11/dist-packages (from ipykernel>=4.5.1->ipywidgets) (1.6.0)\n",
            "Requirement already satisfied: psutil in /usr/local/lib/python3.11/dist-packages (from ipykernel>=4.5.1->ipywidgets) (5.9.5)\n",
            "Requirement already satisfied: pyzmq>=17 in /usr/local/lib/python3.11/dist-packages (from ipykernel>=4.5.1->ipywidgets) (24.0.1)\n",
            "Requirement already satisfied: tornado>=6.1 in /usr/local/lib/python3.11/dist-packages (from ipykernel>=4.5.1->ipywidgets) (6.4.2)\n",
            "Requirement already satisfied: setuptools>=18.5 in /usr/local/lib/python3.11/dist-packages (from ipython>=4.0.0->ipywidgets) (75.2.0)\n",
            "Collecting jedi>=0.16 (from ipython>=4.0.0->ipywidgets)\n",
            "  Downloading jedi-0.19.2-py2.py3-none-any.whl.metadata (22 kB)\n",
            "Requirement already satisfied: decorator in /usr/local/lib/python3.11/dist-packages (from ipython>=4.0.0->ipywidgets) (4.4.2)\n",
            "Requirement already satisfied: pickleshare in /usr/local/lib/python3.11/dist-packages (from ipython>=4.0.0->ipywidgets) (0.7.5)\n",
            "Requirement already satisfied: prompt-toolkit!=3.0.0,!=3.0.1,<3.1.0,>=2.0.0 in /usr/local/lib/python3.11/dist-packages (from ipython>=4.0.0->ipywidgets) (3.0.51)\n",
            "Requirement already satisfied: pygments in /usr/local/lib/python3.11/dist-packages (from ipython>=4.0.0->ipywidgets) (2.18.0)\n",
            "Requirement already satisfied: backcall in /usr/local/lib/python3.11/dist-packages (from ipython>=4.0.0->ipywidgets) (0.2.0)\n",
            "Requirement already satisfied: pexpect>4.3 in /usr/local/lib/python3.11/dist-packages (from ipython>=4.0.0->ipywidgets) (4.9.0)\n",
            "Requirement already satisfied: six>=1.5 in /usr/local/lib/python3.11/dist-packages (from python-dateutil>=2.7->matplotlib) (1.17.0)\n",
            "Requirement already satisfied: notebook>=4.4.1 in /usr/local/lib/python3.11/dist-packages (from widgetsnbextension~=3.6.0->ipywidgets) (6.5.7)\n",
            "Requirement already satisfied: parso<0.9.0,>=0.8.4 in /usr/local/lib/python3.11/dist-packages (from jedi>=0.16->ipython>=4.0.0->ipywidgets) (0.8.4)\n",
            "Requirement already satisfied: jupyter-core>=4.6.0 in /usr/local/lib/python3.11/dist-packages (from jupyter-client>=6.1.12->ipykernel>=4.5.1->ipywidgets) (5.7.2)\n",
            "Requirement already satisfied: jinja2 in /usr/local/lib/python3.11/dist-packages (from notebook>=4.4.1->widgetsnbextension~=3.6.0->ipywidgets) (3.1.6)\n",
            "Requirement already satisfied: argon2-cffi in /usr/local/lib/python3.11/dist-packages (from notebook>=4.4.1->widgetsnbextension~=3.6.0->ipywidgets) (23.1.0)\n",
            "Requirement already satisfied: nbformat in /usr/local/lib/python3.11/dist-packages (from notebook>=4.4.1->widgetsnbextension~=3.6.0->ipywidgets) (5.10.4)\n",
            "Requirement already satisfied: nbconvert>=5 in /usr/local/lib/python3.11/dist-packages (from notebook>=4.4.1->widgetsnbextension~=3.6.0->ipywidgets) (7.16.6)\n",
            "Requirement already satisfied: Send2Trash>=1.8.0 in /usr/local/lib/python3.11/dist-packages (from notebook>=4.4.1->widgetsnbextension~=3.6.0->ipywidgets) (1.8.3)\n",
            "Requirement already satisfied: terminado>=0.8.3 in /usr/local/lib/python3.11/dist-packages (from notebook>=4.4.1->widgetsnbextension~=3.6.0->ipywidgets) (0.18.1)\n",
            "Requirement already satisfied: prometheus-client in /usr/local/lib/python3.11/dist-packages (from notebook>=4.4.1->widgetsnbextension~=3.6.0->ipywidgets) (0.21.1)\n",
            "Requirement already satisfied: nbclassic>=0.4.7 in /usr/local/lib/python3.11/dist-packages (from notebook>=4.4.1->widgetsnbextension~=3.6.0->ipywidgets) (1.2.0)\n",
            "Requirement already satisfied: ptyprocess>=0.5 in /usr/local/lib/python3.11/dist-packages (from pexpect>4.3->ipython>=4.0.0->ipywidgets) (0.7.0)\n",
            "Requirement already satisfied: wcwidth in /usr/local/lib/python3.11/dist-packages (from prompt-toolkit!=3.0.0,!=3.0.1,<3.1.0,>=2.0.0->ipython>=4.0.0->ipywidgets) (0.2.13)\n",
            "Requirement already satisfied: platformdirs>=2.5 in /usr/local/lib/python3.11/dist-packages (from jupyter-core>=4.6.0->jupyter-client>=6.1.12->ipykernel>=4.5.1->ipywidgets) (4.3.7)\n",
            "Requirement already satisfied: notebook-shim>=0.2.3 in /usr/local/lib/python3.11/dist-packages (from nbclassic>=0.4.7->notebook>=4.4.1->widgetsnbextension~=3.6.0->ipywidgets) (0.2.4)\n",
            "Requirement already satisfied: beautifulsoup4 in /usr/local/lib/python3.11/dist-packages (from nbconvert>=5->notebook>=4.4.1->widgetsnbextension~=3.6.0->ipywidgets) (4.13.4)\n",
            "Requirement already satisfied: bleach!=5.0.0 in /usr/local/lib/python3.11/dist-packages (from bleach[css]!=5.0.0->nbconvert>=5->notebook>=4.4.1->widgetsnbextension~=3.6.0->ipywidgets) (6.2.0)\n",
            "Requirement already satisfied: defusedxml in /usr/local/lib/python3.11/dist-packages (from nbconvert>=5->notebook>=4.4.1->widgetsnbextension~=3.6.0->ipywidgets) (0.7.1)\n",
            "Requirement already satisfied: jupyterlab-pygments in /usr/local/lib/python3.11/dist-packages (from nbconvert>=5->notebook>=4.4.1->widgetsnbextension~=3.6.0->ipywidgets) (0.3.0)\n",
            "Requirement already satisfied: markupsafe>=2.0 in /usr/local/lib/python3.11/dist-packages (from nbconvert>=5->notebook>=4.4.1->widgetsnbextension~=3.6.0->ipywidgets) (3.0.2)\n",
            "Requirement already satisfied: mistune<4,>=2.0.3 in /usr/local/lib/python3.11/dist-packages (from nbconvert>=5->notebook>=4.4.1->widgetsnbextension~=3.6.0->ipywidgets) (3.1.3)\n",
            "Requirement already satisfied: nbclient>=0.5.0 in /usr/local/lib/python3.11/dist-packages (from nbconvert>=5->notebook>=4.4.1->widgetsnbextension~=3.6.0->ipywidgets) (0.10.2)\n",
            "Requirement already satisfied: pandocfilters>=1.4.1 in /usr/local/lib/python3.11/dist-packages (from nbconvert>=5->notebook>=4.4.1->widgetsnbextension~=3.6.0->ipywidgets) (1.5.1)\n",
            "Requirement already satisfied: fastjsonschema>=2.15 in /usr/local/lib/python3.11/dist-packages (from nbformat->notebook>=4.4.1->widgetsnbextension~=3.6.0->ipywidgets) (2.21.1)\n",
            "Requirement already satisfied: jsonschema>=2.6 in /usr/local/lib/python3.11/dist-packages (from nbformat->notebook>=4.4.1->widgetsnbextension~=3.6.0->ipywidgets) (4.23.0)\n",
            "Requirement already satisfied: argon2-cffi-bindings in /usr/local/lib/python3.11/dist-packages (from argon2-cffi->notebook>=4.4.1->widgetsnbextension~=3.6.0->ipywidgets) (21.2.0)\n",
            "Requirement already satisfied: webencodings in /usr/local/lib/python3.11/dist-packages (from bleach!=5.0.0->bleach[css]!=5.0.0->nbconvert>=5->notebook>=4.4.1->widgetsnbextension~=3.6.0->ipywidgets) (0.5.1)\n",
            "Requirement already satisfied: tinycss2<1.5,>=1.1.0 in /usr/local/lib/python3.11/dist-packages (from bleach[css]!=5.0.0->nbconvert>=5->notebook>=4.4.1->widgetsnbextension~=3.6.0->ipywidgets) (1.4.0)\n",
            "Requirement already satisfied: attrs>=22.2.0 in /usr/local/lib/python3.11/dist-packages (from jsonschema>=2.6->nbformat->notebook>=4.4.1->widgetsnbextension~=3.6.0->ipywidgets) (25.3.0)\n",
            "Requirement already satisfied: jsonschema-specifications>=2023.03.6 in /usr/local/lib/python3.11/dist-packages (from jsonschema>=2.6->nbformat->notebook>=4.4.1->widgetsnbextension~=3.6.0->ipywidgets) (2024.10.1)\n",
            "Requirement already satisfied: referencing>=0.28.4 in /usr/local/lib/python3.11/dist-packages (from jsonschema>=2.6->nbformat->notebook>=4.4.1->widgetsnbextension~=3.6.0->ipywidgets) (0.36.2)\n",
            "Requirement already satisfied: rpds-py>=0.7.1 in /usr/local/lib/python3.11/dist-packages (from jsonschema>=2.6->nbformat->notebook>=4.4.1->widgetsnbextension~=3.6.0->ipywidgets) (0.24.0)\n",
            "Requirement already satisfied: jupyter-server<3,>=1.8 in /usr/local/lib/python3.11/dist-packages (from notebook-shim>=0.2.3->nbclassic>=0.4.7->notebook>=4.4.1->widgetsnbextension~=3.6.0->ipywidgets) (1.16.0)\n",
            "Requirement already satisfied: cffi>=1.0.1 in /usr/local/lib/python3.11/dist-packages (from argon2-cffi-bindings->argon2-cffi->notebook>=4.4.1->widgetsnbextension~=3.6.0->ipywidgets) (1.17.1)\n",
            "Requirement already satisfied: soupsieve>1.2 in /usr/local/lib/python3.11/dist-packages (from beautifulsoup4->nbconvert>=5->notebook>=4.4.1->widgetsnbextension~=3.6.0->ipywidgets) (2.6)\n",
            "Requirement already satisfied: typing-extensions>=4.0.0 in /usr/local/lib/python3.11/dist-packages (from beautifulsoup4->nbconvert>=5->notebook>=4.4.1->widgetsnbextension~=3.6.0->ipywidgets) (4.13.2)\n",
            "Requirement already satisfied: pycparser in /usr/local/lib/python3.11/dist-packages (from cffi>=1.0.1->argon2-cffi-bindings->argon2-cffi->notebook>=4.4.1->widgetsnbextension~=3.6.0->ipywidgets) (2.22)\n",
            "Requirement already satisfied: anyio>=3.1.0 in /usr/local/lib/python3.11/dist-packages (from jupyter-server<3,>=1.8->notebook-shim>=0.2.3->nbclassic>=0.4.7->notebook>=4.4.1->widgetsnbextension~=3.6.0->ipywidgets) (4.9.0)\n",
            "Requirement already satisfied: websocket-client in /usr/local/lib/python3.11/dist-packages (from jupyter-server<3,>=1.8->notebook-shim>=0.2.3->nbclassic>=0.4.7->notebook>=4.4.1->widgetsnbextension~=3.6.0->ipywidgets) (1.8.0)\n",
            "Requirement already satisfied: idna>=2.8 in /usr/local/lib/python3.11/dist-packages (from anyio>=3.1.0->jupyter-server<3,>=1.8->notebook-shim>=0.2.3->nbclassic>=0.4.7->notebook>=4.4.1->widgetsnbextension~=3.6.0->ipywidgets) (3.10)\n",
            "Requirement already satisfied: sniffio>=1.1 in /usr/local/lib/python3.11/dist-packages (from anyio>=3.1.0->jupyter-server<3,>=1.8->notebook-shim>=0.2.3->nbclassic>=0.4.7->notebook>=4.4.1->widgetsnbextension~=3.6.0->ipywidgets) (1.3.1)\n",
            "Downloading jedi-0.19.2-py2.py3-none-any.whl (1.6 MB)\n",
            "\u001b[2K   \u001b[90m━━━━━━━━━━━━━━━━━━━━━━━━━━━━━━━━━━━━━━━━\u001b[0m \u001b[32m1.6/1.6 MB\u001b[0m \u001b[31m54.4 MB/s\u001b[0m eta \u001b[36m0:00:00\u001b[0m\n",
            "\u001b[?25hInstalling collected packages: jedi\n",
            "Successfully installed jedi-0.19.2\n"
          ]
        }
      ]
    },
    {
      "cell_type": "code",
      "source": [],
      "metadata": {
        "id": "XKc7RIeyIJYc"
      },
      "execution_count": null,
      "outputs": []
    },
    {
      "source": [
        "from skyfield.api import Star, load, wgs84\n",
        "from skyfield.data import hipparcos\n",
        "from skyfield.projections import build_stereographic_projection\n",
        "from datetime import datetime, timedelta\n",
        "from pytz import timezone, utc\n",
        "from geopy import Nominatim\n",
        "from tzwhere import tzwhere\n",
        "from IPython.display import display, clear_output\n",
        "import matplotlib.pyplot as plt\n",
        "import numpy as np\n",
        "import ipywidgets as widgets"
      ],
      "cell_type": "code",
      "metadata": {
        "id": "An04d1AcINI-"
      },
      "execution_count": null,
      "outputs": []
    },
    {
      "cell_type": "code",
      "source": [],
      "metadata": {
        "id": "i-YL0ZVSIOWn"
      },
      "execution_count": null,
      "outputs": []
    },
    {
      "source": [
        "def prikazi_nebo(ura_int, lokacija, datum):\n",
        "    ura = str(ura_int) + \":00\"\n",
        "    \"\"\"Prikaže projekcijo nočnega neba ob dani uri, lokaciji in datumu.\"\"\"\n",
        "    # Naloži efemeride in podatke o zvezdah\n",
        "    eph = load('de421.bsp')\n",
        "    with load.open(hipparcos.URL) as f:\n",
        "        start_data = hipparcos.load_dataframe(f)\n",
        "\n",
        "    # Pretvori lokacijo in čas\n",
        "    locator = Nominatim(user_agent='myGeocoder')\n",
        "    lokacija = locator.geocode(lokacija)\n",
        "    lat, long = lokacija.latitude, lokacija.longitude\n",
        "\n",
        "    dt = datetime.strptime(datum + \" \" + ura, '%Y-%m-%d %H:%M')\n",
        "    tf = TimezoneFinder()\n",
        "    timezone_str = tf.timezone_at(lat=lat, lng=long)\n",
        "\n",
        "    local = timezone(timezone_str)\n",
        "    local_dt = local.localize(dt, is_dst=None)\n",
        "    utc_dt = local_dt.astimezone(utc)\n",
        "\n",
        "    # Nastavi opazovalca in projekcijo\n",
        "    ts = load.timescale()\n",
        "    t = ts.from_datetime(utc_dt)\n",
        "    observer = wgs84.latlon(latitude_degrees=lat, longitude_degrees=long).at(t)\n",
        "    ra, dec, distance = observer.radec()\n",
        "    center_object = Star(ra=ra, dec=dec)\n",
        "    center = earth.at(t).observe(center_object)\n",
        "    projection = build_stereographic_projection(center)\n",
        "\n",
        "    # Izračunaj pozicije zvezd\n",
        "    star_positions = earth.at(t).observe(Star.from_dataframe(start_data))\n",
        "    stars = projection(star_positions)\n",
        "\n",
        "    # Prikaži zvezdno karto\n",
        "    chart_size = 10\n",
        "    max_star_size = 100\n",
        "    limiting_magnitude = 3\n",
        "    bright_stars = (start_data.magnitude <= limiting_magnitude)\n",
        "    magnitude = start_data['magnitude'][bright_stars]\n",
        "\n",
        "    fig, ax = plt.subplots(figsize=(chart_size, chart_size))\n",
        "\n",
        "    border = plt.Circle((0, 0), 1, color='navy', fill=True)\n",
        "    ax.add_patch(border)\n",
        "    marker_size = max_star_size * 10 ** (magnitude / -2.5)\n",
        "    ax.scatter(stars[0][bright_stars], stars[1][bright_stars],\n",
        "               s=marker_size, color='white', marker='.', linewidths=0,\n",
        "               zorder=2)\n",
        "\n",
        "    horizon = Circle((0, 0), radius=1, transform=ax.transData)\n",
        "    for col in ax.collections:\n",
        "        col.set_clip_path(horizon)\n",
        "\n",
        "    ax.set_xlim(-1, 1)\n",
        "    ax.set_ylim(-1, 1)\n",
        "    plt.axis('off')\n",
        "    plt.show()\n",
        "\n",
        "def posodobi_animacijo(ura):\n",
        "    \"\"\"Posodobi animacijo z novo uro.\"\"\"\n",
        "    clear_output(wait=True)\n",
        "    prikazi_nebo(ura, lokacija, datum)"
      ],
      "cell_type": "code",
      "metadata": {
        "id": "u5VhixS3IPt8"
      },
      "execution_count": null,
      "outputs": []
    },
    {
      "cell_type": "code",
      "source": [],
      "metadata": {
        "id": "f4tZ6ziwIRjs"
      },
      "execution_count": null,
      "outputs": []
    },
    {
      "source": [
        "# Nastavitve\n",
        "lokacija = 'Koroška cesta 160, Maribor, SI'\n",
        "datum = '2025-04-23'\n",
        "\n",
        "# Drsnik za uro\n",
        "ura_drsnik = widgets.IntSlider(min=0, max=23, step=1, value=20, description='Ura:')\n",
        "\n",
        "# Interaktivni prikaz\n",
        "widgets.interactive(posodobi_animacijo, ura=ura_drsnik)"
      ],
      "cell_type": "code",
      "metadata": {
        "id": "beQRHyUrIS8n",
        "outputId": "abc7f9d4-929b-4fcd-d09d-1387242b1daa",
        "colab": {
          "base_uri": "https://localhost:8080/",
          "height": 839,
          "referenced_widgets": [
            "10a92278117a4b8aa6cc1fd805c63540",
            "2fe2032b621f4546913c57ba25d6efb9",
            "3e7a6db9a9a141aab9f7478142b6c46f",
            "bf60cf775d544417bc36cf7e9f2cffc5",
            "751bb5c79f7b4e0aa6cf85e018898f25",
            "50fbb1c0eb5d4363988dd54985b14f12",
            "fa7e31f7ded74fbf99ec5c8a5b3459c7"
          ]
        }
      },
      "execution_count": null,
      "outputs": [
        {
          "output_type": "display_data",
          "data": {
            "text/plain": [
              "interactive(children=(IntSlider(value=20, description='Ura:', max=23), Output()), _dom_classes=('widget-intera…"
            ],
            "application/vnd.jupyter.widget-view+json": {
              "version_major": 2,
              "version_minor": 0,
              "model_id": "10a92278117a4b8aa6cc1fd805c63540"
            }
          },
          "metadata": {}
        }
      ]
    },
    {
      "cell_type": "code",
      "source": [],
      "metadata": {
        "id": "CXuLNme8ITlb"
      },
      "execution_count": null,
      "outputs": []
    }
  ]
}